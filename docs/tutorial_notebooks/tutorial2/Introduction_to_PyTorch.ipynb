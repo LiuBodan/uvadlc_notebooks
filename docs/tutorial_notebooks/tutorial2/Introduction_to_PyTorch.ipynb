{
  "cells": [
    {
      "cell_type": "markdown",
      "metadata": {
        "id": "2TOcVFWzQRbT"
      },
      "source": [
        "# Tutorial 2: Introduction to PyTorch\n",
        "\n",
        "![Status](https://img.shields.io/static/v1.svg?label=Status&message=Finished&color=green)\n",
        "\n",
        "**Filled notebook:** \n",
        "[![View filled on Github](https://img.shields.io/static/v1.svg?logo=github&label=Repo&message=View%20On%20Github&color=lightgrey)](https://github.com/phlippe/uvadlc_notebooks/blob/master/docs/tutorial_notebooks/tutorial2/Introduction_to_PyTorch.ipynb)\n",
        "[![Open filled In Collab](https://colab.research.google.com/assets/colab-badge.svg)](https://colab.research.google.com/github/phlippe/uvadlc_notebooks/blob/master/docs/tutorial_notebooks/tutorial2/Introduction_to_PyTorch.ipynb)   \n",
        "**Recordings:** \n",
        "[![YouTube - Part 1](https://img.shields.io/static/v1.svg?logo=youtube&label=YouTube&message=Part%201&color=red)](https://youtu.be/wnKZZgFQY-E)\n",
        "[![YouTube - Part 2](https://img.shields.io/static/v1.svg?logo=youtube&label=YouTube&message=Part%202&color=red)](https://youtu.be/schbjeU5X2g)    \n",
        "**Author:** Phillip Lippe"
      ]
    },
    {
      "cell_type": "markdown",
      "metadata": {
        "id": "1v-GWzBcQRbW"
      },
      "source": [
        "Welcome to our PyTorch tutorial for the Deep Learning course 2022 at the University of Amsterdam! The following notebook is meant to give a short introduction to PyTorch basics, and get you setup for writing your own neural networks. PyTorch is an open source machine learning framework that allows you to write your own neural networks and optimize them efficiently. However, PyTorch is not the only framework of its kind. Alternatives to PyTorch include [TensorFlow](https://www.tensorflow.org/), [JAX](https://github.com/google/jax#quickstart-colab-in-the-cloud) and [Caffe](http://caffe.berkeleyvision.org/). We choose to teach PyTorch at the University of Amsterdam because it is well established, has a huge developer community (originally developed by Facebook), is very flexible and especially used in research. Many current papers publish their code in PyTorch, and thus it is good to be familiar with PyTorch as well. \n",
        "Meanwhile, TensorFlow (developed by Google) is usually known for being a production-grade deep learning library. Still, if you know one machine learning framework in depth, it is very easy to learn another one because many of them use the same concepts and ideas. For instance, TensorFlow's version 2 was heavily inspired by the most popular features of PyTorch, making the frameworks even more similar. \n",
        "If you are already familiar with PyTorch and have created your own neural network projects, feel free to just skim this notebook.\n",
        "\n",
        "We are of course not the first ones to create a PyTorch tutorial. There are many great tutorials online, including the [\"60-min blitz\"](https://pytorch.org/tutorials/beginner/deep_learning_60min_blitz.html) on the official [PyTorch website](https://pytorch.org/tutorials/). Yet, we choose to create our own tutorial which is designed to give you the basics particularly necessary for the practicals, but still understand how PyTorch works under the hood. Over the next few weeks, we will also keep exploring new PyTorch features in the series of Jupyter notebook tutorials about deep learning. \n",
        "\n",
        "We will use a set of standard libraries that are often used in machine learning projects. If you are running this notebook on Google Colab, all libraries should be pre-installed. If you are running this notebook locally, make sure you have installed our `dl2022` environment and have activated it."
      ]
    },
    {
      "cell_type": "code",
      "execution_count": 1,
      "metadata": {
        "colab": {
          "base_uri": "https://localhost:8080/"
        },
        "id": "_DvRDUu1QRbW",
        "outputId": "1f14ff05-96b9-467a-e236-e00eb24a467e"
      },
      "outputs": [
        {
          "output_type": "stream",
          "name": "stderr",
          "text": [
            "<ipython-input-1-dfcb9335bd52>:11: DeprecationWarning: `set_matplotlib_formats` is deprecated since IPython 7.23, directly use `matplotlib_inline.backend_inline.set_matplotlib_formats()`\n",
            "  set_matplotlib_formats('svg', 'pdf') # For export\n"
          ]
        }
      ],
      "source": [
        "## Standard libraries\n",
        "import os\n",
        "import math\n",
        "import numpy as np \n",
        "import time\n",
        "\n",
        "## Imports for plotting\n",
        "import matplotlib.pyplot as plt\n",
        "%matplotlib inline \n",
        "from IPython.display import set_matplotlib_formats\n",
        "set_matplotlib_formats('svg', 'pdf') # For export\n",
        "from matplotlib.colors import to_rgba\n",
        "import seaborn as sns\n",
        "sns.set()\n",
        "\n",
        "## Progress bar\n",
        "from tqdm.notebook import tqdm"
      ]
    },
    {
      "cell_type": "markdown",
      "source": [
        "## Basics of numpy"
      ],
      "metadata": {
        "id": "AGKNqEdFZLI7"
      }
    },
    {
      "cell_type": "code",
      "source": [
        "import numpy as np\n",
        "\n",
        "a = np.arange(0,5)\n",
        "a[[0,0,0,1,1]] += 1 # only add 1 once\n",
        "a"
      ],
      "metadata": {
        "id": "JOy_yaPlZSim",
        "outputId": "4978815f-221c-4746-d8c4-70863b97fc1c",
        "colab": {
          "base_uri": "https://localhost:8080/"
        }
      },
      "execution_count": 12,
      "outputs": [
        {
          "output_type": "execute_result",
          "data": {
            "text/plain": [
              "array([1, 2, 2, 3, 4])"
            ]
          },
          "metadata": {},
          "execution_count": 12
        }
      ]
    },
    {
      "cell_type": "code",
      "source": [
        "x = np.linspace(-1, 1, 5)\n",
        "y = np.linspace(-1, 1, 5)\n",
        "\n",
        "# Use meshgrid to create a 2D grid of coordinates\n",
        "X, Y = np.meshgrid(x, y)\n",
        "print(x)\n",
        "print(X)\n",
        "print(y)\n",
        "print(Y)\n",
        "print(X+Y*1j)"
      ],
      "metadata": {
        "id": "00DeqtIoaEw8",
        "outputId": "212fb2f8-d195-4b78-fb83-efc69e0caa27",
        "colab": {
          "base_uri": "https://localhost:8080/"
        }
      },
      "execution_count": 16,
      "outputs": [
        {
          "output_type": "stream",
          "name": "stdout",
          "text": [
            "[-1.  -0.5  0.   0.5  1. ]\n",
            "[[-1.  -0.5  0.   0.5  1. ]\n",
            " [-1.  -0.5  0.   0.5  1. ]\n",
            " [-1.  -0.5  0.   0.5  1. ]\n",
            " [-1.  -0.5  0.   0.5  1. ]\n",
            " [-1.  -0.5  0.   0.5  1. ]]\n",
            "[-1.  -0.5  0.   0.5  1. ]\n",
            "[[-1.  -1.  -1.  -1.  -1. ]\n",
            " [-0.5 -0.5 -0.5 -0.5 -0.5]\n",
            " [ 0.   0.   0.   0.   0. ]\n",
            " [ 0.5  0.5  0.5  0.5  0.5]\n",
            " [ 1.   1.   1.   1.   1. ]]\n",
            "[[-1. -1.j  -0.5-1.j   0. -1.j   0.5-1.j   1. -1.j ]\n",
            " [-1. -0.5j -0.5-0.5j  0. -0.5j  0.5-0.5j  1. -0.5j]\n",
            " [-1. +0.j  -0.5+0.j   0. +0.j   0.5+0.j   1. +0.j ]\n",
            " [-1. +0.5j -0.5+0.5j  0. +0.5j  0.5+0.5j  1. +0.5j]\n",
            " [-1. +1.j  -0.5+1.j   0. +1.j   0.5+1.j   1. +1.j ]]\n"
          ]
        }
      ]
    },
    {
      "cell_type": "code",
      "source": [
        "import matplotlib.pyplot as plt\n",
        "# https://numpy.org/devdocs/user/quickstart.html\n",
        "def mandelbrot(h, w, maxit=60, r=2):\n",
        "    \"\"\"Returns an image of the Mandelbrot fractal of size (h,w).\"\"\"\n",
        "    x = np.linspace(-2.5, 1.5, 4*h+1)\n",
        "    y = np.linspace(-1.5, 1.5, 3*w+1)\n",
        "    A, B = np.meshgrid(x, y)\n",
        "    C = A + B*1j\n",
        "    z = np.zeros_like(C)\n",
        "    divtime = maxit + np.zeros(z.shape, dtype=int)\n",
        "\n",
        "    for i in range(maxit):\n",
        "        z = z**2 + C\n",
        "        diverge = abs(z) > r                    # who is diverging\n",
        "        div_now = diverge & (divtime == maxit)  # who is diverging now\n",
        "        divtime[div_now] = i                    # note when\n",
        "        z[diverge] = r                          # avoid diverging too much\n",
        "\n",
        "    return divtime\n",
        "plt.clf()\n",
        "plt.imshow(mandelbrot(400, 400))"
      ],
      "metadata": {
        "id": "V8_EgiwBZOz0",
        "outputId": "bfe4e5e7-4555-42bb-dbba-017430abd7cb",
        "colab": {
          "base_uri": "https://localhost:8080/",
          "height": 445
        }
      },
      "execution_count": 18,
      "outputs": [
        {
          "output_type": "execute_result",
          "data": {
            "text/plain": [
              "<matplotlib.image.AxesImage at 0x7feea83a31f0>"
            ]
          },
          "metadata": {},
          "execution_count": 18
        },
        {
          "output_type": "display_data",
          "data": {
            "text/plain": [
              "<Figure size 640x480 with 1 Axes>"
            ],
            "image/svg+xml": "<?xml version=\"1.0\" encoding=\"utf-8\" standalone=\"no\"?>\n<!DOCTYPE svg PUBLIC \"-//W3C//DTD SVG 1.1//EN\"\n  \"http://www.w3.org/Graphics/SVG/1.1/DTD/svg11.dtd\">\n<svg xmlns:xlink=\"http://www.w3.org/1999/xlink\" width=\"420.523854pt\" height=\"304.72629pt\" viewBox=\"0 0 420.523854 304.72629\" xmlns=\"http://www.w3.org/2000/svg\" version=\"1.1\">\n <metadata>\n  <rdf:RDF xmlns:dc=\"http://purl.org/dc/elements/1.1/\" xmlns:cc=\"http://creativecommons.org/ns#\" xmlns:rdf=\"http://www.w3.org/1999/02/22-rdf-syntax-ns#\">\n   <cc:Work>\n    <dc:type rdf:resource=\"http://purl.org/dc/dcmitype/StillImage\"/>\n    <dc:date>2023-04-06T11:57:16.910887</dc:date>\n    <dc:format>image/svg+xml</dc:format>\n    <dc:creator>\n     <cc:Agent>\n      <dc:title>Matplotlib v3.7.1, https://matplotlib.org/</dc:title>\n     </cc:Agent>\n    </dc:creator>\n   </cc:Work>\n  </rdf:RDF>\n </metadata>\n <defs>\n  <style type=\"text/css\">*{stroke-linejoin: round; stroke-linecap: butt}</style>\n </defs>\n <g id=\"figure_1\">\n  <g id=\"patch_1\">\n   <path d=\"M 0 304.72629 \nL 420.523854 304.72629 \nL 420.523854 0 \nL 0 0 \nz\n\" style=\"fill: #ffffff\"/>\n  </g>\n  <g id=\"axes_1\">\n   <g id=\"patch_2\">\n    <path d=\"M 44.695 277.380353 \nL 399.437142 277.380353 \nL 399.437142 11.268353 \nL 44.695 11.268353 \nz\n\" style=\"fill: #eaeaf2\"/>\n   </g>\n   <g clip-path=\"url(#padec3bbb31)\">\n    <image xlink:href=\"data:image/png;base64,\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\" id=\"image5245e8bb72\" transform=\"scale(1 -1) translate(0 -266.4)\" x=\"44.695\" y=\"-10.980353\" width=\"354.96\" height=\"266.4\"/>\n   </g>\n   <g id=\"matplotlib.axis_1\">\n    <g id=\"xtick_1\">\n     <g id=\"line2d_1\">\n      <path d=\"M 44.805788 277.380353 \nL 44.805788 11.268353 \n\" clip-path=\"url(#padec3bbb31)\" style=\"fill: none; stroke: #ffffff; stroke-linecap: round\"/>\n     </g>\n     <g id=\"text_1\">\n      <!-- 0 -->\n      <g style=\"fill: #262626\" transform=\"translate(41.306413 295.238634) scale(0.11 -0.11)\">\n       <defs>\n        <path id=\"DejaVuSans-30\" d=\"M 2034 4250 \nQ 1547 4250 1301 3770 \nQ 1056 3291 1056 2328 \nQ 1056 1369 1301 889 \nQ 1547 409 2034 409 \nQ 2525 409 2770 889 \nQ 3016 1369 3016 2328 \nQ 3016 3291 2770 3770 \nQ 2525 4250 2034 4250 \nz\nM 2034 4750 \nQ 2819 4750 3233 4129 \nQ 3647 3509 3647 2328 \nQ 3647 1150 3233 529 \nQ 2819 -91 2034 -91 \nQ 1250 -91 836 529 \nQ 422 1150 422 2328 \nQ 422 3509 836 4129 \nQ 1250 4750 2034 4750 \nz\n\" transform=\"scale(0.015625)\"/>\n       </defs>\n       <use xlink:href=\"#DejaVuSans-30\"/>\n      </g>\n     </g>\n    </g>\n    <g id=\"xtick_2\">\n     <g id=\"line2d_2\">\n      <path d=\"M 89.120858 277.380353 \nL 89.120858 11.268353 \n\" clip-path=\"url(#padec3bbb31)\" style=\"fill: none; stroke: #ffffff; stroke-linecap: round\"/>\n     </g>\n     <g id=\"text_2\">\n      <!-- 200 -->\n      <g style=\"fill: #262626\" transform=\"translate(78.622733 295.238634) scale(0.11 -0.11)\">\n       <defs>\n        <path id=\"DejaVuSans-32\" d=\"M 1228 531 \nL 3431 531 \nL 3431 0 \nL 469 0 \nL 469 531 \nQ 828 903 1448 1529 \nQ 2069 2156 2228 2338 \nQ 2531 2678 2651 2914 \nQ 2772 3150 2772 3378 \nQ 2772 3750 2511 3984 \nQ 2250 4219 1831 4219 \nQ 1534 4219 1204 4116 \nQ 875 4013 500 3803 \nL 500 4441 \nQ 881 4594 1212 4672 \nQ 1544 4750 1819 4750 \nQ 2544 4750 2975 4387 \nQ 3406 4025 3406 3419 \nQ 3406 3131 3298 2873 \nQ 3191 2616 2906 2266 \nQ 2828 2175 2409 1742 \nQ 1991 1309 1228 531 \nz\n\" transform=\"scale(0.015625)\"/>\n       </defs>\n       <use xlink:href=\"#DejaVuSans-32\"/>\n       <use xlink:href=\"#DejaVuSans-30\" x=\"63.623047\"/>\n       <use xlink:href=\"#DejaVuSans-30\" x=\"127.246094\"/>\n      </g>\n     </g>\n    </g>\n    <g id=\"xtick_3\">\n     <g id=\"line2d_3\">\n      <path d=\"M 133.435929 277.380353 \nL 133.435929 11.268353 \n\" clip-path=\"url(#padec3bbb31)\" style=\"fill: none; stroke: #ffffff; stroke-linecap: round\"/>\n     </g>\n     <g id=\"text_3\">\n      <!-- 400 -->\n      <g style=\"fill: #262626\" transform=\"translate(122.937804 295.238634) scale(0.11 -0.11)\">\n       <defs>\n        <path id=\"DejaVuSans-34\" d=\"M 2419 4116 \nL 825 1625 \nL 2419 1625 \nL 2419 4116 \nz\nM 2253 4666 \nL 3047 4666 \nL 3047 1625 \nL 3713 1625 \nL 3713 1100 \nL 3047 1100 \nL 3047 0 \nL 2419 0 \nL 2419 1100 \nL 313 1100 \nL 313 1709 \nL 2253 4666 \nz\n\" transform=\"scale(0.015625)\"/>\n       </defs>\n       <use xlink:href=\"#DejaVuSans-34\"/>\n       <use xlink:href=\"#DejaVuSans-30\" x=\"63.623047\"/>\n       <use xlink:href=\"#DejaVuSans-30\" x=\"127.246094\"/>\n      </g>\n     </g>\n    </g>\n    <g id=\"xtick_4\">\n     <g id=\"line2d_4\">\n      <path d=\"M 177.751 277.380353 \nL 177.751 11.268353 \n\" clip-path=\"url(#padec3bbb31)\" style=\"fill: none; stroke: #ffffff; stroke-linecap: round\"/>\n     </g>\n     <g id=\"text_4\">\n      <!-- 600 -->\n      <g style=\"fill: #262626\" transform=\"translate(167.252875 295.238634) scale(0.11 -0.11)\">\n       <defs>\n        <path id=\"DejaVuSans-36\" d=\"M 2113 2584 \nQ 1688 2584 1439 2293 \nQ 1191 2003 1191 1497 \nQ 1191 994 1439 701 \nQ 1688 409 2113 409 \nQ 2538 409 2786 701 \nQ 3034 994 3034 1497 \nQ 3034 2003 2786 2293 \nQ 2538 2584 2113 2584 \nz\nM 3366 4563 \nL 3366 3988 \nQ 3128 4100 2886 4159 \nQ 2644 4219 2406 4219 \nQ 1781 4219 1451 3797 \nQ 1122 3375 1075 2522 \nQ 1259 2794 1537 2939 \nQ 1816 3084 2150 3084 \nQ 2853 3084 3261 2657 \nQ 3669 2231 3669 1497 \nQ 3669 778 3244 343 \nQ 2819 -91 2113 -91 \nQ 1303 -91 875 529 \nQ 447 1150 447 2328 \nQ 447 3434 972 4092 \nQ 1497 4750 2381 4750 \nQ 2619 4750 2861 4703 \nQ 3103 4656 3366 4563 \nz\n\" transform=\"scale(0.015625)\"/>\n       </defs>\n       <use xlink:href=\"#DejaVuSans-36\"/>\n       <use xlink:href=\"#DejaVuSans-30\" x=\"63.623047\"/>\n       <use xlink:href=\"#DejaVuSans-30\" x=\"127.246094\"/>\n      </g>\n     </g>\n    </g>\n    <g id=\"xtick_5\">\n     <g id=\"line2d_5\">\n      <path d=\"M 222.066071 277.380353 \nL 222.066071 11.268353 \n\" clip-path=\"url(#padec3bbb31)\" style=\"fill: none; stroke: #ffffff; stroke-linecap: round\"/>\n     </g>\n     <g id=\"text_5\">\n      <!-- 800 -->\n      <g style=\"fill: #262626\" transform=\"translate(211.567946 295.238634) scale(0.11 -0.11)\">\n       <defs>\n        <path id=\"DejaVuSans-38\" d=\"M 2034 2216 \nQ 1584 2216 1326 1975 \nQ 1069 1734 1069 1313 \nQ 1069 891 1326 650 \nQ 1584 409 2034 409 \nQ 2484 409 2743 651 \nQ 3003 894 3003 1313 \nQ 3003 1734 2745 1975 \nQ 2488 2216 2034 2216 \nz\nM 1403 2484 \nQ 997 2584 770 2862 \nQ 544 3141 544 3541 \nQ 544 4100 942 4425 \nQ 1341 4750 2034 4750 \nQ 2731 4750 3128 4425 \nQ 3525 4100 3525 3541 \nQ 3525 3141 3298 2862 \nQ 3072 2584 2669 2484 \nQ 3125 2378 3379 2068 \nQ 3634 1759 3634 1313 \nQ 3634 634 3220 271 \nQ 2806 -91 2034 -91 \nQ 1263 -91 848 271 \nQ 434 634 434 1313 \nQ 434 1759 690 2068 \nQ 947 2378 1403 2484 \nz\nM 1172 3481 \nQ 1172 3119 1398 2916 \nQ 1625 2713 2034 2713 \nQ 2441 2713 2670 2916 \nQ 2900 3119 2900 3481 \nQ 2900 3844 2670 4047 \nQ 2441 4250 2034 4250 \nQ 1625 4250 1398 4047 \nQ 1172 3844 1172 3481 \nz\n\" transform=\"scale(0.015625)\"/>\n       </defs>\n       <use xlink:href=\"#DejaVuSans-38\"/>\n       <use xlink:href=\"#DejaVuSans-30\" x=\"63.623047\"/>\n       <use xlink:href=\"#DejaVuSans-30\" x=\"127.246094\"/>\n      </g>\n     </g>\n    </g>\n    <g id=\"xtick_6\">\n     <g id=\"line2d_6\">\n      <path d=\"M 266.381142 277.380353 \nL 266.381142 11.268353 \n\" clip-path=\"url(#padec3bbb31)\" style=\"fill: none; stroke: #ffffff; stroke-linecap: round\"/>\n     </g>\n     <g id=\"text_6\">\n      <!-- 1000 -->\n      <g style=\"fill: #262626\" transform=\"translate(252.383642 295.238634) scale(0.11 -0.11)\">\n       <defs>\n        <path id=\"DejaVuSans-31\" d=\"M 794 531 \nL 1825 531 \nL 1825 4091 \nL 703 3866 \nL 703 4441 \nL 1819 4666 \nL 2450 4666 \nL 2450 531 \nL 3481 531 \nL 3481 0 \nL 794 0 \nL 794 531 \nz\n\" transform=\"scale(0.015625)\"/>\n       </defs>\n       <use xlink:href=\"#DejaVuSans-31\"/>\n       <use xlink:href=\"#DejaVuSans-30\" x=\"63.623047\"/>\n       <use xlink:href=\"#DejaVuSans-30\" x=\"127.246094\"/>\n       <use xlink:href=\"#DejaVuSans-30\" x=\"190.869141\"/>\n      </g>\n     </g>\n    </g>\n    <g id=\"xtick_7\">\n     <g id=\"line2d_7\">\n      <path d=\"M 310.696212 277.380353 \nL 310.696212 11.268353 \n\" clip-path=\"url(#padec3bbb31)\" style=\"fill: none; stroke: #ffffff; stroke-linecap: round\"/>\n     </g>\n     <g id=\"text_7\">\n      <!-- 1200 -->\n      <g style=\"fill: #262626\" transform=\"translate(296.698712 295.238634) scale(0.11 -0.11)\">\n       <use xlink:href=\"#DejaVuSans-31\"/>\n       <use xlink:href=\"#DejaVuSans-32\" x=\"63.623047\"/>\n       <use xlink:href=\"#DejaVuSans-30\" x=\"127.246094\"/>\n       <use xlink:href=\"#DejaVuSans-30\" x=\"190.869141\"/>\n      </g>\n     </g>\n    </g>\n    <g id=\"xtick_8\">\n     <g id=\"line2d_8\">\n      <path d=\"M 355.011283 277.380353 \nL 355.011283 11.268353 \n\" clip-path=\"url(#padec3bbb31)\" style=\"fill: none; stroke: #ffffff; stroke-linecap: round\"/>\n     </g>\n     <g id=\"text_8\">\n      <!-- 1400 -->\n      <g style=\"fill: #262626\" transform=\"translate(341.013783 295.238634) scale(0.11 -0.11)\">\n       <use xlink:href=\"#DejaVuSans-31\"/>\n       <use xlink:href=\"#DejaVuSans-34\" x=\"63.623047\"/>\n       <use xlink:href=\"#DejaVuSans-30\" x=\"127.246094\"/>\n       <use xlink:href=\"#DejaVuSans-30\" x=\"190.869141\"/>\n      </g>\n     </g>\n    </g>\n    <g id=\"xtick_9\">\n     <g id=\"line2d_9\">\n      <path d=\"M 399.326354 277.380353 \nL 399.326354 11.268353 \n\" clip-path=\"url(#padec3bbb31)\" style=\"fill: none; stroke: #ffffff; stroke-linecap: round\"/>\n     </g>\n     <g id=\"text_9\">\n      <!-- 1600 -->\n      <g style=\"fill: #262626\" transform=\"translate(385.328854 295.238634) scale(0.11 -0.11)\">\n       <use xlink:href=\"#DejaVuSans-31\"/>\n       <use xlink:href=\"#DejaVuSans-36\" x=\"63.623047\"/>\n       <use xlink:href=\"#DejaVuSans-30\" x=\"127.246094\"/>\n       <use xlink:href=\"#DejaVuSans-30\" x=\"190.869141\"/>\n      </g>\n     </g>\n    </g>\n   </g>\n   <g id=\"matplotlib.axis_2\">\n    <g id=\"ytick_1\">\n     <g id=\"line2d_10\">\n      <path d=\"M 44.695 11.379141 \nL 399.437142 11.379141 \n\" clip-path=\"url(#padec3bbb31)\" style=\"fill: none; stroke: #ffffff; stroke-linecap: round\"/>\n     </g>\n     <g id=\"text_10\">\n      <!-- 0 -->\n      <g style=\"fill: #262626\" transform=\"translate(28.19625 15.558281) scale(0.11 -0.11)\">\n       <use xlink:href=\"#DejaVuSans-30\"/>\n      </g>\n     </g>\n    </g>\n    <g id=\"ytick_2\">\n     <g id=\"line2d_11\">\n      <path d=\"M 44.695 55.694211 \nL 399.437142 55.694211 \n\" clip-path=\"url(#padec3bbb31)\" style=\"fill: none; stroke: #ffffff; stroke-linecap: round\"/>\n     </g>\n     <g id=\"text_11\">\n      <!-- 200 -->\n      <g style=\"fill: #262626\" transform=\"translate(14.19875 59.873352) scale(0.11 -0.11)\">\n       <use xlink:href=\"#DejaVuSans-32\"/>\n       <use xlink:href=\"#DejaVuSans-30\" x=\"63.623047\"/>\n       <use xlink:href=\"#DejaVuSans-30\" x=\"127.246094\"/>\n      </g>\n     </g>\n    </g>\n    <g id=\"ytick_3\">\n     <g id=\"line2d_12\">\n      <path d=\"M 44.695 100.009282 \nL 399.437142 100.009282 \n\" clip-path=\"url(#padec3bbb31)\" style=\"fill: none; stroke: #ffffff; stroke-linecap: round\"/>\n     </g>\n     <g id=\"text_12\">\n      <!-- 400 -->\n      <g style=\"fill: #262626\" transform=\"translate(14.19875 104.188423) scale(0.11 -0.11)\">\n       <use xlink:href=\"#DejaVuSans-34\"/>\n       <use xlink:href=\"#DejaVuSans-30\" x=\"63.623047\"/>\n       <use xlink:href=\"#DejaVuSans-30\" x=\"127.246094\"/>\n      </g>\n     </g>\n    </g>\n    <g id=\"ytick_4\">\n     <g id=\"line2d_13\">\n      <path d=\"M 44.695 144.324353 \nL 399.437142 144.324353 \n\" clip-path=\"url(#padec3bbb31)\" style=\"fill: none; stroke: #ffffff; stroke-linecap: round\"/>\n     </g>\n     <g id=\"text_13\">\n      <!-- 600 -->\n      <g style=\"fill: #262626\" transform=\"translate(14.19875 148.503494) scale(0.11 -0.11)\">\n       <use xlink:href=\"#DejaVuSans-36\"/>\n       <use xlink:href=\"#DejaVuSans-30\" x=\"63.623047\"/>\n       <use xlink:href=\"#DejaVuSans-30\" x=\"127.246094\"/>\n      </g>\n     </g>\n    </g>\n    <g id=\"ytick_5\">\n     <g id=\"line2d_14\">\n      <path d=\"M 44.695 188.639424 \nL 399.437142 188.639424 \n\" clip-path=\"url(#padec3bbb31)\" style=\"fill: none; stroke: #ffffff; stroke-linecap: round\"/>\n     </g>\n     <g id=\"text_14\">\n      <!-- 800 -->\n      <g style=\"fill: #262626\" transform=\"translate(14.19875 192.818564) scale(0.11 -0.11)\">\n       <use xlink:href=\"#DejaVuSans-38\"/>\n       <use xlink:href=\"#DejaVuSans-30\" x=\"63.623047\"/>\n       <use xlink:href=\"#DejaVuSans-30\" x=\"127.246094\"/>\n      </g>\n     </g>\n    </g>\n    <g id=\"ytick_6\">\n     <g id=\"line2d_15\">\n      <path d=\"M 44.695 232.954494 \nL 399.437142 232.954494 \n\" clip-path=\"url(#padec3bbb31)\" style=\"fill: none; stroke: #ffffff; stroke-linecap: round\"/>\n     </g>\n     <g id=\"text_15\">\n      <!-- 1000 -->\n      <g style=\"fill: #262626\" transform=\"translate(7.2 237.133635) scale(0.11 -0.11)\">\n       <use xlink:href=\"#DejaVuSans-31\"/>\n       <use xlink:href=\"#DejaVuSans-30\" x=\"63.623047\"/>\n       <use xlink:href=\"#DejaVuSans-30\" x=\"127.246094\"/>\n       <use xlink:href=\"#DejaVuSans-30\" x=\"190.869141\"/>\n      </g>\n     </g>\n    </g>\n    <g id=\"ytick_7\">\n     <g id=\"line2d_16\">\n      <path d=\"M 44.695 277.269565 \nL 399.437142 277.269565 \n\" clip-path=\"url(#padec3bbb31)\" style=\"fill: none; stroke: #ffffff; stroke-linecap: round\"/>\n     </g>\n     <g id=\"text_16\">\n      <!-- 1200 -->\n      <g style=\"fill: #262626\" transform=\"translate(7.2 281.448706) scale(0.11 -0.11)\">\n       <use xlink:href=\"#DejaVuSans-31\"/>\n       <use xlink:href=\"#DejaVuSans-32\" x=\"63.623047\"/>\n       <use xlink:href=\"#DejaVuSans-30\" x=\"127.246094\"/>\n       <use xlink:href=\"#DejaVuSans-30\" x=\"190.869141\"/>\n      </g>\n     </g>\n    </g>\n   </g>\n   <g id=\"patch_3\">\n    <path d=\"M 44.695 277.380353 \nL 44.695 11.268353 \n\" style=\"fill: none; stroke: #ffffff; stroke-width: 1.25; stroke-linejoin: miter; stroke-linecap: square\"/>\n   </g>\n   <g id=\"patch_4\">\n    <path d=\"M 399.437142 277.380353 \nL 399.437142 11.268353 \n\" style=\"fill: none; stroke: #ffffff; stroke-width: 1.25; stroke-linejoin: miter; stroke-linecap: square\"/>\n   </g>\n   <g id=\"patch_5\">\n    <path d=\"M 44.695 277.380353 \nL 399.437142 277.380353 \n\" style=\"fill: none; stroke: #ffffff; stroke-width: 1.25; stroke-linejoin: miter; stroke-linecap: square\"/>\n   </g>\n   <g id=\"patch_6\">\n    <path d=\"M 44.695 11.268353 \nL 399.437142 11.268353 \n\" style=\"fill: none; stroke: #ffffff; stroke-width: 1.25; stroke-linejoin: miter; stroke-linecap: square\"/>\n   </g>\n  </g>\n </g>\n <defs>\n  <clipPath id=\"padec3bbb31\">\n   <rect x=\"44.695\" y=\"11.268353\" width=\"354.742142\" height=\"266.112\"/>\n  </clipPath>\n </defs>\n</svg>\n",
            "application/pdf": "[encoded data removed]"
          },
          "metadata": {}
        }
      ]
    },
    {
      "cell_type": "code",
      "source": [
        "import numpy as np\n",
        "rg = np.random.default_rng(1)\n",
        "import matplotlib.pyplot as plt\n",
        "# Build a vector of 10000 normal deviates with variance 0.5^2 and mean 2\n",
        "mu, sigma = 2, 0.5\n",
        "v = rg.normal(mu, sigma, 10000)\n",
        "# Plot a normalized histogram with 50 bins\n",
        "plt.hist(v, bins=50, density=True)       # matplotlib version (plot)\n",
        "\n",
        "# Compute the histogram with numpy and then plot it\n",
        "(n, bins) = np.histogram(v, bins=50, density=True)  # NumPy version (no plot)\n",
        "plt.plot(.5 * (bins[1:] + bins[:-1]), n)"
      ],
      "metadata": {
        "id": "4E87beYkdj8Q",
        "outputId": "0d0833a5-0fb6-4dc5-a454-0d88fbc5e285",
        "colab": {
          "base_uri": "https://localhost:8080/",
          "height": 440
        }
      },
      "execution_count": 22,
      "outputs": [
        {
          "output_type": "execute_result",
          "data": {
            "text/plain": [
              "[<matplotlib.lines.Line2D at 0x7feea803cb50>]"
            ]
          },
          "metadata": {},
          "execution_count": 22
        },
        {
          "output_type": "display_data",
          "data": {
            "text/plain": [
              "<Figure size 640x480 with 1 Axes>"
            ],
            "image/svg+xml": "<?xml version=\"1.0\" encoding=\"utf-8\" standalone=\"no\"?>\n<!DOCTYPE svg PUBLIC \"-//W3C//DTD SVG 1.1//EN\"\n  \"http://www.w3.org/Graphics/SVG/1.1/DTD/svg11.dtd\">\n<svg xmlns:xlink=\"http://www.w3.org/1999/xlink\" width=\"398.513437pt\" height=\"300.657937pt\" viewBox=\"0 0 398.513437 300.657937\" xmlns=\"http://www.w3.org/2000/svg\" version=\"1.1\">\n <metadata>\n  <rdf:RDF xmlns:dc=\"http://purl.org/dc/elements/1.1/\" xmlns:cc=\"http://creativecommons.org/ns#\" xmlns:rdf=\"http://www.w3.org/1999/02/22-rdf-syntax-ns#\">\n   <cc:Work>\n    <dc:type rdf:resource=\"http://purl.org/dc/dcmitype/StillImage\"/>\n    <dc:date>2023-04-06T12:07:40.499578</dc:date>\n    <dc:format>image/svg+xml</dc:format>\n    <dc:creator>\n     <cc:Agent>\n      <dc:title>Matplotlib v3.7.1, https://matplotlib.org/</dc:title>\n     </cc:Agent>\n    </dc:creator>\n   </cc:Work>\n  </rdf:RDF>\n </metadata>\n <defs>\n  <style type=\"text/css\">*{stroke-linejoin: round; stroke-linecap: butt}</style>\n </defs>\n <g id=\"figure_1\">\n  <g id=\"patch_1\">\n   <path d=\"M 0 300.657937 \nL 398.513437 300.657937 \nL 398.513437 0 \nL 0 0 \nz\n\" style=\"fill: #ffffff\"/>\n  </g>\n  <g id=\"axes_1\">\n   <g id=\"patch_2\">\n    <path d=\"M 34.193438 273.312 \nL 391.313438 273.312 \nL 391.313438 7.2 \nL 34.193438 7.2 \nz\n\" style=\"fill: #eaeaf2\"/>\n   </g>\n   <g id=\"matplotlib.axis_1\">\n    <g id=\"xtick_1\">\n     <g id=\"line2d_1\">\n      <path d=\"M 43.651232 273.312 \nL 43.651232 7.2 \n\" clip-path=\"url(#p430c88866f)\" style=\"fill: none; stroke: #ffffff; stroke-linecap: round\"/>\n     </g>\n     <g id=\"text_1\">\n      <!-- 0.0 -->\n      <g style=\"fill: #262626\" transform=\"translate(34.904513 291.170281) scale(0.11 -0.11)\">\n       <defs>\n        <path id=\"DejaVuSans-30\" d=\"M 2034 4250 \nQ 1547 4250 1301 3770 \nQ 1056 3291 1056 2328 \nQ 1056 1369 1301 889 \nQ 1547 409 2034 409 \nQ 2525 409 2770 889 \nQ 3016 1369 3016 2328 \nQ 3016 3291 2770 3770 \nQ 2525 4250 2034 4250 \nz\nM 2034 4750 \nQ 2819 4750 3233 4129 \nQ 3647 3509 3647 2328 \nQ 3647 1150 3233 529 \nQ 2819 -91 2034 -91 \nQ 1250 -91 836 529 \nQ 422 1150 422 2328 \nQ 422 3509 836 4129 \nQ 1250 4750 2034 4750 \nz\n\" transform=\"scale(0.015625)\"/>\n        <path id=\"DejaVuSans-2e\" d=\"M 684 794 \nL 1344 794 \nL 1344 0 \nL 684 0 \nL 684 794 \nz\n\" transform=\"scale(0.015625)\"/>\n       </defs>\n       <use xlink:href=\"#DejaVuSans-30\"/>\n       <use xlink:href=\"#DejaVuSans-2e\" x=\"63.623047\"/>\n       <use xlink:href=\"#DejaVuSans-30\" x=\"95.410156\"/>\n      </g>\n     </g>\n    </g>\n    <g id=\"xtick_2\">\n     <g id=\"line2d_2\">\n      <path d=\"M 85.436249 273.312 \nL 85.436249 7.2 \n\" clip-path=\"url(#p430c88866f)\" style=\"fill: none; stroke: #ffffff; stroke-linecap: round\"/>\n     </g>\n     <g id=\"text_2\">\n      <!-- 0.5 -->\n      <g style=\"fill: #262626\" transform=\"translate(76.68953 291.170281) scale(0.11 -0.11)\">\n       <defs>\n        <path id=\"DejaVuSans-35\" d=\"M 691 4666 \nL 3169 4666 \nL 3169 4134 \nL 1269 4134 \nL 1269 2991 \nQ 1406 3038 1543 3061 \nQ 1681 3084 1819 3084 \nQ 2600 3084 3056 2656 \nQ 3513 2228 3513 1497 \nQ 3513 744 3044 326 \nQ 2575 -91 1722 -91 \nQ 1428 -91 1123 -41 \nQ 819 9 494 109 \nL 494 744 \nQ 775 591 1075 516 \nQ 1375 441 1709 441 \nQ 2250 441 2565 725 \nQ 2881 1009 2881 1497 \nQ 2881 1984 2565 2268 \nQ 2250 2553 1709 2553 \nQ 1456 2553 1204 2497 \nQ 953 2441 691 2322 \nL 691 4666 \nz\n\" transform=\"scale(0.015625)\"/>\n       </defs>\n       <use xlink:href=\"#DejaVuSans-30\"/>\n       <use xlink:href=\"#DejaVuSans-2e\" x=\"63.623047\"/>\n       <use xlink:href=\"#DejaVuSans-35\" x=\"95.410156\"/>\n      </g>\n     </g>\n    </g>\n    <g id=\"xtick_3\">\n     <g id=\"line2d_3\">\n      <path d=\"M 127.221267 273.312 \nL 127.221267 7.2 \n\" clip-path=\"url(#p430c88866f)\" style=\"fill: none; stroke: #ffffff; stroke-linecap: round\"/>\n     </g>\n     <g id=\"text_3\">\n      <!-- 1.0 -->\n      <g style=\"fill: #262626\" transform=\"translate(118.474548 291.170281) scale(0.11 -0.11)\">\n       <defs>\n        <path id=\"DejaVuSans-31\" d=\"M 794 531 \nL 1825 531 \nL 1825 4091 \nL 703 3866 \nL 703 4441 \nL 1819 4666 \nL 2450 4666 \nL 2450 531 \nL 3481 531 \nL 3481 0 \nL 794 0 \nL 794 531 \nz\n\" transform=\"scale(0.015625)\"/>\n       </defs>\n       <use xlink:href=\"#DejaVuSans-31\"/>\n       <use xlink:href=\"#DejaVuSans-2e\" x=\"63.623047\"/>\n       <use xlink:href=\"#DejaVuSans-30\" x=\"95.410156\"/>\n      </g>\n     </g>\n    </g>\n    <g id=\"xtick_4\">\n     <g id=\"line2d_4\">\n      <path d=\"M 169.006284 273.312 \nL 169.006284 7.2 \n\" clip-path=\"url(#p430c88866f)\" style=\"fill: none; stroke: #ffffff; stroke-linecap: round\"/>\n     </g>\n     <g id=\"text_4\">\n      <!-- 1.5 -->\n      <g style=\"fill: #262626\" transform=\"translate(160.259566 291.170281) scale(0.11 -0.11)\">\n       <use xlink:href=\"#DejaVuSans-31\"/>\n       <use xlink:href=\"#DejaVuSans-2e\" x=\"63.623047\"/>\n       <use xlink:href=\"#DejaVuSans-35\" x=\"95.410156\"/>\n      </g>\n     </g>\n    </g>\n    <g id=\"xtick_5\">\n     <g id=\"line2d_5\">\n      <path d=\"M 210.791302 273.312 \nL 210.791302 7.2 \n\" clip-path=\"url(#p430c88866f)\" style=\"fill: none; stroke: #ffffff; stroke-linecap: round\"/>\n     </g>\n     <g id=\"text_5\">\n      <!-- 2.0 -->\n      <g style=\"fill: #262626\" transform=\"translate(202.044583 291.170281) scale(0.11 -0.11)\">\n       <defs>\n        <path id=\"DejaVuSans-32\" d=\"M 1228 531 \nL 3431 531 \nL 3431 0 \nL 469 0 \nL 469 531 \nQ 828 903 1448 1529 \nQ 2069 2156 2228 2338 \nQ 2531 2678 2651 2914 \nQ 2772 3150 2772 3378 \nQ 2772 3750 2511 3984 \nQ 2250 4219 1831 4219 \nQ 1534 4219 1204 4116 \nQ 875 4013 500 3803 \nL 500 4441 \nQ 881 4594 1212 4672 \nQ 1544 4750 1819 4750 \nQ 2544 4750 2975 4387 \nQ 3406 4025 3406 3419 \nQ 3406 3131 3298 2873 \nQ 3191 2616 2906 2266 \nQ 2828 2175 2409 1742 \nQ 1991 1309 1228 531 \nz\n\" transform=\"scale(0.015625)\"/>\n       </defs>\n       <use xlink:href=\"#DejaVuSans-32\"/>\n       <use xlink:href=\"#DejaVuSans-2e\" x=\"63.623047\"/>\n       <use xlink:href=\"#DejaVuSans-30\" x=\"95.410156\"/>\n      </g>\n     </g>\n    </g>\n    <g id=\"xtick_6\">\n     <g id=\"line2d_6\">\n      <path d=\"M 252.57632 273.312 \nL 252.57632 7.2 \n\" clip-path=\"url(#p430c88866f)\" style=\"fill: none; stroke: #ffffff; stroke-linecap: round\"/>\n     </g>\n     <g id=\"text_6\">\n      <!-- 2.5 -->\n      <g style=\"fill: #262626\" transform=\"translate(243.829601 291.170281) scale(0.11 -0.11)\">\n       <use xlink:href=\"#DejaVuSans-32\"/>\n       <use xlink:href=\"#DejaVuSans-2e\" x=\"63.623047\"/>\n       <use xlink:href=\"#DejaVuSans-35\" x=\"95.410156\"/>\n      </g>\n     </g>\n    </g>\n    <g id=\"xtick_7\">\n     <g id=\"line2d_7\">\n      <path d=\"M 294.361337 273.312 \nL 294.361337 7.2 \n\" clip-path=\"url(#p430c88866f)\" style=\"fill: none; stroke: #ffffff; stroke-linecap: round\"/>\n     </g>\n     <g id=\"text_7\">\n      <!-- 3.0 -->\n      <g style=\"fill: #262626\" transform=\"translate(285.614619 291.170281) scale(0.11 -0.11)\">\n       <defs>\n        <path id=\"DejaVuSans-33\" d=\"M 2597 2516 \nQ 3050 2419 3304 2112 \nQ 3559 1806 3559 1356 \nQ 3559 666 3084 287 \nQ 2609 -91 1734 -91 \nQ 1441 -91 1130 -33 \nQ 819 25 488 141 \nL 488 750 \nQ 750 597 1062 519 \nQ 1375 441 1716 441 \nQ 2309 441 2620 675 \nQ 2931 909 2931 1356 \nQ 2931 1769 2642 2001 \nQ 2353 2234 1838 2234 \nL 1294 2234 \nL 1294 2753 \nL 1863 2753 \nQ 2328 2753 2575 2939 \nQ 2822 3125 2822 3475 \nQ 2822 3834 2567 4026 \nQ 2313 4219 1838 4219 \nQ 1578 4219 1281 4162 \nQ 984 4106 628 3988 \nL 628 4550 \nQ 988 4650 1302 4700 \nQ 1616 4750 1894 4750 \nQ 2613 4750 3031 4423 \nQ 3450 4097 3450 3541 \nQ 3450 3153 3228 2886 \nQ 3006 2619 2597 2516 \nz\n\" transform=\"scale(0.015625)\"/>\n       </defs>\n       <use xlink:href=\"#DejaVuSans-33\"/>\n       <use xlink:href=\"#DejaVuSans-2e\" x=\"63.623047\"/>\n       <use xlink:href=\"#DejaVuSans-30\" x=\"95.410156\"/>\n      </g>\n     </g>\n    </g>\n    <g id=\"xtick_8\">\n     <g id=\"line2d_8\">\n      <path d=\"M 336.146355 273.312 \nL 336.146355 7.2 \n\" clip-path=\"url(#p430c88866f)\" style=\"fill: none; stroke: #ffffff; stroke-linecap: round\"/>\n     </g>\n     <g id=\"text_8\">\n      <!-- 3.5 -->\n      <g style=\"fill: #262626\" transform=\"translate(327.399636 291.170281) scale(0.11 -0.11)\">\n       <use xlink:href=\"#DejaVuSans-33\"/>\n       <use xlink:href=\"#DejaVuSans-2e\" x=\"63.623047\"/>\n       <use xlink:href=\"#DejaVuSans-35\" x=\"95.410156\"/>\n      </g>\n     </g>\n    </g>\n    <g id=\"xtick_9\">\n     <g id=\"line2d_9\">\n      <path d=\"M 377.931373 273.312 \nL 377.931373 7.2 \n\" clip-path=\"url(#p430c88866f)\" style=\"fill: none; stroke: #ffffff; stroke-linecap: round\"/>\n     </g>\n     <g id=\"text_9\">\n      <!-- 4.0 -->\n      <g style=\"fill: #262626\" transform=\"translate(369.184654 291.170281) scale(0.11 -0.11)\">\n       <defs>\n        <path id=\"DejaVuSans-34\" d=\"M 2419 4116 \nL 825 1625 \nL 2419 1625 \nL 2419 4116 \nz\nM 2253 4666 \nL 3047 4666 \nL 3047 1625 \nL 3713 1625 \nL 3713 1100 \nL 3047 1100 \nL 3047 0 \nL 2419 0 \nL 2419 1100 \nL 313 1100 \nL 313 1709 \nL 2253 4666 \nz\n\" transform=\"scale(0.015625)\"/>\n       </defs>\n       <use xlink:href=\"#DejaVuSans-34\"/>\n       <use xlink:href=\"#DejaVuSans-2e\" x=\"63.623047\"/>\n       <use xlink:href=\"#DejaVuSans-30\" x=\"95.410156\"/>\n      </g>\n     </g>\n    </g>\n   </g>\n   <g id=\"matplotlib.axis_2\">\n    <g id=\"ytick_1\">\n     <g id=\"line2d_10\">\n      <path d=\"M 34.193438 273.312 \nL 391.313438 273.312 \n\" clip-path=\"url(#p430c88866f)\" style=\"fill: none; stroke: #ffffff; stroke-linecap: round\"/>\n     </g>\n     <g id=\"text_10\">\n      <!-- 0.0 -->\n      <g style=\"fill: #262626\" transform=\"translate(7.2 277.491141) scale(0.11 -0.11)\">\n       <use xlink:href=\"#DejaVuSans-30\"/>\n       <use xlink:href=\"#DejaVuSans-2e\" x=\"63.623047\"/>\n       <use xlink:href=\"#DejaVuSans-30\" x=\"95.410156\"/>\n      </g>\n     </g>\n    </g>\n    <g id=\"ytick_2\">\n     <g id=\"line2d_11\">\n      <path d=\"M 34.193438 241.448933 \nL 391.313438 241.448933 \n\" clip-path=\"url(#p430c88866f)\" style=\"fill: none; stroke: #ffffff; stroke-linecap: round\"/>\n     </g>\n     <g id=\"text_11\">\n      <!-- 0.1 -->\n      <g style=\"fill: #262626\" transform=\"translate(7.2 245.628073) scale(0.11 -0.11)\">\n       <use xlink:href=\"#DejaVuSans-30\"/>\n       <use xlink:href=\"#DejaVuSans-2e\" x=\"63.623047\"/>\n       <use xlink:href=\"#DejaVuSans-31\" x=\"95.410156\"/>\n      </g>\n     </g>\n    </g>\n    <g id=\"ytick_3\">\n     <g id=\"line2d_12\">\n      <path d=\"M 34.193438 209.585865 \nL 391.313438 209.585865 \n\" clip-path=\"url(#p430c88866f)\" style=\"fill: none; stroke: #ffffff; stroke-linecap: round\"/>\n     </g>\n     <g id=\"text_12\">\n      <!-- 0.2 -->\n      <g style=\"fill: #262626\" transform=\"translate(7.2 213.765006) scale(0.11 -0.11)\">\n       <use xlink:href=\"#DejaVuSans-30\"/>\n       <use xlink:href=\"#DejaVuSans-2e\" x=\"63.623047\"/>\n       <use xlink:href=\"#DejaVuSans-32\" x=\"95.410156\"/>\n      </g>\n     </g>\n    </g>\n    <g id=\"ytick_4\">\n     <g id=\"line2d_13\">\n      <path d=\"M 34.193438 177.722798 \nL 391.313438 177.722798 \n\" clip-path=\"url(#p430c88866f)\" style=\"fill: none; stroke: #ffffff; stroke-linecap: round\"/>\n     </g>\n     <g id=\"text_13\">\n      <!-- 0.3 -->\n      <g style=\"fill: #262626\" transform=\"translate(7.2 181.901938) scale(0.11 -0.11)\">\n       <use xlink:href=\"#DejaVuSans-30\"/>\n       <use xlink:href=\"#DejaVuSans-2e\" x=\"63.623047\"/>\n       <use xlink:href=\"#DejaVuSans-33\" x=\"95.410156\"/>\n      </g>\n     </g>\n    </g>\n    <g id=\"ytick_5\">\n     <g id=\"line2d_14\">\n      <path d=\"M 34.193438 145.85973 \nL 391.313438 145.85973 \n\" clip-path=\"url(#p430c88866f)\" style=\"fill: none; stroke: #ffffff; stroke-linecap: round\"/>\n     </g>\n     <g id=\"text_14\">\n      <!-- 0.4 -->\n      <g style=\"fill: #262626\" transform=\"translate(7.2 150.038871) scale(0.11 -0.11)\">\n       <use xlink:href=\"#DejaVuSans-30\"/>\n       <use xlink:href=\"#DejaVuSans-2e\" x=\"63.623047\"/>\n       <use xlink:href=\"#DejaVuSans-34\" x=\"95.410156\"/>\n      </g>\n     </g>\n    </g>\n    <g id=\"ytick_6\">\n     <g id=\"line2d_15\">\n      <path d=\"M 34.193438 113.996663 \nL 391.313438 113.996663 \n\" clip-path=\"url(#p430c88866f)\" style=\"fill: none; stroke: #ffffff; stroke-linecap: round\"/>\n     </g>\n     <g id=\"text_15\">\n      <!-- 0.5 -->\n      <g style=\"fill: #262626\" transform=\"translate(7.2 118.175803) scale(0.11 -0.11)\">\n       <use xlink:href=\"#DejaVuSans-30\"/>\n       <use xlink:href=\"#DejaVuSans-2e\" x=\"63.623047\"/>\n       <use xlink:href=\"#DejaVuSans-35\" x=\"95.410156\"/>\n      </g>\n     </g>\n    </g>\n    <g id=\"ytick_7\">\n     <g id=\"line2d_16\">\n      <path d=\"M 34.193438 82.133595 \nL 391.313438 82.133595 \n\" clip-path=\"url(#p430c88866f)\" style=\"fill: none; stroke: #ffffff; stroke-linecap: round\"/>\n     </g>\n     <g id=\"text_16\">\n      <!-- 0.6 -->\n      <g style=\"fill: #262626\" transform=\"translate(7.2 86.312736) scale(0.11 -0.11)\">\n       <defs>\n        <path id=\"DejaVuSans-36\" d=\"M 2113 2584 \nQ 1688 2584 1439 2293 \nQ 1191 2003 1191 1497 \nQ 1191 994 1439 701 \nQ 1688 409 2113 409 \nQ 2538 409 2786 701 \nQ 3034 994 3034 1497 \nQ 3034 2003 2786 2293 \nQ 2538 2584 2113 2584 \nz\nM 3366 4563 \nL 3366 3988 \nQ 3128 4100 2886 4159 \nQ 2644 4219 2406 4219 \nQ 1781 4219 1451 3797 \nQ 1122 3375 1075 2522 \nQ 1259 2794 1537 2939 \nQ 1816 3084 2150 3084 \nQ 2853 3084 3261 2657 \nQ 3669 2231 3669 1497 \nQ 3669 778 3244 343 \nQ 2819 -91 2113 -91 \nQ 1303 -91 875 529 \nQ 447 1150 447 2328 \nQ 447 3434 972 4092 \nQ 1497 4750 2381 4750 \nQ 2619 4750 2861 4703 \nQ 3103 4656 3366 4563 \nz\n\" transform=\"scale(0.015625)\"/>\n       </defs>\n       <use xlink:href=\"#DejaVuSans-30\"/>\n       <use xlink:href=\"#DejaVuSans-2e\" x=\"63.623047\"/>\n       <use xlink:href=\"#DejaVuSans-36\" x=\"95.410156\"/>\n      </g>\n     </g>\n    </g>\n    <g id=\"ytick_8\">\n     <g id=\"line2d_17\">\n      <path d=\"M 34.193438 50.270528 \nL 391.313438 50.270528 \n\" clip-path=\"url(#p430c88866f)\" style=\"fill: none; stroke: #ffffff; stroke-linecap: round\"/>\n     </g>\n     <g id=\"text_17\">\n      <!-- 0.7 -->\n      <g style=\"fill: #262626\" transform=\"translate(7.2 54.449669) scale(0.11 -0.11)\">\n       <defs>\n        <path id=\"DejaVuSans-37\" d=\"M 525 4666 \nL 3525 4666 \nL 3525 4397 \nL 1831 0 \nL 1172 0 \nL 2766 4134 \nL 525 4134 \nL 525 4666 \nz\n\" transform=\"scale(0.015625)\"/>\n       </defs>\n       <use xlink:href=\"#DejaVuSans-30\"/>\n       <use xlink:href=\"#DejaVuSans-2e\" x=\"63.623047\"/>\n       <use xlink:href=\"#DejaVuSans-37\" x=\"95.410156\"/>\n      </g>\n     </g>\n    </g>\n    <g id=\"ytick_9\">\n     <g id=\"line2d_18\">\n      <path d=\"M 34.193438 18.407461 \nL 391.313438 18.407461 \n\" clip-path=\"url(#p430c88866f)\" style=\"fill: none; stroke: #ffffff; stroke-linecap: round\"/>\n     </g>\n     <g id=\"text_18\">\n      <!-- 0.8 -->\n      <g style=\"fill: #262626\" transform=\"translate(7.2 22.586601) scale(0.11 -0.11)\">\n       <defs>\n        <path id=\"DejaVuSans-38\" d=\"M 2034 2216 \nQ 1584 2216 1326 1975 \nQ 1069 1734 1069 1313 \nQ 1069 891 1326 650 \nQ 1584 409 2034 409 \nQ 2484 409 2743 651 \nQ 3003 894 3003 1313 \nQ 3003 1734 2745 1975 \nQ 2488 2216 2034 2216 \nz\nM 1403 2484 \nQ 997 2584 770 2862 \nQ 544 3141 544 3541 \nQ 544 4100 942 4425 \nQ 1341 4750 2034 4750 \nQ 2731 4750 3128 4425 \nQ 3525 4100 3525 3541 \nQ 3525 3141 3298 2862 \nQ 3072 2584 2669 2484 \nQ 3125 2378 3379 2068 \nQ 3634 1759 3634 1313 \nQ 3634 634 3220 271 \nQ 2806 -91 2034 -91 \nQ 1263 -91 848 271 \nQ 434 634 434 1313 \nQ 434 1759 690 2068 \nQ 947 2378 1403 2484 \nz\nM 1172 3481 \nQ 1172 3119 1398 2916 \nQ 1625 2713 2034 2713 \nQ 2441 2713 2670 2916 \nQ 2900 3119 2900 3481 \nQ 2900 3844 2670 4047 \nQ 2441 4250 2034 4250 \nQ 1625 4250 1398 4047 \nQ 1172 3844 1172 3481 \nz\n\" transform=\"scale(0.015625)\"/>\n       </defs>\n       <use xlink:href=\"#DejaVuSans-30\"/>\n       <use xlink:href=\"#DejaVuSans-2e\" x=\"63.623047\"/>\n       <use xlink:href=\"#DejaVuSans-38\" x=\"95.410156\"/>\n      </g>\n     </g>\n    </g>\n   </g>\n   <g id=\"patch_3\">\n    <path d=\"M 50.426165 273.312 \nL 56.919256 273.312 \nL 56.919256 272.901903 \nL 50.426165 272.901903 \nz\n\" clip-path=\"url(#p430c88866f)\" style=\"fill: #4c72b0; stroke: #ffffff; stroke-linejoin: miter\"/>\n   </g>\n   <g id=\"patch_4\">\n    <path d=\"M 56.919256 273.312 \nL 63.412347 273.312 \nL 63.412347 272.491806 \nL 56.919256 272.491806 \nz\n\" clip-path=\"url(#p430c88866f)\" style=\"fill: #4c72b0; stroke: #ffffff; stroke-linejoin: miter\"/>\n   </g>\n   <g id=\"patch_5\">\n    <path d=\"M 63.412347 273.312 \nL 69.905438 273.312 \nL 69.905438 272.491806 \nL 63.412347 272.491806 \nz\n\" clip-path=\"url(#p430c88866f)\" style=\"fill: #4c72b0; stroke: #ffffff; stroke-linejoin: miter\"/>\n   </g>\n   <g id=\"patch_6\">\n    <path d=\"M 69.905438 273.312 \nL 76.398528 273.312 \nL 76.398528 272.491806 \nL 69.905438 272.491806 \nz\n\" clip-path=\"url(#p430c88866f)\" style=\"fill: #4c72b0; stroke: #ffffff; stroke-linejoin: miter\"/>\n   </g>\n   <g id=\"patch_7\">\n    <path d=\"M 76.398528 273.312 \nL 82.891619 273.312 \nL 82.891619 270.851417 \nL 76.398528 270.851417 \nz\n\" clip-path=\"url(#p430c88866f)\" style=\"fill: #4c72b0; stroke: #ffffff; stroke-linejoin: miter\"/>\n   </g>\n   <g id=\"patch_8\">\n    <path d=\"M 82.891619 273.312 \nL 89.38471 273.312 \nL 89.38471 270.44132 \nL 82.891619 270.44132 \nz\n\" clip-path=\"url(#p430c88866f)\" style=\"fill: #4c72b0; stroke: #ffffff; stroke-linejoin: miter\"/>\n   </g>\n   <g id=\"patch_9\">\n    <path d=\"M 89.38471 273.312 \nL 95.877801 273.312 \nL 95.877801 268.800932 \nL 89.38471 268.800932 \nz\n\" clip-path=\"url(#p430c88866f)\" style=\"fill: #4c72b0; stroke: #ffffff; stroke-linejoin: miter\"/>\n   </g>\n   <g id=\"patch_10\">\n    <path d=\"M 95.877801 273.312 \nL 102.370892 273.312 \nL 102.370892 261.009087 \nL 95.877801 261.009087 \nz\n\" clip-path=\"url(#p430c88866f)\" style=\"fill: #4c72b0; stroke: #ffffff; stroke-linejoin: miter\"/>\n   </g>\n   <g id=\"patch_11\">\n    <path d=\"M 102.370892 273.312 \nL 108.863983 273.312 \nL 108.863983 259.778796 \nL 102.370892 259.778796 \nz\n\" clip-path=\"url(#p430c88866f)\" style=\"fill: #4c72b0; stroke: #ffffff; stroke-linejoin: miter\"/>\n   </g>\n   <g id=\"patch_12\">\n    <path d=\"M 108.863983 273.312 \nL 115.357074 273.312 \nL 115.357074 260.59899 \nL 108.863983 260.59899 \nz\n\" clip-path=\"url(#p430c88866f)\" style=\"fill: #4c72b0; stroke: #ffffff; stroke-linejoin: miter\"/>\n   </g>\n   <g id=\"patch_13\">\n    <path d=\"M 115.357074 273.312 \nL 121.850165 273.312 \nL 121.850165 255.267728 \nL 115.357074 255.267728 \nz\n\" clip-path=\"url(#p430c88866f)\" style=\"fill: #4c72b0; stroke: #ffffff; stroke-linejoin: miter\"/>\n   </g>\n   <g id=\"patch_14\">\n    <path d=\"M 121.850165 273.312 \nL 128.343256 273.312 \nL 128.343256 245.835495 \nL 121.850165 245.835495 \nz\n\" clip-path=\"url(#p430c88866f)\" style=\"fill: #4c72b0; stroke: #ffffff; stroke-linejoin: miter\"/>\n   </g>\n   <g id=\"patch_15\">\n    <path d=\"M 128.343256 273.312 \nL 134.836347 273.312 \nL 134.836347 229.021515 \nL 128.343256 229.021515 \nz\n\" clip-path=\"url(#p430c88866f)\" style=\"fill: #4c72b0; stroke: #ffffff; stroke-linejoin: miter\"/>\n   </g>\n   <g id=\"patch_16\">\n    <path d=\"M 134.836347 273.312 \nL 141.329438 273.312 \nL 141.329438 222.049864 \nL 134.836347 222.049864 \nz\n\" clip-path=\"url(#p430c88866f)\" style=\"fill: #4c72b0; stroke: #ffffff; stroke-linejoin: miter\"/>\n   </g>\n   <g id=\"patch_17\">\n    <path d=\"M 141.329438 273.312 \nL 147.822528 273.312 \nL 147.822528 195.393553 \nL 141.329438 195.393553 \nz\n\" clip-path=\"url(#p430c88866f)\" style=\"fill: #4c72b0; stroke: #ffffff; stroke-linejoin: miter\"/>\n   </g>\n   <g id=\"patch_18\">\n    <path d=\"M 147.822528 273.312 \nL 154.315619 273.312 \nL 154.315619 177.349282 \nL 147.822528 177.349282 \nz\n\" clip-path=\"url(#p430c88866f)\" style=\"fill: #4c72b0; stroke: #ffffff; stroke-linejoin: miter\"/>\n   </g>\n   <g id=\"patch_19\">\n    <path d=\"M 154.315619 273.312 \nL 160.80871 273.312 \nL 160.80871 162.585786 \nL 154.315619 162.585786 \nz\n\" clip-path=\"url(#p430c88866f)\" style=\"fill: #4c72b0; stroke: #ffffff; stroke-linejoin: miter\"/>\n   </g>\n   <g id=\"patch_20\">\n    <path d=\"M 160.80871 273.312 \nL 167.301801 273.312 \nL 167.301801 140.440544 \nL 160.80871 140.440544 \nz\n\" clip-path=\"url(#p430c88866f)\" style=\"fill: #4c72b0; stroke: #ffffff; stroke-linejoin: miter\"/>\n   </g>\n   <g id=\"patch_21\">\n    <path d=\"M 167.301801 273.312 \nL 173.794892 273.312 \nL 173.794892 107.632777 \nL 167.301801 107.632777 \nz\n\" clip-path=\"url(#p430c88866f)\" style=\"fill: #4c72b0; stroke: #ffffff; stroke-linejoin: miter\"/>\n   </g>\n   <g id=\"patch_22\">\n    <path d=\"M 173.794892 273.312 \nL 180.287983 273.312 \nL 180.287983 81.386563 \nL 173.794892 81.386563 \nz\n\" clip-path=\"url(#p430c88866f)\" style=\"fill: #4c72b0; stroke: #ffffff; stroke-linejoin: miter\"/>\n   </g>\n   <g id=\"patch_23\">\n    <path d=\"M 180.287983 273.312 \nL 186.781074 273.312 \nL 186.781074 55.960544 \nL 180.287983 55.960544 \nz\n\" clip-path=\"url(#p430c88866f)\" style=\"fill: #4c72b0; stroke: #ffffff; stroke-linejoin: miter\"/>\n   </g>\n   <g id=\"patch_24\">\n    <path d=\"M 186.781074 273.312 \nL 193.274165 273.312 \nL 193.274165 51.859573 \nL 186.781074 51.859573 \nz\n\" clip-path=\"url(#p430c88866f)\" style=\"fill: #4c72b0; stroke: #ffffff; stroke-linejoin: miter\"/>\n   </g>\n   <g id=\"patch_25\">\n    <path d=\"M 193.274165 273.312 \nL 199.767256 273.312 \nL 199.767256 22.332583 \nL 193.274165 22.332583 \nz\n\" clip-path=\"url(#p430c88866f)\" style=\"fill: #4c72b0; stroke: #ffffff; stroke-linejoin: miter\"/>\n   </g>\n   <g id=\"patch_26\">\n    <path d=\"M 199.767256 273.312 \nL 206.260347 273.312 \nL 206.260347 38.736466 \nL 199.767256 38.736466 \nz\n\" clip-path=\"url(#p430c88866f)\" style=\"fill: #4c72b0; stroke: #ffffff; stroke-linejoin: miter\"/>\n   </g>\n   <g id=\"patch_27\">\n    <path d=\"M 206.260347 273.312 \nL 212.753437 273.312 \nL 212.753437 19.872 \nL 206.260347 19.872 \nz\n\" clip-path=\"url(#p430c88866f)\" style=\"fill: #4c72b0; stroke: #ffffff; stroke-linejoin: miter\"/>\n   </g>\n   <g id=\"patch_28\">\n    <path d=\"M 212.753438 273.312 \nL 219.246528 273.312 \nL 219.246528 21.922485 \nL 212.753438 21.922485 \nz\n\" clip-path=\"url(#p430c88866f)\" style=\"fill: #4c72b0; stroke: #ffffff; stroke-linejoin: miter\"/>\n   </g>\n   <g id=\"patch_29\">\n    <path d=\"M 219.246528 273.312 \nL 225.739619 273.312 \nL 225.739619 40.786951 \nL 219.246528 40.786951 \nz\n\" clip-path=\"url(#p430c88866f)\" style=\"fill: #4c72b0; stroke: #ffffff; stroke-linejoin: miter\"/>\n   </g>\n   <g id=\"patch_30\">\n    <path d=\"M 225.739619 273.312 \nL 232.23271 273.312 \nL 232.23271 49.809087 \nL 225.739619 49.809087 \nz\n\" clip-path=\"url(#p430c88866f)\" style=\"fill: #4c72b0; stroke: #ffffff; stroke-linejoin: miter\"/>\n   </g>\n   <g id=\"patch_31\">\n    <path d=\"M 232.23271 273.312 \nL 238.725801 273.312 \nL 238.725801 51.859573 \nL 232.23271 51.859573 \nz\n\" clip-path=\"url(#p430c88866f)\" style=\"fill: #4c72b0; stroke: #ffffff; stroke-linejoin: miter\"/>\n   </g>\n   <g id=\"patch_32\">\n    <path d=\"M 238.725801 273.312 \nL 245.218892 273.312 \nL 245.218892 79.746175 \nL 238.725801 79.746175 \nz\n\" clip-path=\"url(#p430c88866f)\" style=\"fill: #4c72b0; stroke: #ffffff; stroke-linejoin: miter\"/>\n   </g>\n   <g id=\"patch_33\">\n    <path d=\"M 245.218892 273.312 \nL 251.711983 273.312 \nL 251.711983 89.588505 \nL 245.218892 89.588505 \nz\n\" clip-path=\"url(#p430c88866f)\" style=\"fill: #4c72b0; stroke: #ffffff; stroke-linejoin: miter\"/>\n   </g>\n   <g id=\"patch_34\">\n    <path d=\"M 251.711983 273.312 \nL 258.205074 273.312 \nL 258.205074 130.598214 \nL 251.711983 130.598214 \nz\n\" clip-path=\"url(#p430c88866f)\" style=\"fill: #4c72b0; stroke: #ffffff; stroke-linejoin: miter\"/>\n   </g>\n   <g id=\"patch_35\">\n    <path d=\"M 258.205074 273.312 \nL 264.698165 273.312 \nL 264.698165 148.642485 \nL 258.205074 148.642485 \nz\n\" clip-path=\"url(#p430c88866f)\" style=\"fill: #4c72b0; stroke: #ffffff; stroke-linejoin: miter\"/>\n   </g>\n   <g id=\"patch_36\">\n    <path d=\"M 264.698165 273.312 \nL 271.191256 273.312 \nL 271.191256 183.500738 \nL 264.698165 183.500738 \nz\n\" clip-path=\"url(#p430c88866f)\" style=\"fill: #4c72b0; stroke: #ffffff; stroke-linejoin: miter\"/>\n   </g>\n   <g id=\"patch_37\">\n    <path d=\"M 271.191256 273.312 \nL 277.684347 273.312 \nL 277.684347 196.213748 \nL 271.191256 196.213748 \nz\n\" clip-path=\"url(#p430c88866f)\" style=\"fill: #4c72b0; stroke: #ffffff; stroke-linejoin: miter\"/>\n   </g>\n   <g id=\"patch_38\">\n    <path d=\"M 277.684347 273.312 \nL 284.177437 273.312 \nL 284.177437 207.696466 \nL 277.684347 207.696466 \nz\n\" clip-path=\"url(#p430c88866f)\" style=\"fill: #4c72b0; stroke: #ffffff; stroke-linejoin: miter\"/>\n   </g>\n   <g id=\"patch_39\">\n    <path d=\"M 284.177437 273.312 \nL 290.670528 273.312 \nL 290.670528 230.661903 \nL 284.177437 230.661903 \nz\n\" clip-path=\"url(#p430c88866f)\" style=\"fill: #4c72b0; stroke: #ffffff; stroke-linejoin: miter\"/>\n   </g>\n   <g id=\"patch_40\">\n    <path d=\"M 290.670528 273.312 \nL 297.163619 273.312 \nL 297.163619 240.094136 \nL 290.670528 240.094136 \nz\n\" clip-path=\"url(#p430c88866f)\" style=\"fill: #4c72b0; stroke: #ffffff; stroke-linejoin: miter\"/>\n   </g>\n   <g id=\"patch_41\">\n    <path d=\"M 297.163619 273.312 \nL 303.65671 273.312 \nL 303.65671 248.296078 \nL 297.163619 248.296078 \nz\n\" clip-path=\"url(#p430c88866f)\" style=\"fill: #4c72b0; stroke: #ffffff; stroke-linejoin: miter\"/>\n   </g>\n   <g id=\"patch_42\">\n    <path d=\"M 303.65671 273.312 \nL 310.149801 273.312 \nL 310.149801 258.138408 \nL 303.65671 258.138408 \nz\n\" clip-path=\"url(#p430c88866f)\" style=\"fill: #4c72b0; stroke: #ffffff; stroke-linejoin: miter\"/>\n   </g>\n   <g id=\"patch_43\">\n    <path d=\"M 310.149801 273.312 \nL 316.642892 273.312 \nL 316.642892 263.879767 \nL 310.149801 263.879767 \nz\n\" clip-path=\"url(#p430c88866f)\" style=\"fill: #4c72b0; stroke: #ffffff; stroke-linejoin: miter\"/>\n   </g>\n   <g id=\"patch_44\">\n    <path d=\"M 316.642892 273.312 \nL 323.135983 273.312 \nL 323.135983 263.059573 \nL 316.642892 263.059573 \nz\n\" clip-path=\"url(#p430c88866f)\" style=\"fill: #4c72b0; stroke: #ffffff; stroke-linejoin: miter\"/>\n   </g>\n   <g id=\"patch_45\">\n    <path d=\"M 323.135983 273.312 \nL 329.629074 273.312 \nL 329.629074 270.031223 \nL 323.135983 270.031223 \nz\n\" clip-path=\"url(#p430c88866f)\" style=\"fill: #4c72b0; stroke: #ffffff; stroke-linejoin: miter\"/>\n   </g>\n   <g id=\"patch_46\">\n    <path d=\"M 329.629074 273.312 \nL 336.122165 273.312 \nL 336.122165 270.44132 \nL 329.629074 270.44132 \nz\n\" clip-path=\"url(#p430c88866f)\" style=\"fill: #4c72b0; stroke: #ffffff; stroke-linejoin: miter\"/>\n   </g>\n   <g id=\"patch_47\">\n    <path d=\"M 336.122165 273.312 \nL 342.615256 273.312 \nL 342.615256 271.261515 \nL 336.122165 271.261515 \nz\n\" clip-path=\"url(#p430c88866f)\" style=\"fill: #4c72b0; stroke: #ffffff; stroke-linejoin: miter\"/>\n   </g>\n   <g id=\"patch_48\">\n    <path d=\"M 342.615256 273.312 \nL 349.108347 273.312 \nL 349.108347 270.851417 \nL 342.615256 270.851417 \nz\n\" clip-path=\"url(#p430c88866f)\" style=\"fill: #4c72b0; stroke: #ffffff; stroke-linejoin: miter\"/>\n   </g>\n   <g id=\"patch_49\">\n    <path d=\"M 349.108347 273.312 \nL 355.601437 273.312 \nL 355.601437 271.671612 \nL 349.108347 271.671612 \nz\n\" clip-path=\"url(#p430c88866f)\" style=\"fill: #4c72b0; stroke: #ffffff; stroke-linejoin: miter\"/>\n   </g>\n   <g id=\"patch_50\">\n    <path d=\"M 355.601438 273.312 \nL 362.094528 273.312 \nL 362.094528 272.901903 \nL 355.601438 272.901903 \nz\n\" clip-path=\"url(#p430c88866f)\" style=\"fill: #4c72b0; stroke: #ffffff; stroke-linejoin: miter\"/>\n   </g>\n   <g id=\"patch_51\">\n    <path d=\"M 362.094528 273.312 \nL 368.587619 273.312 \nL 368.587619 272.491806 \nL 362.094528 272.491806 \nz\n\" clip-path=\"url(#p430c88866f)\" style=\"fill: #4c72b0; stroke: #ffffff; stroke-linejoin: miter\"/>\n   </g>\n   <g id=\"patch_52\">\n    <path d=\"M 368.587619 273.312 \nL 375.08071 273.312 \nL 375.08071 272.901903 \nL 368.587619 272.901903 \nz\n\" clip-path=\"url(#p430c88866f)\" style=\"fill: #4c72b0; stroke: #ffffff; stroke-linejoin: miter\"/>\n   </g>\n   <g id=\"line2d_19\">\n    <path d=\"M 53.67271 272.901903 \nL 60.165801 272.491806 \nL 66.658892 272.491806 \nL 73.151983 272.491806 \nL 79.645074 270.851417 \nL 86.138165 270.44132 \nL 92.631256 268.800932 \nL 99.124347 261.009087 \nL 105.617438 259.778796 \nL 112.110528 260.59899 \nL 118.603619 255.267728 \nL 125.09671 245.835495 \nL 131.589801 229.021515 \nL 138.082892 222.049864 \nL 144.575983 195.393553 \nL 151.069074 177.349282 \nL 157.562165 162.585786 \nL 164.055256 140.440544 \nL 170.548347 107.632777 \nL 177.041438 81.386563 \nL 183.534528 55.960544 \nL 190.027619 51.859573 \nL 196.52071 22.332583 \nL 203.013801 38.736466 \nL 209.506892 19.872 \nL 215.999983 21.922485 \nL 222.493074 40.786951 \nL 228.986165 49.809087 \nL 235.479256 51.859573 \nL 241.972347 79.746175 \nL 248.465438 89.588505 \nL 254.958528 130.598214 \nL 261.451619 148.642485 \nL 267.94471 183.500738 \nL 274.437801 196.213748 \nL 280.930892 207.696466 \nL 287.423983 230.661903 \nL 293.917074 240.094136 \nL 300.410165 248.296078 \nL 306.903256 258.138408 \nL 313.396347 263.879767 \nL 319.889437 263.059573 \nL 326.382528 270.031223 \nL 332.875619 270.44132 \nL 339.36871 271.261515 \nL 345.861801 270.851417 \nL 352.354892 271.671612 \nL 358.847983 272.901903 \nL 365.341074 272.491806 \nL 371.834165 272.901903 \n\" clip-path=\"url(#p430c88866f)\" style=\"fill: none; stroke: #dd8452; stroke-width: 1.5; stroke-linecap: round\"/>\n   </g>\n   <g id=\"patch_53\">\n    <path d=\"M 34.193438 273.312 \nL 34.193438 7.2 \n\" style=\"fill: none; stroke: #ffffff; stroke-width: 1.25; stroke-linejoin: miter; stroke-linecap: square\"/>\n   </g>\n   <g id=\"patch_54\">\n    <path d=\"M 391.313438 273.312 \nL 391.313438 7.2 \n\" style=\"fill: none; stroke: #ffffff; stroke-width: 1.25; stroke-linejoin: miter; stroke-linecap: square\"/>\n   </g>\n   <g id=\"patch_55\">\n    <path d=\"M 34.193438 273.312 \nL 391.313437 273.312 \n\" style=\"fill: none; stroke: #ffffff; stroke-width: 1.25; stroke-linejoin: miter; stroke-linecap: square\"/>\n   </g>\n   <g id=\"patch_56\">\n    <path d=\"M 34.193438 7.2 \nL 391.313437 7.2 \n\" style=\"fill: none; stroke: #ffffff; stroke-width: 1.25; stroke-linejoin: miter; stroke-linecap: square\"/>\n   </g>\n  </g>\n </g>\n <defs>\n  <clipPath id=\"p430c88866f\">\n   <rect x=\"34.193438\" y=\"7.2\" width=\"357.12\" height=\"266.112\"/>\n  </clipPath>\n </defs>\n</svg>\n",
            "application/pdf": "[encoded data removed]"
          },
          "metadata": {}
        }
      ]
    },
    {
      "cell_type": "markdown",
      "metadata": {
        "id": "BEnpYLsOQRbY"
      },
      "source": [
        "## The Basics of PyTorch\n",
        "\n",
        "We will start with reviewing the very basic concepts of PyTorch. As a prerequisite, we recommend to be familiar with the `numpy` package as most machine learning frameworks are based on very similar concepts. If you are not familiar with numpy yet, don't worry: here is a [tutorial](https://numpy.org/devdocs/user/quickstart.html) to go through. \n",
        "\n",
        "So, let's start with importing PyTorch. The package is called `torch`, based on its original framework [Torch](http://torch.ch/). As a first step, we can check its version:"
      ]
    },
    {
      "cell_type": "code",
      "execution_count": 2,
      "metadata": {
        "colab": {
          "base_uri": "https://localhost:8080/"
        },
        "id": "mFmUYMz5QRbY",
        "outputId": "3f7d0fb9-cf76-498c-df5e-2f597504d8c5"
      },
      "outputs": [
        {
          "output_type": "stream",
          "name": "stdout",
          "text": [
            "Using torch 2.0.0+cu118\n"
          ]
        }
      ],
      "source": [
        "import torch\n",
        "print(\"Using torch\", torch.__version__)"
      ]
    },
    {
      "cell_type": "markdown",
      "metadata": {
        "id": "VdHyYxA1QRbZ"
      },
      "source": [
        "At the time of writing this tutorial (end of October 2022), the current stable version is 1.13. You should therefore see the output `Using torch 1.13.0` or `Using torch 1.12.0`, eventually with some extension for the CUDA version on Colab. In case you use the `dl2022` environment, you should see `Using torch 1.13.0`. In general, it is recommended to keep the PyTorch version updated to the newest one. If you see a lower version number than 1.12, make sure you have installed the correct environment, or ask one of your TAs. In case PyTorch 1.14 or newer will be published during the time of the course, don't worry. The interface between PyTorch versions doesn't change too much, and hence all code should also be runnable with newer versions.\n",
        "\n",
        "As in every machine learning framework, PyTorch provides functions that are stochastic like generating random numbers. However, a very good practice is to setup your code to be reproducible with the exact same random numbers. This is why we set a seed below. "
      ]
    },
    {
      "cell_type": "code",
      "execution_count": null,
      "metadata": {
        "id": "2YJy9_S7QRbZ",
        "outputId": "36b08f36-2618-41b9-d8fe-ae610b8afba7"
      },
      "outputs": [
        {
          "data": {
            "text/plain": [
              "<torch._C.Generator at 0x7fa327d6da90>"
            ]
          },
          "execution_count": 3,
          "metadata": {},
          "output_type": "execute_result"
        }
      ],
      "source": [
        "torch.manual_seed(42) # Setting the seed"
      ]
    },
    {
      "cell_type": "markdown",
      "metadata": {
        "id": "4CLeUvBpQRbZ"
      },
      "source": [
        "### Tensors\n",
        "\n",
        "Tensors are the PyTorch equivalent to Numpy arrays, with the addition to also have support for GPU acceleration (more on that later).\n",
        "The name \"tensor\" is a generalization of concepts you already know. For instance, a vector is a 1-D tensor, and a matrix a 2-D tensor. When working with neural networks, we will use tensors of various shapes and number of dimensions.\n",
        "\n",
        "Most common functions you know from numpy can be used on tensors as well. Actually, since numpy arrays are so similar to tensors, we can convert most tensors to numpy arrays (and back) but we don't need it too often.\n",
        "\n",
        "#### Initialization\n",
        "\n",
        "Let's first start by looking at different ways of creating a tensor. There are many possible options, the simplest one is to call `torch.Tensor` passing the desired shape as input argument:"
      ]
    },
    {
      "cell_type": "code",
      "execution_count": null,
      "metadata": {
        "id": "1RovshSZQRba",
        "outputId": "3cd51a09-b87a-4400-eff4-1ae55a3f446b"
      },
      "outputs": [
        {
          "name": "stdout",
          "output_type": "stream",
          "text": [
            "tensor([[[ 6.5254e+10,  3.0890e-41,  4.2039e-45, -6.3663e-15],\n",
            "         [ 6.5246e+10,  3.0890e-41,  1.6367e-42,  4.5787e-41],\n",
            "         [ 6.5254e+10,  3.0890e-41,  4.2039e-45,  4.5787e-41]],\n",
            "\n",
            "        [[ 6.5255e+10,  3.0890e-41,  1.4013e-45,  0.0000e+00],\n",
            "         [ 6.5255e+10,  3.0890e-41,  6.5246e+10,  3.0890e-41],\n",
            "         [ 1.7404e-42, -5.0820e+26,  6.5255e+10,  3.0890e-41]]])\n"
          ]
        }
      ],
      "source": [
        "x = torch.Tensor(2, 3, 4)\n",
        "print(x)"
      ]
    },
    {
      "cell_type": "markdown",
      "metadata": {
        "id": "vNgd78TdQRba"
      },
      "source": [
        "The function `torch.Tensor` allocates memory for the desired tensor, but reuses any values that have already been in the memory. To directly assign values to the tensor during initialization, there are many alternatives including:\n",
        "\n",
        "* `torch.zeros`: Creates a tensor filled with zeros\n",
        "* `torch.ones`: Creates a tensor filled with ones\n",
        "* `torch.rand`: Creates a tensor with random values uniformly sampled between 0 and 1\n",
        "* `torch.randn`: Creates a tensor with random values sampled from a normal distribution with mean 0 and variance 1\n",
        "* `torch.arange`: Creates a tensor containing the values $N,N+1,N+2,...,M$\n",
        "* `torch.Tensor` (input list): Creates a tensor from the list elements you provide"
      ]
    },
    {
      "cell_type": "code",
      "execution_count": null,
      "metadata": {
        "id": "FAkWU1HkQRba",
        "outputId": "6f1a5a42-a468-412d-a2d3-553165587ac6"
      },
      "outputs": [
        {
          "name": "stdout",
          "output_type": "stream",
          "text": [
            "tensor([[1., 2.],\n",
            "        [3., 4.]])\n"
          ]
        }
      ],
      "source": [
        "# Create a tensor from a (nested) list\n",
        "x = torch.Tensor([[1, 2], [3, 4]])\n",
        "print(x)"
      ]
    },
    {
      "cell_type": "code",
      "execution_count": null,
      "metadata": {
        "id": "loaP4EaEQRbb",
        "outputId": "1c619a30-3404-4e7b-f065-802a46481e71"
      },
      "outputs": [
        {
          "name": "stdout",
          "output_type": "stream",
          "text": [
            "tensor([[[0.8823, 0.9150, 0.3829, 0.9593],\n",
            "         [0.3904, 0.6009, 0.2566, 0.7936],\n",
            "         [0.9408, 0.1332, 0.9346, 0.5936]],\n",
            "\n",
            "        [[0.8694, 0.5677, 0.7411, 0.4294],\n",
            "         [0.8854, 0.5739, 0.2666, 0.6274],\n",
            "         [0.2696, 0.4414, 0.2969, 0.8317]]])\n"
          ]
        }
      ],
      "source": [
        "# Create a tensor with random values between 0 and 1 with the shape [2, 3, 4]\n",
        "x = torch.rand(2, 3, 4)\n",
        "print(x)"
      ]
    },
    {
      "cell_type": "markdown",
      "metadata": {
        "id": "8SaLW-sVQRbb"
      },
      "source": [
        "You can obtain the shape of a tensor in the same way as in numpy (`x.shape`), or using the `.size` method:"
      ]
    },
    {
      "cell_type": "code",
      "execution_count": null,
      "metadata": {
        "id": "cMS_qf-TQRbb",
        "outputId": "ad992cde-b91c-4a26-a3db-e5e623ab8500"
      },
      "outputs": [
        {
          "name": "stdout",
          "output_type": "stream",
          "text": [
            "Shape: torch.Size([2, 3, 4])\n",
            "Size: torch.Size([2, 3, 4])\n",
            "Size: 2 3 4\n"
          ]
        }
      ],
      "source": [
        "shape = x.shape\n",
        "print(\"Shape:\", x.shape)\n",
        "\n",
        "size = x.size()\n",
        "print(\"Size:\", size)\n",
        "\n",
        "dim1, dim2, dim3 = x.size()\n",
        "print(\"Size:\", dim1, dim2, dim3)"
      ]
    },
    {
      "cell_type": "markdown",
      "metadata": {
        "id": "wJY2sJjVQRbb"
      },
      "source": [
        "#### Tensor to Numpy, and Numpy to Tensor\n",
        "\n",
        "Tensors can be converted to numpy arrays, and numpy arrays back to tensors. To transform a numpy array into a tensor, we can use the function `torch.from_numpy`:"
      ]
    },
    {
      "cell_type": "code",
      "execution_count": null,
      "metadata": {
        "id": "olN45v53QRbb",
        "outputId": "301beb3e-1b4a-4ef8-abbb-b609c5e86fd2"
      },
      "outputs": [
        {
          "name": "stdout",
          "output_type": "stream",
          "text": [
            "Numpy array: [[1 2]\n",
            " [3 4]]\n",
            "PyTorch tensor: tensor([[1, 2],\n",
            "        [3, 4]])\n"
          ]
        }
      ],
      "source": [
        "np_arr = np.array([[1, 2], [3, 4]])\n",
        "tensor = torch.from_numpy(np_arr)\n",
        "\n",
        "print(\"Numpy array:\", np_arr)\n",
        "print(\"PyTorch tensor:\", tensor)"
      ]
    },
    {
      "cell_type": "markdown",
      "metadata": {
        "id": "nLAgM5mOQRbc"
      },
      "source": [
        "To transform a PyTorch tensor back to a numpy array, we can use the function `.numpy()` on tensors:"
      ]
    },
    {
      "cell_type": "code",
      "execution_count": null,
      "metadata": {
        "id": "GScVZrqIQRbc",
        "outputId": "55b5cffd-9826-435f-f621-4ed2e2558f0d"
      },
      "outputs": [
        {
          "name": "stdout",
          "output_type": "stream",
          "text": [
            "PyTorch tensor: tensor([0, 1, 2, 3])\n",
            "Numpy array: [0 1 2 3]\n"
          ]
        }
      ],
      "source": [
        "tensor = torch.arange(4)\n",
        "np_arr = tensor.numpy()\n",
        "\n",
        "print(\"PyTorch tensor:\", tensor)\n",
        "print(\"Numpy array:\", np_arr)"
      ]
    },
    {
      "cell_type": "markdown",
      "metadata": {
        "id": "C6hf1bsVQRbc"
      },
      "source": [
        "The conversion of tensors to numpy require the tensor to be on the CPU, and not the GPU (more on GPU support in a later section). In case you have a tensor on GPU, you need to call `.cpu()` on the tensor beforehand. Hence, you get a line like `np_arr = tensor.cpu().numpy()`."
      ]
    },
    {
      "cell_type": "markdown",
      "metadata": {
        "id": "LJY9ZHnIQRbc"
      },
      "source": [
        "#### Operations\n",
        "\n",
        "Most operations that exist in numpy, also exist in PyTorch. A full list of operations can be found in the [PyTorch documentation](https://pytorch.org/docs/stable/tensors.html#), but we will review the most important ones here.\n",
        "\n",
        "The simplest operation is to add two tensors:"
      ]
    },
    {
      "cell_type": "code",
      "execution_count": null,
      "metadata": {
        "id": "nf9b5GpEQRbc",
        "outputId": "806e7acc-4953-43e2-c4b1-977ad49ffd23"
      },
      "outputs": [
        {
          "name": "stdout",
          "output_type": "stream",
          "text": [
            "X1 tensor([[0.1053, 0.2695, 0.3588],\n",
            "        [0.1994, 0.5472, 0.0062]])\n",
            "X2 tensor([[0.9516, 0.0753, 0.8860],\n",
            "        [0.5832, 0.3376, 0.8090]])\n",
            "Y tensor([[1.0569, 0.3448, 1.2448],\n",
            "        [0.7826, 0.8848, 0.8151]])\n"
          ]
        }
      ],
      "source": [
        "x1 = torch.rand(2, 3)\n",
        "x2 = torch.rand(2, 3)\n",
        "y = x1 + x2\n",
        "\n",
        "print(\"X1\", x1)\n",
        "print(\"X2\", x2)\n",
        "print(\"Y\", y)"
      ]
    },
    {
      "cell_type": "markdown",
      "metadata": {
        "id": "aNce4C8rQRbd"
      },
      "source": [
        "Calling `x1 + x2` creates a new tensor containing the sum of the two inputs. However, we can also use in-place operations that are applied directly on the memory of a tensor. We therefore change the values of `x2` without the chance to re-accessing the values of `x2` before the operation. An example is shown below:"
      ]
    },
    {
      "cell_type": "code",
      "execution_count": null,
      "metadata": {
        "id": "9apcVLgXQRbd",
        "outputId": "d0bee148-573e-4403-b1a8-d617f18a4aa7"
      },
      "outputs": [
        {
          "name": "stdout",
          "output_type": "stream",
          "text": [
            "X1 (before) tensor([[0.5779, 0.9040, 0.5547],\n",
            "        [0.3423, 0.6343, 0.3644]])\n",
            "X2 (before) tensor([[0.7104, 0.9464, 0.7890],\n",
            "        [0.2814, 0.7886, 0.5895]])\n",
            "X1 (after) tensor([[0.5779, 0.9040, 0.5547],\n",
            "        [0.3423, 0.6343, 0.3644]])\n",
            "X2 (after) tensor([[1.2884, 1.8504, 1.3437],\n",
            "        [0.6237, 1.4230, 0.9539]])\n"
          ]
        }
      ],
      "source": [
        "x1 = torch.rand(2, 3)\n",
        "x2 = torch.rand(2, 3)\n",
        "print(\"X1 (before)\", x1)\n",
        "print(\"X2 (before)\", x2)\n",
        "\n",
        "x2.add_(x1)\n",
        "print(\"X1 (after)\", x1)\n",
        "print(\"X2 (after)\", x2)"
      ]
    },
    {
      "cell_type": "markdown",
      "metadata": {
        "id": "VWw8rjZLQRbd"
      },
      "source": [
        "In-place operations are usually marked with a underscore postfix (e.g. \"add_\" instead of \"add\").\n",
        "\n",
        "Another common operation aims at changing the shape of a tensor. A tensor of size (2,3) can be re-organized to any other shape with the same number of elements (e.g. a tensor of size (6), or (3,2), ...). In PyTorch, this operation is called `view`:"
      ]
    },
    {
      "cell_type": "code",
      "execution_count": null,
      "metadata": {
        "id": "e7ihd_0FQRbd",
        "outputId": "2bd4d720-cbef-47a9-b1f8-9c3da48511d3"
      },
      "outputs": [
        {
          "name": "stdout",
          "output_type": "stream",
          "text": [
            "X tensor([0, 1, 2, 3, 4, 5])\n"
          ]
        }
      ],
      "source": [
        "x = torch.arange(6)\n",
        "print(\"X\", x)"
      ]
    },
    {
      "cell_type": "code",
      "execution_count": null,
      "metadata": {
        "id": "2PpIpLPEQRbd",
        "outputId": "05e6caf8-22f7-44d2-9f73-f79865c26c2f"
      },
      "outputs": [
        {
          "name": "stdout",
          "output_type": "stream",
          "text": [
            "X tensor([[0, 1, 2],\n",
            "        [3, 4, 5]])\n"
          ]
        }
      ],
      "source": [
        "x = x.view(2, 3)\n",
        "print(\"X\", x)"
      ]
    },
    {
      "cell_type": "code",
      "execution_count": null,
      "metadata": {
        "id": "wC9m80MNQRbd",
        "outputId": "485a44fb-f282-4822-934e-068dfe033de9"
      },
      "outputs": [
        {
          "name": "stdout",
          "output_type": "stream",
          "text": [
            "X tensor([[0, 3],\n",
            "        [1, 4],\n",
            "        [2, 5]])\n"
          ]
        }
      ],
      "source": [
        "x = x.permute(1, 0) # Swapping dimension 0 and 1\n",
        "print(\"X\", x)"
      ]
    },
    {
      "cell_type": "markdown",
      "metadata": {
        "id": "DOoPttHdQRbe"
      },
      "source": [
        "Other commonly used operations include matrix multiplications, which are essential for neural networks. Quite often, we have an input vector $\\mathbf{x}$, which is transformed using a learned weight matrix $\\mathbf{W}$. There are multiple ways and functions to perform matrix multiplication, some of which we list below:\n",
        "\n",
        "* `torch.matmul`: Performs the matrix product over two tensors, where the specific behavior depends on the dimensions. If both inputs are matrices (2-dimensional tensors), it performs the standard matrix product. For higher dimensional inputs, the function supports broadcasting (for details see the [documentation](https://pytorch.org/docs/stable/generated/torch.matmul.html?highlight=matmul#torch.matmul)). Can also be written as `a @ b`, similar to numpy. \n",
        "* `torch.mm`: Performs the matrix product over two matrices, but doesn't support broadcasting (see [documentation](https://pytorch.org/docs/stable/generated/torch.mm.html?highlight=torch%20mm#torch.mm))\n",
        "* `torch.bmm`: Performs the matrix product with a support batch dimension. If the first tensor $T$ is of shape ($b\\times n\\times m$), and the second tensor $R$ ($b\\times m\\times p$), the output $O$ is of shape ($b\\times n\\times p$), and has been calculated by performing $b$ matrix multiplications of the submatrices of $T$ and $R$: $O_i = T_i @ R_i$\n",
        "* `torch.einsum`: Performs matrix multiplications and more (i.e. sums of products) using the Einstein summation convention. Explanation of the Einstein sum can be found in assignment 1.\n",
        "\n",
        "Usually, we use `torch.matmul` or `torch.bmm`. We can try a matrix multiplication with `torch.matmul` below."
      ]
    },
    {
      "cell_type": "code",
      "execution_count": null,
      "metadata": {
        "id": "FPJRmLSaQRbe",
        "outputId": "d1128128-a15e-425e-e186-edecc61cb536"
      },
      "outputs": [
        {
          "name": "stdout",
          "output_type": "stream",
          "text": [
            "X tensor([[0, 1, 2],\n",
            "        [3, 4, 5]])\n"
          ]
        }
      ],
      "source": [
        "x = torch.arange(6)\n",
        "x = x.view(2, 3)\n",
        "print(\"X\", x)"
      ]
    },
    {
      "cell_type": "code",
      "execution_count": null,
      "metadata": {
        "id": "g49v-tHKQRbe",
        "outputId": "24159e50-8aa2-41b0-f24a-82713a5f51f7"
      },
      "outputs": [
        {
          "name": "stdout",
          "output_type": "stream",
          "text": [
            "W tensor([[0, 1, 2],\n",
            "        [3, 4, 5],\n",
            "        [6, 7, 8]])\n"
          ]
        }
      ],
      "source": [
        "W = torch.arange(9).view(3, 3) # We can also stack multiple operations in a single line\n",
        "print(\"W\", W)"
      ]
    },
    {
      "cell_type": "code",
      "execution_count": null,
      "metadata": {
        "id": "NLCWDqY9QRbe",
        "outputId": "95231365-4ef1-45bf-f09b-6ad1f01057f3"
      },
      "outputs": [
        {
          "name": "stdout",
          "output_type": "stream",
          "text": [
            "h tensor([[15, 18, 21],\n",
            "        [42, 54, 66]])\n"
          ]
        }
      ],
      "source": [
        "h = torch.matmul(x, W) # Verify the result by calculating it by hand too!\n",
        "print(\"h\", h)"
      ]
    },
    {
      "cell_type": "markdown",
      "metadata": {
        "id": "OzDxED-BQRbe"
      },
      "source": [
        "#### Indexing\n",
        "\n",
        "We often have the situation where we need to select a part of a tensor. Indexing works just like in numpy, so let's try it:"
      ]
    },
    {
      "cell_type": "code",
      "execution_count": null,
      "metadata": {
        "id": "wcGJtbk6QRbe",
        "outputId": "1c0c6321-0416-4b2c-caf8-cf086baf79d2"
      },
      "outputs": [
        {
          "name": "stdout",
          "output_type": "stream",
          "text": [
            "X tensor([[ 0,  1,  2,  3],\n",
            "        [ 4,  5,  6,  7],\n",
            "        [ 8,  9, 10, 11]])\n"
          ]
        }
      ],
      "source": [
        "x = torch.arange(12).view(3, 4)\n",
        "print(\"X\", x)"
      ]
    },
    {
      "cell_type": "code",
      "execution_count": null,
      "metadata": {
        "id": "d90ZstF8QRbf",
        "outputId": "0ae5bcf8-b55b-46ae-b1bd-8f7174d75fcd"
      },
      "outputs": [
        {
          "name": "stdout",
          "output_type": "stream",
          "text": [
            "tensor([1, 5, 9])\n"
          ]
        }
      ],
      "source": [
        "print(x[:, 1])   # Second column"
      ]
    },
    {
      "cell_type": "code",
      "execution_count": null,
      "metadata": {
        "id": "ZG2WmyxiQRbf",
        "outputId": "ee22da2c-501e-49c9-9346-cedbff84ddc7"
      },
      "outputs": [
        {
          "name": "stdout",
          "output_type": "stream",
          "text": [
            "tensor([0, 1, 2, 3])\n"
          ]
        }
      ],
      "source": [
        "print(x[0])      # First row"
      ]
    },
    {
      "cell_type": "code",
      "execution_count": null,
      "metadata": {
        "id": "5r6rHpXJQRbf",
        "outputId": "e2c48792-b069-478e-e129-498a83144386"
      },
      "outputs": [
        {
          "name": "stdout",
          "output_type": "stream",
          "text": [
            "tensor([3, 7])\n"
          ]
        }
      ],
      "source": [
        "print(x[:2, -1]) # First two rows, last column"
      ]
    },
    {
      "cell_type": "code",
      "execution_count": null,
      "metadata": {
        "id": "UXL54jgfQRbf",
        "outputId": "6878d46f-070d-4c0c-fe69-549445124b3b"
      },
      "outputs": [
        {
          "name": "stdout",
          "output_type": "stream",
          "text": [
            "tensor([[ 4,  5,  6,  7],\n",
            "        [ 8,  9, 10, 11]])\n"
          ]
        }
      ],
      "source": [
        "print(x[1:3, :]) # Middle two rows"
      ]
    },
    {
      "cell_type": "markdown",
      "metadata": {
        "id": "Xs7rbkprQRbf"
      },
      "source": [
        "### Dynamic Computation Graph and Backpropagation\n",
        "\n",
        "One of the main reasons for using PyTorch in Deep Learning projects is that we can automatically get **gradients/derivatives** of functions that we define. We will mainly use PyTorch for implementing neural networks, and they are just fancy functions. If we use weight matrices in our function that we want to learn, then those are called the **parameters** or simply the **weights**.\n",
        "\n",
        "If our neural network would output a single scalar value, we would talk about taking the **derivative**, but you will see that quite often we will have **multiple** output variables (\"values\"); in that case we talk about **gradients**. It's a more general term.\n",
        "\n",
        "Given an input $\\mathbf{x}$, we define our function by **manipulating** that input, usually by matrix-multiplications with weight matrices and additions with so-called bias vectors. As we manipulate our input, we are automatically creating a **computational graph**. This graph shows how to arrive at our output from our input. \n",
        "PyTorch is a **define-by-run** framework; this means that we can just do our manipulations, and PyTorch will keep track of that graph for us. Thus, we create a dynamic computation graph along the way.\n",
        "\n",
        "So, to recap: the only thing we have to do is to compute the **output**, and then we can ask PyTorch to automatically get the **gradients**. \n",
        "\n",
        "> **Note:  Why do we want gradients?** Consider that we have defined a function, a neural net, that is supposed to compute a certain output $y$ for an input vector $\\mathbf{x}$. We then define an **error measure** that tells us how wrong our network is; how bad it is in predicting output $y$ from input $\\mathbf{x}$. Based on this error measure, we can use the gradients to **update** the weights $\\mathbf{W}$ that were responsible for the output, so that the next time we present input $\\mathbf{x}$ to our network, the output will be closer to what we want.\n",
        "\n",
        "The first thing we have to do is to specify which tensors require gradients. By default, when we create a tensor, it does not require gradients."
      ]
    },
    {
      "cell_type": "code",
      "execution_count": null,
      "metadata": {
        "id": "HwXnGJO0QRbf",
        "outputId": "ac9daf2f-47cc-4cc5-f6d9-8e2ed43a038f"
      },
      "outputs": [
        {
          "name": "stdout",
          "output_type": "stream",
          "text": [
            "False\n"
          ]
        }
      ],
      "source": [
        "x = torch.ones((3,))\n",
        "print(x.requires_grad)"
      ]
    },
    {
      "cell_type": "markdown",
      "metadata": {
        "id": "bBEpKha5QRbf"
      },
      "source": [
        "We can change this for an existing tensor using the function `requires_grad_()` (underscore indicating that this is a in-place operation). Alternatively, when creating a tensor, you can pass the argument `requires_grad=True` to most initializers we have seen above."
      ]
    },
    {
      "cell_type": "code",
      "execution_count": null,
      "metadata": {
        "id": "w9GJUVSUQRbg",
        "outputId": "ef79474b-1c9e-49a9-9032-5be6714a98c9"
      },
      "outputs": [
        {
          "name": "stdout",
          "output_type": "stream",
          "text": [
            "True\n"
          ]
        }
      ],
      "source": [
        "x.requires_grad_(True)\n",
        "print(x.requires_grad)"
      ]
    },
    {
      "cell_type": "markdown",
      "metadata": {
        "id": "-IbiPsDjQRbg"
      },
      "source": [
        "In order to get familiar with the concept of a computation graph, we will create one for the following function:\n",
        "\n",
        "$$y = \\frac{1}{|x|}\\sum_i \\left[(x_i + 2)^2 + 3\\right]$$\n",
        "\n",
        "You could imagine that $x$ are our parameters, and we want to optimize (either maximize or minimize) the output $y$. For this, we want to obtain the gradients $\\partial y / \\partial \\mathbf{x}$. For our example, we'll use $\\mathbf{x}=[0,1,2]$ as our input."
      ]
    },
    {
      "cell_type": "code",
      "execution_count": null,
      "metadata": {
        "id": "t86E0tJ4QRbg",
        "outputId": "17543d39-d362-468e-ca95-65d1e08c7323"
      },
      "outputs": [
        {
          "name": "stdout",
          "output_type": "stream",
          "text": [
            "X tensor([0., 1., 2.], requires_grad=True)\n"
          ]
        }
      ],
      "source": [
        "x = torch.arange(3, dtype=torch.float32, requires_grad=True) # Only float tensors can have gradients\n",
        "print(\"X\", x)"
      ]
    },
    {
      "cell_type": "markdown",
      "metadata": {
        "id": "URyFy26tQRbg"
      },
      "source": [
        "Now let's build the computation graph step by step. You can combine multiple operations in a single line, but we will separate them here to get a better understanding of how each operation is added to the computation graph."
      ]
    },
    {
      "cell_type": "code",
      "execution_count": null,
      "metadata": {
        "id": "0tlnuGb3QRbg",
        "outputId": "4858ddb9-cf22-4ccf-d6b7-0e093cba049e"
      },
      "outputs": [
        {
          "name": "stdout",
          "output_type": "stream",
          "text": [
            "Y tensor(12.6667, grad_fn=<MeanBackward0>)\n"
          ]
        }
      ],
      "source": [
        "a = x + 2\n",
        "b = a ** 2\n",
        "c = b + 3\n",
        "y = c.mean()\n",
        "print(\"Y\", y)"
      ]
    },
    {
      "cell_type": "markdown",
      "metadata": {
        "id": "zuNV1kqbQRbg"
      },
      "source": [
        "Using the statements above, we have created a computation graph that looks similar to the figure below:\n",
        "\n",
        "<center style=\"width: 100%\"><img src=\"https://github.com/LiuBodan/uvadlc_notebooks/blob/master/docs/tutorial_notebooks/tutorial2/pytorch_computation_graph.svg?raw=1\" width=\"200px\"></center>\n",
        "\n",
        "We calculate $a$ based on the inputs $x$ and the constant $2$, $b$ is $a$ squared, and so on. The visualization is an abstraction of the dependencies between inputs and outputs of the operations we have applied.\n",
        "Each node of the computation graph has automatically defined a function for calculating the gradients with respect to its inputs, `grad_fn`. You can see this when we printed the output tensor $y$. This is why the computation graph is usually visualized in the reverse direction (arrows point from the result to the inputs). We can perform backpropagation on the computation graph by calling the function `backward()` on the last output, which effectively calculates the gradients for each tensor that has the property `requires_grad=True`:"
      ]
    },
    {
      "cell_type": "code",
      "execution_count": null,
      "metadata": {
        "id": "GWHRSrrGQRbg"
      },
      "outputs": [],
      "source": [
        "y.backward()"
      ]
    },
    {
      "cell_type": "markdown",
      "metadata": {
        "id": "LJPJssjeQRbh"
      },
      "source": [
        "`x.grad` will now contain the gradient $\\partial y/ \\partial \\mathcal{x}$, and this gradient indicates how a change in $\\mathbf{x}$ will affect output $y$ given the current input $\\mathbf{x}=[0,1,2]$:"
      ]
    },
    {
      "cell_type": "code",
      "execution_count": null,
      "metadata": {
        "id": "HePahLINQRbh",
        "outputId": "dd9ac8ee-9b10-4deb-871b-8485bcaf65d9"
      },
      "outputs": [
        {
          "name": "stdout",
          "output_type": "stream",
          "text": [
            "tensor([1.3333, 2.0000, 2.6667])\n"
          ]
        }
      ],
      "source": [
        "print(x.grad)"
      ]
    },
    {
      "cell_type": "markdown",
      "metadata": {
        "id": "N02FmbYfQRbh"
      },
      "source": [
        "We can also verify these gradients by hand. We will calculate the gradients using the chain rule, in the same way as PyTorch did it:\n",
        "\n",
        "$$\\frac{\\partial y}{\\partial x_i} = \\frac{\\partial y}{\\partial c_i}\\frac{\\partial c_i}{\\partial b_i}\\frac{\\partial b_i}{\\partial a_i}\\frac{\\partial a_i}{\\partial x_i}$$\n",
        "\n",
        "Note that we have simplified this equation to index notation, and by using the fact that all operation besides the mean do not combine the elements in the tensor. The partial derivatives are:\n",
        "\n",
        "$$\n",
        "\\frac{\\partial a_i}{\\partial x_i} = 1,\\hspace{1cm}\n",
        "\\frac{\\partial b_i}{\\partial a_i} = 2\\cdot a_i\\hspace{1cm}\n",
        "\\frac{\\partial c_i}{\\partial b_i} = 1\\hspace{1cm}\n",
        "\\frac{\\partial y}{\\partial c_i} = \\frac{1}{3}\n",
        "$$\n",
        "\n",
        "Hence, with the input being $\\mathbf{x}=[0,1,2]$, our gradients are $\\partial y/\\partial \\mathbf{x}=[4/3,2,8/3]$. The previous code cell should have printed the same result."
      ]
    },
    {
      "cell_type": "markdown",
      "metadata": {
        "id": "8Sokv19kQRbh"
      },
      "source": [
        "### GPU support\n",
        "\n",
        "A crucial feature of PyTorch is the support of GPUs, short for Graphics Processing Unit. A GPU can perform many thousands of small operations in parallel, making it very well suitable for performing large matrix operations in neural networks. When comparing GPUs to CPUs, we can list the following main differences (credit: [Kevin Krewell, 2009](https://blogs.nvidia.com/blog/2009/12/16/whats-the-difference-between-a-cpu-and-a-gpu/)) \n",
        "\n",
        "<center style=\"width: 100%\"><img src=\"https://github.com/LiuBodan/uvadlc_notebooks/blob/master/docs/tutorial_notebooks/tutorial2/comparison_CPU_GPU.png?raw=1\" width=\"700px\"></center>\n",
        "\n",
        "CPUs and GPUs have both different advantages and disadvantages, which is why many computers contain both components and use them for different tasks. In case you are not familiar with GPUs, you can read up more details in this [NVIDIA blog post](https://blogs.nvidia.com/blog/2009/12/16/whats-the-difference-between-a-cpu-and-a-gpu/) or [here](https://www.intel.com/content/www/us/en/products/docs/processors/what-is-a-gpu.html). \n",
        "\n",
        "GPUs can accelerate the training of your network up to a factor of $100$ which is essential for large neural networks. PyTorch implements a lot of functionality for supporting GPUs (mostly those of NVIDIA due to the libraries [CUDA](https://developer.nvidia.com/cuda-zone) and [cuDNN](https://developer.nvidia.com/cudnn)). First, let's check whether you have a GPU available:"
      ]
    },
    {
      "cell_type": "code",
      "execution_count": null,
      "metadata": {
        "id": "bUObJZ8mQRbh",
        "outputId": "42996b13-6993-42f9-be9d-cf91af5e5a73"
      },
      "outputs": [
        {
          "name": "stdout",
          "output_type": "stream",
          "text": [
            "Is the GPU available? True\n"
          ]
        }
      ],
      "source": [
        "gpu_avail = torch.cuda.is_available()\n",
        "print(f\"Is the GPU available? {gpu_avail}\")"
      ]
    },
    {
      "cell_type": "markdown",
      "metadata": {
        "id": "PLRdDMwGQRbh"
      },
      "source": [
        "If you have a GPU on your computer but the command above returns False, make sure you have the correct CUDA-version installed. The `dl2022` environment comes with the CUDA 11.7, which is selected for the Lisa supercomputer. Please change it if necessary (CUDA 11.3 is currently common on Colab). On Google Colab, make sure that you have selected a GPU in your runtime setup (in the menu, check under `Runtime -> Change runtime type`). \n",
        "\n",
        "By default, all tensors you create are stored on the CPU. We can push a tensor to the GPU by using the function `.to(...)`, or `.cuda()`. However, it is often a good practice to define a `device` object in your code which points to the GPU if you have one, and otherwise to the CPU. Then, you can write your code with respect to this device object, and it allows you to run the same code on both a CPU-only system, and one with a GPU. Let's try it below. We can specify the device as follows: "
      ]
    },
    {
      "cell_type": "code",
      "execution_count": null,
      "metadata": {
        "id": "KH71VIxaQRbh",
        "outputId": "f4e893fa-2bbb-4fbd-907c-5ea6479b1fe4"
      },
      "outputs": [
        {
          "name": "stdout",
          "output_type": "stream",
          "text": [
            "Device cuda\n"
          ]
        }
      ],
      "source": [
        "device = torch.device(\"cuda\") if torch.cuda.is_available() else torch.device(\"cpu\")\n",
        "print(\"Device\", device)"
      ]
    },
    {
      "cell_type": "markdown",
      "metadata": {
        "id": "_NvXk8ShQRbh"
      },
      "source": [
        "Now let's create a tensor and push it to the device:"
      ]
    },
    {
      "cell_type": "code",
      "execution_count": null,
      "metadata": {
        "id": "Ihpn5pr0QRbh",
        "outputId": "67481700-e43f-4f40-ec32-fb0aba48b86b"
      },
      "outputs": [
        {
          "name": "stdout",
          "output_type": "stream",
          "text": [
            "X tensor([[0., 0., 0.],\n",
            "        [0., 0., 0.]], device='cuda:0')\n"
          ]
        }
      ],
      "source": [
        "x = torch.zeros(2, 3)\n",
        "x = x.to(device)\n",
        "print(\"X\", x)"
      ]
    },
    {
      "cell_type": "markdown",
      "metadata": {
        "id": "hYWb5b_LQRbi"
      },
      "source": [
        "In case you have a GPU, you should now see the attribute `device='cuda:0'` being printed next to your tensor. The zero next to cuda indicates that this is the zero-th GPU device on your computer. PyTorch also supports multi-GPU systems, but this you will only need once you have very big networks to train (if interested, see the [PyTorch documentation](https://pytorch.org/docs/stable/distributed.html#distributed-basics)). We can also compare the runtime of a large matrix multiplication on the CPU with a operation on the GPU:"
      ]
    },
    {
      "cell_type": "code",
      "execution_count": null,
      "metadata": {
        "id": "NUrKKmXLQRbi",
        "outputId": "244482e2-5a70-41d2-87e5-783f1692d118"
      },
      "outputs": [
        {
          "name": "stdout",
          "output_type": "stream",
          "text": [
            "CPU time: 0.20694s\n",
            "GPU time: 0.00985s\n"
          ]
        }
      ],
      "source": [
        "x = torch.randn(5000, 5000)\n",
        "\n",
        "## CPU version\n",
        "start_time = time.time()\n",
        "_ = torch.matmul(x, x)\n",
        "end_time = time.time()\n",
        "print(f\"CPU time: {(end_time - start_time):6.5f}s\")\n",
        "\n",
        "## GPU version\n",
        "x = x.to(device)\n",
        "_ = torch.matmul(x, x)  # First operation to 'burn in' GPU\n",
        "# CUDA is asynchronous, so we need to use different timing functions\n",
        "start = torch.cuda.Event(enable_timing=True)\n",
        "end = torch.cuda.Event(enable_timing=True)\n",
        "start.record()\n",
        "_ = torch.matmul(x, x)\n",
        "end.record()\n",
        "torch.cuda.synchronize()  # Waits for everything to finish running on the GPU\n",
        "print(f\"GPU time: {0.001 * start.elapsed_time(end):6.5f}s\")  # Milliseconds to seconds"
      ]
    },
    {
      "cell_type": "markdown",
      "metadata": {
        "id": "qCkI0uqFQRbi"
      },
      "source": [
        "Depending on the size of the operation and the CPU/GPU in your system, the speedup of this operation can be >50x. As `matmul` operations are very common in neural networks, we can already see the great benefit of training a NN on a GPU. The time estimate can be relatively noisy here because we haven't run it for multiple times. Feel free to extend this, but it also takes longer to run.\n",
        "\n",
        "When generating random numbers, the seed between CPU and GPU is not synchronized. Hence, we need to set the seed on the GPU separately to ensure a reproducible code. Note that due to different GPU architectures, running the same code on different GPUs does not guarantee the same random numbers. Still, we don't want that our code gives us a different output every time we run it on the exact same hardware. Hence, we also set the seed on the GPU:"
      ]
    },
    {
      "cell_type": "code",
      "execution_count": null,
      "metadata": {
        "id": "lUFqq2buQRbi"
      },
      "outputs": [],
      "source": [
        "# GPU operations have a separate seed we also want to set\n",
        "if torch.cuda.is_available(): \n",
        "    torch.cuda.manual_seed(42)\n",
        "    torch.cuda.manual_seed_all(42)\n",
        "    \n",
        "# Additionally, some operations on a GPU are implemented stochastic for efficiency\n",
        "# We want to ensure that all operations are deterministic on GPU (if used) for reproducibility\n",
        "torch.backends.cudnn.deterministic = True\n",
        "torch.backends.cudnn.benchmark = False"
      ]
    },
    {
      "cell_type": "markdown",
      "metadata": {
        "id": "cBUjL2JoQRbi"
      },
      "source": [
        "## Learning by example: Continuous XOR\n",
        "\n",
        "If we want to build a neural network in PyTorch, we could specify all our parameters (weight matrices, bias vectors) using `Tensors` (with `requires_grad=True`), ask PyTorch to calculate the gradients and then adjust the parameters. But things can quickly get cumbersome if we have a lot of parameters. In PyTorch, there is a package called `torch.nn` that makes building neural networks more convenient. \n",
        "\n",
        "We will introduce the libraries and all additional parts you might need to train a neural network in PyTorch, using a simple example classifier on a simple yet well known example: XOR. Given two binary inputs $x_1$ and $x_2$, the label to predict is $1$ if either $x_1$ or $x_2$ is $1$ while the other is $0$, or the label is $0$ in all other cases. The example became famous by the fact that a single neuron, i.e. a linear classifier, cannot learn this simple function.\n",
        "Hence, we will learn how to build a small neural network that can learn this function. \n",
        "To make it a little bit more interesting, we move the XOR into continuous space and introduce some gaussian noise on the binary inputs. Our desired separation of an XOR dataset could look as follows:\n",
        "\n",
        "<center style=\"width: 100%\"><img src=\"https://github.com/LiuBodan/uvadlc_notebooks/blob/master/docs/tutorial_notebooks/tutorial2/continuous_xor.svg?raw=1\" width=\"350px\"></center>"
      ]
    },
    {
      "cell_type": "markdown",
      "metadata": {
        "id": "0ahKoQx6QRbi"
      },
      "source": [
        "### The model\n",
        "\n",
        "The package `torch.nn` defines a series of useful classes like linear networks layers, activation functions, loss functions etc. A full list can be found [here](https://pytorch.org/docs/stable/nn.html). In case you need a certain network layer, check the documentation of the package first before writing the layer yourself as the package likely contains the code for it already. We import it below:"
      ]
    },
    {
      "cell_type": "code",
      "execution_count": null,
      "metadata": {
        "id": "16xFUSQjQRbi"
      },
      "outputs": [],
      "source": [
        "import torch.nn as nn"
      ]
    },
    {
      "cell_type": "markdown",
      "metadata": {
        "id": "P8Q17LvMQRbi"
      },
      "source": [
        "Additionally to `torch.nn`, there is also `torch.nn.functional`. It contains functions that are used in network layers. This is in contrast to `torch.nn` which defines them as `nn.Modules` (more on it below), and `torch.nn` actually uses a lot of functionalities from `torch.nn.functional`. Hence, the functional package is useful in many situations, and so we import it as well here."
      ]
    },
    {
      "cell_type": "code",
      "execution_count": null,
      "metadata": {
        "id": "04B1DSFSQRbj"
      },
      "outputs": [],
      "source": [
        "import torch.nn.functional as F"
      ]
    },
    {
      "cell_type": "markdown",
      "metadata": {
        "id": "qFDOkJlZQRbj"
      },
      "source": [
        "#### nn.Module\n",
        "\n",
        "In PyTorch, a neural network is built up out of modules. Modules can contain other modules, and a neural network is considered to be a module itself as well. The basic template of a module is as follows:"
      ]
    },
    {
      "cell_type": "code",
      "execution_count": null,
      "metadata": {
        "id": "flmGU7-mQRbj"
      },
      "outputs": [],
      "source": [
        "class MyModule(nn.Module):\n",
        "    \n",
        "    def __init__(self):\n",
        "        super().__init__()\n",
        "        # Some init for my module\n",
        "        \n",
        "    def forward(self, x):\n",
        "        # Function for performing the calculation of the module.\n",
        "        pass"
      ]
    },
    {
      "cell_type": "markdown",
      "metadata": {
        "id": "qh_6YUtGQRbj"
      },
      "source": [
        "The forward function is where the computation of the module is taken place, and is executed when you call the module (`nn = MyModule(); nn(x)`). In the init function, we usually create the parameters of the module, using `nn.Parameter`, or defining other modules that are used in the forward function. The backward calculation is done automatically, but could be overwritten as well if wanted.\n",
        "\n",
        "#### Simple classifier\n",
        "We can now make use of the pre-defined modules in the `torch.nn` package, and define our own small neural network. We will use a minimal network with a input layer, one hidden layer with tanh as activation function, and a output layer. In other words, our networks should look something like this:\n",
        "\n",
        "<center width=\"100%\"><img src=\"https://github.com/LiuBodan/uvadlc_notebooks/blob/master/docs/tutorial_notebooks/tutorial2/small_neural_network.svg?raw=1\" width=\"300px\"></center>\n",
        "\n",
        "The input neurons are shown in blue, which represent the coordinates $x_1$ and $x_2$ of a data point. The hidden neurons including a tanh activation are shown in white, and the output neuron in red.\n",
        "In PyTorch, we can define this as follows:"
      ]
    },
    {
      "cell_type": "code",
      "execution_count": null,
      "metadata": {
        "id": "gmiK4XxRQRbj"
      },
      "outputs": [],
      "source": [
        "class SimpleClassifier(nn.Module):\n",
        "\n",
        "    def __init__(self, num_inputs, num_hidden, num_outputs):\n",
        "        super().__init__()\n",
        "        # Initialize the modules we need to build the network\n",
        "        self.linear1 = nn.Linear(num_inputs, num_hidden)\n",
        "        self.act_fn = nn.Tanh()\n",
        "        self.linear2 = nn.Linear(num_hidden, num_outputs)\n",
        "\n",
        "    def forward(self, x):\n",
        "        # Perform the calculation of the model to determine the prediction\n",
        "        x = self.linear1(x)\n",
        "        x = self.act_fn(x)\n",
        "        x = self.linear2(x)\n",
        "        return x"
      ]
    },
    {
      "cell_type": "markdown",
      "metadata": {
        "id": "NFCkQuzJQRbj"
      },
      "source": [
        "For the examples in this notebook, we will use a tiny neural network with two input neurons and four hidden neurons. As we perform binary classification, we will use a single output neuron. Note that we do not apply a sigmoid on the output yet. This is because other functions, especially the loss, are more efficient and precise to calculate on the original outputs instead of the sigmoid output. We will discuss the detailed reason later."
      ]
    },
    {
      "cell_type": "code",
      "execution_count": null,
      "metadata": {
        "id": "N7bmJ6EOQRbj",
        "outputId": "63115c01-c18c-4882-e2c7-3d0f86945371"
      },
      "outputs": [
        {
          "name": "stdout",
          "output_type": "stream",
          "text": [
            "SimpleClassifier(\n",
            "  (linear1): Linear(in_features=2, out_features=4, bias=True)\n",
            "  (act_fn): Tanh()\n",
            "  (linear2): Linear(in_features=4, out_features=1, bias=True)\n",
            ")\n"
          ]
        }
      ],
      "source": [
        "model = SimpleClassifier(num_inputs=2, num_hidden=4, num_outputs=1)\n",
        "# Printing a module shows all its submodules\n",
        "print(model)"
      ]
    },
    {
      "cell_type": "markdown",
      "metadata": {
        "id": "mizyutQHQRbj"
      },
      "source": [
        "Printing the model lists all submodules it contains. The parameters of a module can be obtained by using its `parameters()` functions, or `named_parameters()` to get a name to each parameter object. For our small neural network, we have the following parameters:"
      ]
    },
    {
      "cell_type": "code",
      "execution_count": null,
      "metadata": {
        "id": "ws7zB5KmQRbj",
        "outputId": "eae62fbe-f47a-4842-a092-2cfd196bdfe5"
      },
      "outputs": [
        {
          "name": "stdout",
          "output_type": "stream",
          "text": [
            "Parameter linear1.weight, shape torch.Size([4, 2])\n",
            "Parameter linear1.bias, shape torch.Size([4])\n",
            "Parameter linear2.weight, shape torch.Size([1, 4])\n",
            "Parameter linear2.bias, shape torch.Size([1])\n"
          ]
        }
      ],
      "source": [
        "for name, param in model.named_parameters():\n",
        "    print(f\"Parameter {name}, shape {param.shape}\")"
      ]
    },
    {
      "cell_type": "markdown",
      "metadata": {
        "id": "mMrELz3BQRbk"
      },
      "source": [
        "Each linear layer has a weight matrix of the shape `[output, input]`, and a bias of the shape `[output]`. The tanh activation function does not have any parameters. Note that parameters are only registered for `nn.Module` objects that are direct object attributes, i.e. `self.a = ...`. If you define a list of modules, the parameters of those are not registered for the outer module and can cause some issues when you try to optimize your module. There are alternatives, like `nn.ModuleList`, `nn.ModuleDict` and `nn.Sequential`, that allow you to have different data structures of modules. We will use them in a few later tutorials and explain them there. "
      ]
    },
    {
      "cell_type": "markdown",
      "metadata": {
        "id": "CZ_XJIm2QRbk"
      },
      "source": [
        "### The data\n",
        "\n",
        "PyTorch also provides a few functionalities to load the training and test data efficiently, summarized in the package `torch.utils.data`."
      ]
    },
    {
      "cell_type": "code",
      "execution_count": null,
      "metadata": {
        "id": "Q0XIYUbhQRbk"
      },
      "outputs": [],
      "source": [
        "import torch.utils.data as data"
      ]
    },
    {
      "cell_type": "markdown",
      "metadata": {
        "id": "7LEeANRaQRbk"
      },
      "source": [
        "The data package defines two classes which are the standard interface for handling data in PyTorch: `data.Dataset`, and `data.DataLoader`. The dataset class provides an uniform interface to access the training/test data, while the data loader makes sure to efficiently load and stack the data points from the dataset into batches during training."
      ]
    },
    {
      "cell_type": "markdown",
      "metadata": {
        "id": "qgzizfo6QRbk"
      },
      "source": [
        "#### The dataset class\n",
        "\n",
        "The dataset class summarizes the basic functionality of a dataset in a natural way. To define a dataset in PyTorch, we simply specify two functions: `__getitem__`, and `__len__`. The get-item function has to return the $i$-th data point in the dataset, while the len function returns the size of the dataset. For the XOR dataset, we can define the dataset class as follows:"
      ]
    },
    {
      "cell_type": "code",
      "execution_count": null,
      "metadata": {
        "id": "Uw9YyObqQRbk"
      },
      "outputs": [],
      "source": [
        "class XORDataset(data.Dataset):\n",
        "\n",
        "    def __init__(self, size, std=0.1):\n",
        "        \"\"\"\n",
        "        Inputs:\n",
        "            size - Number of data points we want to generate\n",
        "            std - Standard deviation of the noise (see generate_continuous_xor function)\n",
        "        \"\"\"\n",
        "        super().__init__()\n",
        "        self.size = size\n",
        "        self.std = std\n",
        "        self.generate_continuous_xor()\n",
        "\n",
        "    def generate_continuous_xor(self):\n",
        "        # Each data point in the XOR dataset has two variables, x and y, that can be either 0 or 1\n",
        "        # The label is their XOR combination, i.e. 1 if only x or only y is 1 while the other is 0.\n",
        "        # If x=y, the label is 0.\n",
        "        data = torch.randint(low=0, high=2, size=(self.size, 2), dtype=torch.float32)\n",
        "        label = (data.sum(dim=1) == 1).to(torch.long)\n",
        "        # To make it slightly more challenging, we add a bit of gaussian noise to the data points.\n",
        "        data += self.std * torch.randn(data.shape)\n",
        "\n",
        "        self.data = data\n",
        "        self.label = label\n",
        "\n",
        "    def __len__(self):\n",
        "        # Number of data point we have. Alternatively self.data.shape[0], or self.label.shape[0]\n",
        "        return self.size\n",
        "\n",
        "    def __getitem__(self, idx):\n",
        "        # Return the idx-th data point of the dataset\n",
        "        # If we have multiple things to return (data point and label), we can return them as tuple\n",
        "        data_point = self.data[idx]\n",
        "        data_label = self.label[idx]\n",
        "        return data_point, data_label"
      ]
    },
    {
      "cell_type": "markdown",
      "metadata": {
        "id": "N47j8BVkQRbk"
      },
      "source": [
        "Let's try to create such a dataset and inspect it:"
      ]
    },
    {
      "cell_type": "code",
      "execution_count": null,
      "metadata": {
        "id": "W2w3SlqCQRbk",
        "outputId": "b2ed8bc8-b22a-4c27-ffa5-58aed329b00d"
      },
      "outputs": [
        {
          "name": "stdout",
          "output_type": "stream",
          "text": [
            "Size of dataset: 200\n",
            "Data point 0: (tensor([0.9632, 0.1117]), tensor(1))\n"
          ]
        }
      ],
      "source": [
        "dataset = XORDataset(size=200)\n",
        "print(\"Size of dataset:\", len(dataset))\n",
        "print(\"Data point 0:\", dataset[0])"
      ]
    },
    {
      "cell_type": "markdown",
      "metadata": {
        "id": "SYyZ5iE2QRbk"
      },
      "source": [
        "To better relate to the dataset, we visualize the samples below. "
      ]
    },
    {
      "cell_type": "code",
      "execution_count": null,
      "metadata": {
        "id": "Id6XxtTLQRbl"
      },
      "outputs": [],
      "source": [
        "def visualize_samples(data, label):\n",
        "    if isinstance(data, torch.Tensor):\n",
        "        data = data.cpu().numpy()\n",
        "    if isinstance(label, torch.Tensor):\n",
        "        label = label.cpu().numpy()\n",
        "    data_0 = data[label == 0]\n",
        "    data_1 = data[label == 1]\n",
        "    \n",
        "    plt.figure(figsize=(4,4))\n",
        "    plt.scatter(data_0[:,0], data_0[:,1], edgecolor=\"#333\", label=\"Class 0\")\n",
        "    plt.scatter(data_1[:,0], data_1[:,1], edgecolor=\"#333\", label=\"Class 1\")\n",
        "    plt.title(\"Dataset samples\")\n",
        "    plt.ylabel(r\"$x_2$\")\n",
        "    plt.xlabel(r\"$x_1$\")\n",
        "    plt.legend()"
      ]
    },
    {
      "cell_type": "code",
      "execution_count": null,
      "metadata": {
        "id": "Q1D2I7btQRbl",
        "outputId": "536c34fa-63ff-472c-a169-64e393353338"
      },
      "outputs": [
        {
          "data": {
            "application/pdf": "[encoded data removed]",
            "image/svg+xml": [
              "<?xml version=\"1.0\" encoding=\"utf-8\" standalone=\"no\"?>\n",
              "<!DOCTYPE svg PUBLIC \"-//W3C//DTD SVG 1.1//EN\"\n",
              "  \"http://www.w3.org/Graphics/SVG/1.1/DTD/svg11.dtd\">\n",
              "<svg xmlns:xlink=\"http://www.w3.org/1999/xlink\" width=\"289.424844pt\" height=\"287.037813pt\" viewBox=\"0 0 289.424844 287.037813\" xmlns=\"http://www.w3.org/2000/svg\" version=\"1.1\">\n",
              " <metadata>\n",
              "  <rdf:RDF xmlns:dc=\"http://purl.org/dc/elements/1.1/\" xmlns:cc=\"http://creativecommons.org/ns#\" xmlns:rdf=\"http://www.w3.org/1999/02/22-rdf-syntax-ns#\">\n",
              "   <cc:Work>\n",
              "    <dc:type rdf:resource=\"http://purl.org/dc/dcmitype/StillImage\"/>\n",
              "    <dc:date>2022-11-01T09:50:18.584612</dc:date>\n",
              "    <dc:format>image/svg+xml</dc:format>\n",
              "    <dc:creator>\n",
              "     <cc:Agent>\n",
              "      <dc:title>Matplotlib v3.6.0, https://matplotlib.org/</dc:title>\n",
              "     </cc:Agent>\n",
              "    </dc:creator>\n",
              "   </cc:Work>\n",
              "  </rdf:RDF>\n",
              " </metadata>\n",
              " <defs>\n",
              "  <style type=\"text/css\">*{stroke-linejoin: round; stroke-linecap: butt}</style>\n",
              " </defs>\n",
              " <g id=\"figure_1\">\n",
              "  <g id=\"patch_1\">\n",
              "   <path d=\"M 0 287.037813 \n",
              "L 289.424844 287.037813 \n",
              "L 289.424844 0 \n",
              "L 0 0 \n",
              "z\n",
              "\" style=\"fill: #ffffff\"/>\n",
              "  </g>\n",
              "  <g id=\"axes_1\">\n",
              "   <g id=\"patch_2\">\n",
              "    <path d=\"M 59.024844 244.078125 \n",
              "L 282.224844 244.078125 \n",
              "L 282.224844 22.318125 \n",
              "L 59.024844 22.318125 \n",
              "z\n",
              "\" style=\"fill: #eaeaf2\"/>\n",
              "   </g>\n",
              "   <g id=\"matplotlib.axis_1\">\n",
              "    <g id=\"xtick_1\">\n",
              "     <g id=\"line2d_1\">\n",
              "      <path d=\"M 104.136211 244.078125 \n",
              "L 104.136211 22.318125 \n",
              "\" clip-path=\"url(#p49f31d4221)\" style=\"fill: none; stroke: #ffffff; stroke-linecap: round\"/>\n",
              "     </g>\n",
              "     <g id=\"text_1\">\n",
              "      <!-- 0.0 -->\n",
              "      <g style=\"fill: #262626\" transform=\"translate(95.389492 261.936406) scale(0.11 -0.11)\">\n",
              "       <defs>\n",
              "        <path id=\"DejaVuSans-30\" d=\"M 2034 4250 \n",
              "Q 1547 4250 1301 3770 \n",
              "Q 1056 3291 1056 2328 \n",
              "Q 1056 1369 1301 889 \n",
              "Q 1547 409 2034 409 \n",
              "Q 2525 409 2770 889 \n",
              "Q 3016 1369 3016 2328 \n",
              "Q 3016 3291 2770 3770 \n",
              "Q 2525 4250 2034 4250 \n",
              "z\n",
              "M 2034 4750 \n",
              "Q 2819 4750 3233 4129 \n",
              "Q 3647 3509 3647 2328 \n",
              "Q 3647 1150 3233 529 \n",
              "Q 2819 -91 2034 -91 \n",
              "Q 1250 -91 836 529 \n",
              "Q 422 1150 422 2328 \n",
              "Q 422 3509 836 4129 \n",
              "Q 1250 4750 2034 4750 \n",
              "z\n",
              "\" transform=\"scale(0.015625)\"/>\n",
              "        <path id=\"DejaVuSans-2e\" d=\"M 684 794 \n",
              "L 1344 794 \n",
              "L 1344 0 \n",
              "L 684 0 \n",
              "L 684 794 \n",
              "z\n",
              "\" transform=\"scale(0.015625)\"/>\n",
              "       </defs>\n",
              "       <use xlink:href=\"#DejaVuSans-30\"/>\n",
              "       <use xlink:href=\"#DejaVuSans-2e\" x=\"63.623047\"/>\n",
              "       <use xlink:href=\"#DejaVuSans-30\" x=\"95.410156\"/>\n",
              "      </g>\n",
              "     </g>\n",
              "    </g>\n",
              "    <g id=\"xtick_2\">\n",
              "     <g id=\"line2d_2\">\n",
              "      <path d=\"M 173.488267 244.078125 \n",
              "L 173.488267 22.318125 \n",
              "\" clip-path=\"url(#p49f31d4221)\" style=\"fill: none; stroke: #ffffff; stroke-linecap: round\"/>\n",
              "     </g>\n",
              "     <g id=\"text_2\">\n",
              "      <!-- 0.5 -->\n",
              "      <g style=\"fill: #262626\" transform=\"translate(164.741548 261.936406) scale(0.11 -0.11)\">\n",
              "       <defs>\n",
              "        <path id=\"DejaVuSans-35\" d=\"M 691 4666 \n",
              "L 3169 4666 \n",
              "L 3169 4134 \n",
              "L 1269 4134 \n",
              "L 1269 2991 \n",
              "Q 1406 3038 1543 3061 \n",
              "Q 1681 3084 1819 3084 \n",
              "Q 2600 3084 3056 2656 \n",
              "Q 3513 2228 3513 1497 \n",
              "Q 3513 744 3044 326 \n",
              "Q 2575 -91 1722 -91 \n",
              "Q 1428 -91 1123 -41 \n",
              "Q 819 9 494 109 \n",
              "L 494 744 \n",
              "Q 775 591 1075 516 \n",
              "Q 1375 441 1709 441 \n",
              "Q 2250 441 2565 725 \n",
              "Q 2881 1009 2881 1497 \n",
              "Q 2881 1984 2565 2268 \n",
              "Q 2250 2553 1709 2553 \n",
              "Q 1456 2553 1204 2497 \n",
              "Q 953 2441 691 2322 \n",
              "L 691 4666 \n",
              "z\n",
              "\" transform=\"scale(0.015625)\"/>\n",
              "       </defs>\n",
              "       <use xlink:href=\"#DejaVuSans-30\"/>\n",
              "       <use xlink:href=\"#DejaVuSans-2e\" x=\"63.623047\"/>\n",
              "       <use xlink:href=\"#DejaVuSans-35\" x=\"95.410156\"/>\n",
              "      </g>\n",
              "     </g>\n",
              "    </g>\n",
              "    <g id=\"xtick_3\">\n",
              "     <g id=\"line2d_3\">\n",
              "      <path d=\"M 242.840324 244.078125 \n",
              "L 242.840324 22.318125 \n",
              "\" clip-path=\"url(#p49f31d4221)\" style=\"fill: none; stroke: #ffffff; stroke-linecap: round\"/>\n",
              "     </g>\n",
              "     <g id=\"text_3\">\n",
              "      <!-- 1.0 -->\n",
              "      <g style=\"fill: #262626\" transform=\"translate(234.093605 261.936406) scale(0.11 -0.11)\">\n",
              "       <defs>\n",
              "        <path id=\"DejaVuSans-31\" d=\"M 794 531 \n",
              "L 1825 531 \n",
              "L 1825 4091 \n",
              "L 703 3866 \n",
              "L 703 4441 \n",
              "L 1819 4666 \n",
              "L 2450 4666 \n",
              "L 2450 531 \n",
              "L 3481 531 \n",
              "L 3481 0 \n",
              "L 794 0 \n",
              "L 794 531 \n",
              "z\n",
              "\" transform=\"scale(0.015625)\"/>\n",
              "       </defs>\n",
              "       <use xlink:href=\"#DejaVuSans-31\"/>\n",
              "       <use xlink:href=\"#DejaVuSans-2e\" x=\"63.623047\"/>\n",
              "       <use xlink:href=\"#DejaVuSans-30\" x=\"95.410156\"/>\n",
              "      </g>\n",
              "     </g>\n",
              "    </g>\n",
              "    <g id=\"text_4\">\n",
              "     <!-- $x_1$ -->\n",
              "     <g style=\"fill: #262626\" transform=\"translate(164.204844 277.342188) scale(0.12 -0.12)\">\n",
              "      <defs>\n",
              "       <path id=\"DejaVuSans-Oblique-78\" d=\"M 3841 3500 \n",
              "L 2234 1784 \n",
              "L 3219 0 \n",
              "L 2559 0 \n",
              "L 1819 1388 \n",
              "L 531 0 \n",
              "L -166 0 \n",
              "L 1556 1844 \n",
              "L 641 3500 \n",
              "L 1300 3500 \n",
              "L 1972 2234 \n",
              "L 3144 3500 \n",
              "L 3841 3500 \n",
              "z\n",
              "\" transform=\"scale(0.015625)\"/>\n",
              "      </defs>\n",
              "      <use xlink:href=\"#DejaVuSans-Oblique-78\" transform=\"translate(0 0.3125)\"/>\n",
              "      <use xlink:href=\"#DejaVuSans-31\" transform=\"translate(59.179688 -16.09375) scale(0.7)\"/>\n",
              "     </g>\n",
              "    </g>\n",
              "   </g>\n",
              "   <g id=\"matplotlib.axis_2\">\n",
              "    <g id=\"ytick_1\">\n",
              "     <g id=\"line2d_4\">\n",
              "      <path d=\"M 59.024844 227.948456 \n",
              "L 282.224844 227.948456 \n",
              "\" clip-path=\"url(#p49f31d4221)\" style=\"fill: none; stroke: #ffffff; stroke-linecap: round\"/>\n",
              "     </g>\n",
              "     <g id=\"text_5\">\n",
              "      <!-- −0.2 -->\n",
              "      <g style=\"fill: #262626\" transform=\"translate(22.81375 232.127597) scale(0.11 -0.11)\">\n",
              "       <defs>\n",
              "        <path id=\"DejaVuSans-2212\" d=\"M 678 2272 \n",
              "L 4684 2272 \n",
              "L 4684 1741 \n",
              "L 678 1741 \n",
              "L 678 2272 \n",
              "z\n",
              "\" transform=\"scale(0.015625)\"/>\n",
              "        <path id=\"DejaVuSans-32\" d=\"M 1228 531 \n",
              "L 3431 531 \n",
              "L 3431 0 \n",
              "L 469 0 \n",
              "L 469 531 \n",
              "Q 828 903 1448 1529 \n",
              "Q 2069 2156 2228 2338 \n",
              "Q 2531 2678 2651 2914 \n",
              "Q 2772 3150 2772 3378 \n",
              "Q 2772 3750 2511 3984 \n",
              "Q 2250 4219 1831 4219 \n",
              "Q 1534 4219 1204 4116 \n",
              "Q 875 4013 500 3803 \n",
              "L 500 4441 \n",
              "Q 881 4594 1212 4672 \n",
              "Q 1544 4750 1819 4750 \n",
              "Q 2544 4750 2975 4387 \n",
              "Q 3406 4025 3406 3419 \n",
              "Q 3406 3131 3298 2873 \n",
              "Q 3191 2616 2906 2266 \n",
              "Q 2828 2175 2409 1742 \n",
              "Q 1991 1309 1228 531 \n",
              "z\n",
              "\" transform=\"scale(0.015625)\"/>\n",
              "       </defs>\n",
              "       <use xlink:href=\"#DejaVuSans-2212\"/>\n",
              "       <use xlink:href=\"#DejaVuSans-30\" x=\"83.789062\"/>\n",
              "       <use xlink:href=\"#DejaVuSans-2e\" x=\"147.412109\"/>\n",
              "       <use xlink:href=\"#DejaVuSans-32\" x=\"179.199219\"/>\n",
              "      </g>\n",
              "     </g>\n",
              "    </g>\n",
              "    <g id=\"ytick_2\">\n",
              "     <g id=\"line2d_5\">\n",
              "      <path d=\"M 59.024844 199.792918 \n",
              "L 282.224844 199.792918 \n",
              "\" clip-path=\"url(#p49f31d4221)\" style=\"fill: none; stroke: #ffffff; stroke-linecap: round\"/>\n",
              "     </g>\n",
              "     <g id=\"text_6\">\n",
              "      <!-- 0.0 -->\n",
              "      <g style=\"fill: #262626\" transform=\"translate(32.031406 203.972059) scale(0.11 -0.11)\">\n",
              "       <use xlink:href=\"#DejaVuSans-30\"/>\n",
              "       <use xlink:href=\"#DejaVuSans-2e\" x=\"63.623047\"/>\n",
              "       <use xlink:href=\"#DejaVuSans-30\" x=\"95.410156\"/>\n",
              "      </g>\n",
              "     </g>\n",
              "    </g>\n",
              "    <g id=\"ytick_3\">\n",
              "     <g id=\"line2d_6\">\n",
              "      <path d=\"M 59.024844 171.63738 \n",
              "L 282.224844 171.63738 \n",
              "\" clip-path=\"url(#p49f31d4221)\" style=\"fill: none; stroke: #ffffff; stroke-linecap: round\"/>\n",
              "     </g>\n",
              "     <g id=\"text_7\">\n",
              "      <!-- 0.2 -->\n",
              "      <g style=\"fill: #262626\" transform=\"translate(32.031406 175.816521) scale(0.11 -0.11)\">\n",
              "       <use xlink:href=\"#DejaVuSans-30\"/>\n",
              "       <use xlink:href=\"#DejaVuSans-2e\" x=\"63.623047\"/>\n",
              "       <use xlink:href=\"#DejaVuSans-32\" x=\"95.410156\"/>\n",
              "      </g>\n",
              "     </g>\n",
              "    </g>\n",
              "    <g id=\"ytick_4\">\n",
              "     <g id=\"line2d_7\">\n",
              "      <path d=\"M 59.024844 143.481843 \n",
              "L 282.224844 143.481843 \n",
              "\" clip-path=\"url(#p49f31d4221)\" style=\"fill: none; stroke: #ffffff; stroke-linecap: round\"/>\n",
              "     </g>\n",
              "     <g id=\"text_8\">\n",
              "      <!-- 0.4 -->\n",
              "      <g style=\"fill: #262626\" transform=\"translate(32.031406 147.660983) scale(0.11 -0.11)\">\n",
              "       <defs>\n",
              "        <path id=\"DejaVuSans-34\" d=\"M 2419 4116 \n",
              "L 825 1625 \n",
              "L 2419 1625 \n",
              "L 2419 4116 \n",
              "z\n",
              "M 2253 4666 \n",
              "L 3047 4666 \n",
              "L 3047 1625 \n",
              "L 3713 1625 \n",
              "L 3713 1100 \n",
              "L 3047 1100 \n",
              "L 3047 0 \n",
              "L 2419 0 \n",
              "L 2419 1100 \n",
              "L 313 1100 \n",
              "L 313 1709 \n",
              "L 2253 4666 \n",
              "z\n",
              "\" transform=\"scale(0.015625)\"/>\n",
              "       </defs>\n",
              "       <use xlink:href=\"#DejaVuSans-30\"/>\n",
              "       <use xlink:href=\"#DejaVuSans-2e\" x=\"63.623047\"/>\n",
              "       <use xlink:href=\"#DejaVuSans-34\" x=\"95.410156\"/>\n",
              "      </g>\n",
              "     </g>\n",
              "    </g>\n",
              "    <g id=\"ytick_5\">\n",
              "     <g id=\"line2d_8\">\n",
              "      <path d=\"M 59.024844 115.326305 \n",
              "L 282.224844 115.326305 \n",
              "\" clip-path=\"url(#p49f31d4221)\" style=\"fill: none; stroke: #ffffff; stroke-linecap: round\"/>\n",
              "     </g>\n",
              "     <g id=\"text_9\">\n",
              "      <!-- 0.6 -->\n",
              "      <g style=\"fill: #262626\" transform=\"translate(32.031406 119.505445) scale(0.11 -0.11)\">\n",
              "       <defs>\n",
              "        <path id=\"DejaVuSans-36\" d=\"M 2113 2584 \n",
              "Q 1688 2584 1439 2293 \n",
              "Q 1191 2003 1191 1497 \n",
              "Q 1191 994 1439 701 \n",
              "Q 1688 409 2113 409 \n",
              "Q 2538 409 2786 701 \n",
              "Q 3034 994 3034 1497 \n",
              "Q 3034 2003 2786 2293 \n",
              "Q 2538 2584 2113 2584 \n",
              "z\n",
              "M 3366 4563 \n",
              "L 3366 3988 \n",
              "Q 3128 4100 2886 4159 \n",
              "Q 2644 4219 2406 4219 \n",
              "Q 1781 4219 1451 3797 \n",
              "Q 1122 3375 1075 2522 \n",
              "Q 1259 2794 1537 2939 \n",
              "Q 1816 3084 2150 3084 \n",
              "Q 2853 3084 3261 2657 \n",
              "Q 3669 2231 3669 1497 \n",
              "Q 3669 778 3244 343 \n",
              "Q 2819 -91 2113 -91 \n",
              "Q 1303 -91 875 529 \n",
              "Q 447 1150 447 2328 \n",
              "Q 447 3434 972 4092 \n",
              "Q 1497 4750 2381 4750 \n",
              "Q 2619 4750 2861 4703 \n",
              "Q 3103 4656 3366 4563 \n",
              "z\n",
              "\" transform=\"scale(0.015625)\"/>\n",
              "       </defs>\n",
              "       <use xlink:href=\"#DejaVuSans-30\"/>\n",
              "       <use xlink:href=\"#DejaVuSans-2e\" x=\"63.623047\"/>\n",
              "       <use xlink:href=\"#DejaVuSans-36\" x=\"95.410156\"/>\n",
              "      </g>\n",
              "     </g>\n",
              "    </g>\n",
              "    <g id=\"ytick_6\">\n",
              "     <g id=\"line2d_9\">\n",
              "      <path d=\"M 59.024844 87.170767 \n",
              "L 282.224844 87.170767 \n",
              "\" clip-path=\"url(#p49f31d4221)\" style=\"fill: none; stroke: #ffffff; stroke-linecap: round\"/>\n",
              "     </g>\n",
              "     <g id=\"text_10\">\n",
              "      <!-- 0.8 -->\n",
              "      <g style=\"fill: #262626\" transform=\"translate(32.031406 91.349908) scale(0.11 -0.11)\">\n",
              "       <defs>\n",
              "        <path id=\"DejaVuSans-38\" d=\"M 2034 2216 \n",
              "Q 1584 2216 1326 1975 \n",
              "Q 1069 1734 1069 1313 \n",
              "Q 1069 891 1326 650 \n",
              "Q 1584 409 2034 409 \n",
              "Q 2484 409 2743 651 \n",
              "Q 3003 894 3003 1313 \n",
              "Q 3003 1734 2745 1975 \n",
              "Q 2488 2216 2034 2216 \n",
              "z\n",
              "M 1403 2484 \n",
              "Q 997 2584 770 2862 \n",
              "Q 544 3141 544 3541 \n",
              "Q 544 4100 942 4425 \n",
              "Q 1341 4750 2034 4750 \n",
              "Q 2731 4750 3128 4425 \n",
              "Q 3525 4100 3525 3541 \n",
              "Q 3525 3141 3298 2862 \n",
              "Q 3072 2584 2669 2484 \n",
              "Q 3125 2378 3379 2068 \n",
              "Q 3634 1759 3634 1313 \n",
              "Q 3634 634 3220 271 \n",
              "Q 2806 -91 2034 -91 \n",
              "Q 1263 -91 848 271 \n",
              "Q 434 634 434 1313 \n",
              "Q 434 1759 690 2068 \n",
              "Q 947 2378 1403 2484 \n",
              "z\n",
              "M 1172 3481 \n",
              "Q 1172 3119 1398 2916 \n",
              "Q 1625 2713 2034 2713 \n",
              "Q 2441 2713 2670 2916 \n",
              "Q 2900 3119 2900 3481 \n",
              "Q 2900 3844 2670 4047 \n",
              "Q 2441 4250 2034 4250 \n",
              "Q 1625 4250 1398 4047 \n",
              "Q 1172 3844 1172 3481 \n",
              "z\n",
              "\" transform=\"scale(0.015625)\"/>\n",
              "       </defs>\n",
              "       <use xlink:href=\"#DejaVuSans-30\"/>\n",
              "       <use xlink:href=\"#DejaVuSans-2e\" x=\"63.623047\"/>\n",
              "       <use xlink:href=\"#DejaVuSans-38\" x=\"95.410156\"/>\n",
              "      </g>\n",
              "     </g>\n",
              "    </g>\n",
              "    <g id=\"ytick_7\">\n",
              "     <g id=\"line2d_10\">\n",
              "      <path d=\"M 59.024844 59.015229 \n",
              "L 282.224844 59.015229 \n",
              "\" clip-path=\"url(#p49f31d4221)\" style=\"fill: none; stroke: #ffffff; stroke-linecap: round\"/>\n",
              "     </g>\n",
              "     <g id=\"text_11\">\n",
              "      <!-- 1.0 -->\n",
              "      <g style=\"fill: #262626\" transform=\"translate(32.031406 63.19437) scale(0.11 -0.11)\">\n",
              "       <use xlink:href=\"#DejaVuSans-31\"/>\n",
              "       <use xlink:href=\"#DejaVuSans-2e\" x=\"63.623047\"/>\n",
              "       <use xlink:href=\"#DejaVuSans-30\" x=\"95.410156\"/>\n",
              "      </g>\n",
              "     </g>\n",
              "    </g>\n",
              "    <g id=\"ytick_8\">\n",
              "     <g id=\"line2d_11\">\n",
              "      <path d=\"M 59.024844 30.859691 \n",
              "L 282.224844 30.859691 \n",
              "\" clip-path=\"url(#p49f31d4221)\" style=\"fill: none; stroke: #ffffff; stroke-linecap: round\"/>\n",
              "     </g>\n",
              "     <g id=\"text_12\">\n",
              "      <!-- 1.2 -->\n",
              "      <g style=\"fill: #262626\" transform=\"translate(32.031406 35.038832) scale(0.11 -0.11)\">\n",
              "       <use xlink:href=\"#DejaVuSans-31\"/>\n",
              "       <use xlink:href=\"#DejaVuSans-2e\" x=\"63.623047\"/>\n",
              "       <use xlink:href=\"#DejaVuSans-32\" x=\"95.410156\"/>\n",
              "      </g>\n",
              "     </g>\n",
              "    </g>\n",
              "    <g id=\"text_13\">\n",
              "     <!-- $x_2$ -->\n",
              "     <g style=\"fill: #262626\" transform=\"translate(16.318125 139.618125) rotate(-90) scale(0.12 -0.12)\">\n",
              "      <use xlink:href=\"#DejaVuSans-Oblique-78\" transform=\"translate(0 0.3125)\"/>\n",
              "      <use xlink:href=\"#DejaVuSans-32\" transform=\"translate(59.179688 -16.09375) scale(0.7)\"/>\n",
              "     </g>\n",
              "    </g>\n",
              "   </g>\n",
              "   <g id=\"PathCollection_1\">\n",
              "    <defs>\n",
              "     <path id=\"mff48971e3f\" d=\"M 0 3 \n",
              "C 0.795609 3 1.55874 2.683901 2.12132 2.12132 \n",
              "C 2.683901 1.55874 3 0.795609 3 0 \n",
              "C 3 -0.795609 2.683901 -1.55874 2.12132 -2.12132 \n",
              "C 1.55874 -2.683901 0.795609 -3 0 -3 \n",
              "C -0.795609 -3 -1.55874 -2.683901 -2.12132 -2.12132 \n",
              "C -2.683901 -1.55874 -3 -0.795609 -3 0 \n",
              "C -3 0.795609 -2.683901 1.55874 -2.12132 2.12132 \n",
              "C -1.55874 2.683901 -0.795609 3 0 3 \n",
              "z\n",
              "\" style=\"stroke: #333333\"/>\n",
              "    </defs>\n",
              "    <g clip-path=\"url(#p49f31d4221)\">\n",
              "     <use xlink:href=\"#mff48971e3f\" x=\"103.175587\" y=\"196.722839\" style=\"fill: #4c72b0; stroke: #333333\"/>\n",
              "     <use xlink:href=\"#mff48971e3f\" x=\"238.921563\" y=\"62.936312\" style=\"fill: #4c72b0; stroke: #333333\"/>\n",
              "     <use xlink:href=\"#mff48971e3f\" x=\"265.843348\" y=\"64.604217\" style=\"fill: #4c72b0; stroke: #333333\"/>\n",
              "     <use xlink:href=\"#mff48971e3f\" x=\"115.777274\" y=\"208.027289\" style=\"fill: #4c72b0; stroke: #333333\"/>\n",
              "     <use xlink:href=\"#mff48971e3f\" x=\"108.189714\" y=\"208.673311\" style=\"fill: #4c72b0; stroke: #333333\"/>\n",
              "     <use xlink:href=\"#mff48971e3f\" x=\"77.84736\" y=\"192.883124\" style=\"fill: #4c72b0; stroke: #333333\"/>\n",
              "     <use xlink:href=\"#mff48971e3f\" x=\"249.749447\" y=\"59.286292\" style=\"fill: #4c72b0; stroke: #333333\"/>\n",
              "     <use xlink:href=\"#mff48971e3f\" x=\"238.880615\" y=\"52.019112\" style=\"fill: #4c72b0; stroke: #333333\"/>\n",
              "     <use xlink:href=\"#mff48971e3f\" x=\"100.84285\" y=\"208.171202\" style=\"fill: #4c72b0; stroke: #333333\"/>\n",
              "     <use xlink:href=\"#mff48971e3f\" x=\"244.40288\" y=\"54.192986\" style=\"fill: #4c72b0; stroke: #333333\"/>\n",
              "     <use xlink:href=\"#mff48971e3f\" x=\"110.407015\" y=\"203.846094\" style=\"fill: #4c72b0; stroke: #333333\"/>\n",
              "     <use xlink:href=\"#mff48971e3f\" x=\"262.419004\" y=\"32.398125\" style=\"fill: #4c72b0; stroke: #333333\"/>\n",
              "     <use xlink:href=\"#mff48971e3f\" x=\"244.921908\" y=\"63.389821\" style=\"fill: #4c72b0; stroke: #333333\"/>\n",
              "     <use xlink:href=\"#mff48971e3f\" x=\"239.033967\" y=\"58.458486\" style=\"fill: #4c72b0; stroke: #333333\"/>\n",
              "     <use xlink:href=\"#mff48971e3f\" x=\"101.128083\" y=\"216.407122\" style=\"fill: #4c72b0; stroke: #333333\"/>\n",
              "     <use xlink:href=\"#mff48971e3f\" x=\"96.095741\" y=\"188.27051\" style=\"fill: #4c72b0; stroke: #333333\"/>\n",
              "     <use xlink:href=\"#mff48971e3f\" x=\"258.131327\" y=\"92.174531\" style=\"fill: #4c72b0; stroke: #333333\"/>\n",
              "     <use xlink:href=\"#mff48971e3f\" x=\"261.679385\" y=\"84.973665\" style=\"fill: #4c72b0; stroke: #333333\"/>\n",
              "     <use xlink:href=\"#mff48971e3f\" x=\"232.969243\" y=\"59.869761\" style=\"fill: #4c72b0; stroke: #333333\"/>\n",
              "     <use xlink:href=\"#mff48971e3f\" x=\"88.886799\" y=\"212.915172\" style=\"fill: #4c72b0; stroke: #333333\"/>\n",
              "     <use xlink:href=\"#mff48971e3f\" x=\"260.837035\" y=\"32.829691\" style=\"fill: #4c72b0; stroke: #333333\"/>\n",
              "     <use xlink:href=\"#mff48971e3f\" x=\"252.014817\" y=\"60.703566\" style=\"fill: #4c72b0; stroke: #333333\"/>\n",
              "     <use xlink:href=\"#mff48971e3f\" x=\"121.285893\" y=\"178.887482\" style=\"fill: #4c72b0; stroke: #333333\"/>\n",
              "     <use xlink:href=\"#mff48971e3f\" x=\"235.52169\" y=\"32.535284\" style=\"fill: #4c72b0; stroke: #333333\"/>\n",
              "     <use xlink:href=\"#mff48971e3f\" x=\"106.644921\" y=\"198.203555\" style=\"fill: #4c72b0; stroke: #333333\"/>\n",
              "     <use xlink:href=\"#mff48971e3f\" x=\"234.671081\" y=\"52.08478\" style=\"fill: #4c72b0; stroke: #333333\"/>\n",
              "     <use xlink:href=\"#mff48971e3f\" x=\"93.74526\" y=\"182.615423\" style=\"fill: #4c72b0; stroke: #333333\"/>\n",
              "     <use xlink:href=\"#mff48971e3f\" x=\"257.590969\" y=\"49.299705\" style=\"fill: #4c72b0; stroke: #333333\"/>\n",
              "     <use xlink:href=\"#mff48971e3f\" x=\"253.260186\" y=\"62.291446\" style=\"fill: #4c72b0; stroke: #333333\"/>\n",
              "     <use xlink:href=\"#mff48971e3f\" x=\"247.043425\" y=\"44.118696\" style=\"fill: #4c72b0; stroke: #333333\"/>\n",
              "     <use xlink:href=\"#mff48971e3f\" x=\"99.204887\" y=\"187.59289\" style=\"fill: #4c72b0; stroke: #333333\"/>\n",
              "     <use xlink:href=\"#mff48971e3f\" x=\"111.370021\" y=\"213.43273\" style=\"fill: #4c72b0; stroke: #333333\"/>\n",
              "     <use xlink:href=\"#mff48971e3f\" x=\"94.224345\" y=\"172.552241\" style=\"fill: #4c72b0; stroke: #333333\"/>\n",
              "     <use xlink:href=\"#mff48971e3f\" x=\"104.609392\" y=\"204.875134\" style=\"fill: #4c72b0; stroke: #333333\"/>\n",
              "     <use xlink:href=\"#mff48971e3f\" x=\"119.066364\" y=\"204.414963\" style=\"fill: #4c72b0; stroke: #333333\"/>\n",
              "     <use xlink:href=\"#mff48971e3f\" x=\"100.250642\" y=\"199.146562\" style=\"fill: #4c72b0; stroke: #333333\"/>\n",
              "     <use xlink:href=\"#mff48971e3f\" x=\"119.826314\" y=\"215.984474\" style=\"fill: #4c72b0; stroke: #333333\"/>\n",
              "     <use xlink:href=\"#mff48971e3f\" x=\"220.787431\" y=\"39.964075\" style=\"fill: #4c72b0; stroke: #333333\"/>\n",
              "     <use xlink:href=\"#mff48971e3f\" x=\"260.272851\" y=\"65.444962\" style=\"fill: #4c72b0; stroke: #333333\"/>\n",
              "     <use xlink:href=\"#mff48971e3f\" x=\"245.066505\" y=\"64.58313\" style=\"fill: #4c72b0; stroke: #333333\"/>\n",
              "     <use xlink:href=\"#mff48971e3f\" x=\"100.198665\" y=\"209.048204\" style=\"fill: #4c72b0; stroke: #333333\"/>\n",
              "     <use xlink:href=\"#mff48971e3f\" x=\"229.560921\" y=\"90.419292\" style=\"fill: #4c72b0; stroke: #333333\"/>\n",
              "     <use xlink:href=\"#mff48971e3f\" x=\"252.931424\" y=\"57.466065\" style=\"fill: #4c72b0; stroke: #333333\"/>\n",
              "     <use xlink:href=\"#mff48971e3f\" x=\"104.772263\" y=\"215.89812\" style=\"fill: #4c72b0; stroke: #333333\"/>\n",
              "     <use xlink:href=\"#mff48971e3f\" x=\"117.472818\" y=\"221.55911\" style=\"fill: #4c72b0; stroke: #333333\"/>\n",
              "     <use xlink:href=\"#mff48971e3f\" x=\"126.142513\" y=\"180.101675\" style=\"fill: #4c72b0; stroke: #333333\"/>\n",
              "     <use xlink:href=\"#mff48971e3f\" x=\"236.295181\" y=\"72.852515\" style=\"fill: #4c72b0; stroke: #333333\"/>\n",
              "     <use xlink:href=\"#mff48971e3f\" x=\"223.971929\" y=\"44.796606\" style=\"fill: #4c72b0; stroke: #333333\"/>\n",
              "     <use xlink:href=\"#mff48971e3f\" x=\"97.284907\" y=\"209.459161\" style=\"fill: #4c72b0; stroke: #333333\"/>\n",
              "     <use xlink:href=\"#mff48971e3f\" x=\"237.50152\" y=\"69.402923\" style=\"fill: #4c72b0; stroke: #333333\"/>\n",
              "     <use xlink:href=\"#mff48971e3f\" x=\"105.506427\" y=\"204.583978\" style=\"fill: #4c72b0; stroke: #333333\"/>\n",
              "     <use xlink:href=\"#mff48971e3f\" x=\"249.16046\" y=\"33.833591\" style=\"fill: #4c72b0; stroke: #333333\"/>\n",
              "     <use xlink:href=\"#mff48971e3f\" x=\"102.030951\" y=\"192.066827\" style=\"fill: #4c72b0; stroke: #333333\"/>\n",
              "     <use xlink:href=\"#mff48971e3f\" x=\"234.523839\" y=\"77.653923\" style=\"fill: #4c72b0; stroke: #333333\"/>\n",
              "     <use xlink:href=\"#mff48971e3f\" x=\"246.0265\" y=\"47.935546\" style=\"fill: #4c72b0; stroke: #333333\"/>\n",
              "     <use xlink:href=\"#mff48971e3f\" x=\"77.849441\" y=\"193.95253\" style=\"fill: #4c72b0; stroke: #333333\"/>\n",
              "     <use xlink:href=\"#mff48971e3f\" x=\"223.848588\" y=\"47.691351\" style=\"fill: #4c72b0; stroke: #333333\"/>\n",
              "     <use xlink:href=\"#mff48971e3f\" x=\"254.206341\" y=\"66.4751\" style=\"fill: #4c72b0; stroke: #333333\"/>\n",
              "     <use xlink:href=\"#mff48971e3f\" x=\"89.806419\" y=\"200.290075\" style=\"fill: #4c72b0; stroke: #333333\"/>\n",
              "     <use xlink:href=\"#mff48971e3f\" x=\"101.474114\" y=\"233.998125\" style=\"fill: #4c72b0; stroke: #333333\"/>\n",
              "     <use xlink:href=\"#mff48971e3f\" x=\"100.92905\" y=\"203.39981\" style=\"fill: #4c72b0; stroke: #333333\"/>\n",
              "     <use xlink:href=\"#mff48971e3f\" x=\"82.790407\" y=\"203.53779\" style=\"fill: #4c72b0; stroke: #333333\"/>\n",
              "     <use xlink:href=\"#mff48971e3f\" x=\"268.426038\" y=\"66.615549\" style=\"fill: #4c72b0; stroke: #333333\"/>\n",
              "     <use xlink:href=\"#mff48971e3f\" x=\"234.515365\" y=\"74.78159\" style=\"fill: #4c72b0; stroke: #333333\"/>\n",
              "     <use xlink:href=\"#mff48971e3f\" x=\"260.429931\" y=\"40.024793\" style=\"fill: #4c72b0; stroke: #333333\"/>\n",
              "     <use xlink:href=\"#mff48971e3f\" x=\"83.354631\" y=\"188.559525\" style=\"fill: #4c72b0; stroke: #333333\"/>\n",
              "     <use xlink:href=\"#mff48971e3f\" x=\"245.761431\" y=\"83.623854\" style=\"fill: #4c72b0; stroke: #333333\"/>\n",
              "     <use xlink:href=\"#mff48971e3f\" x=\"256.086995\" y=\"90.999539\" style=\"fill: #4c72b0; stroke: #333333\"/>\n",
              "     <use xlink:href=\"#mff48971e3f\" x=\"125.251842\" y=\"222.197319\" style=\"fill: #4c72b0; stroke: #333333\"/>\n",
              "     <use xlink:href=\"#mff48971e3f\" x=\"115.574613\" y=\"210.741125\" style=\"fill: #4c72b0; stroke: #333333\"/>\n",
              "     <use xlink:href=\"#mff48971e3f\" x=\"101.824266\" y=\"193.355747\" style=\"fill: #4c72b0; stroke: #333333\"/>\n",
              "     <use xlink:href=\"#mff48971e3f\" x=\"102.668211\" y=\"190.997518\" style=\"fill: #4c72b0; stroke: #333333\"/>\n",
              "     <use xlink:href=\"#mff48971e3f\" x=\"246.373252\" y=\"54.496271\" style=\"fill: #4c72b0; stroke: #333333\"/>\n",
              "     <use xlink:href=\"#mff48971e3f\" x=\"233.834924\" y=\"89.462105\" style=\"fill: #4c72b0; stroke: #333333\"/>\n",
              "     <use xlink:href=\"#mff48971e3f\" x=\"101.780765\" y=\"198.962686\" style=\"fill: #4c72b0; stroke: #333333\"/>\n",
              "     <use xlink:href=\"#mff48971e3f\" x=\"113.855176\" y=\"190.119326\" style=\"fill: #4c72b0; stroke: #333333\"/>\n",
              "     <use xlink:href=\"#mff48971e3f\" x=\"115.431864\" y=\"197.531041\" style=\"fill: #4c72b0; stroke: #333333\"/>\n",
              "     <use xlink:href=\"#mff48971e3f\" x=\"246.091317\" y=\"37.893897\" style=\"fill: #4c72b0; stroke: #333333\"/>\n",
              "     <use xlink:href=\"#mff48971e3f\" x=\"245.18129\" y=\"36.021226\" style=\"fill: #4c72b0; stroke: #333333\"/>\n",
              "     <use xlink:href=\"#mff48971e3f\" x=\"103.858405\" y=\"211.79954\" style=\"fill: #4c72b0; stroke: #333333\"/>\n",
              "     <use xlink:href=\"#mff48971e3f\" x=\"256.895945\" y=\"38.007226\" style=\"fill: #4c72b0; stroke: #333333\"/>\n",
              "     <use xlink:href=\"#mff48971e3f\" x=\"239.223307\" y=\"73.3692\" style=\"fill: #4c72b0; stroke: #333333\"/>\n",
              "     <use xlink:href=\"#mff48971e3f\" x=\"255.063622\" y=\"33.797493\" style=\"fill: #4c72b0; stroke: #333333\"/>\n",
              "     <use xlink:href=\"#mff48971e3f\" x=\"95.292954\" y=\"196.343137\" style=\"fill: #4c72b0; stroke: #333333\"/>\n",
              "     <use xlink:href=\"#mff48971e3f\" x=\"241.134476\" y=\"48.50558\" style=\"fill: #4c72b0; stroke: #333333\"/>\n",
              "     <use xlink:href=\"#mff48971e3f\" x=\"105.39991\" y=\"216.294179\" style=\"fill: #4c72b0; stroke: #333333\"/>\n",
              "     <use xlink:href=\"#mff48971e3f\" x=\"114.664014\" y=\"207.926453\" style=\"fill: #4c72b0; stroke: #333333\"/>\n",
              "     <use xlink:href=\"#mff48971e3f\" x=\"94.590702\" y=\"194.572188\" style=\"fill: #4c72b0; stroke: #333333\"/>\n",
              "     <use xlink:href=\"#mff48971e3f\" x=\"219.680904\" y=\"54.467641\" style=\"fill: #4c72b0; stroke: #333333\"/>\n",
              "     <use xlink:href=\"#mff48971e3f\" x=\"232.032075\" y=\"48.348216\" style=\"fill: #4c72b0; stroke: #333333\"/>\n",
              "     <use xlink:href=\"#mff48971e3f\" x=\"209.50665\" y=\"45.13765\" style=\"fill: #4c72b0; stroke: #333333\"/>\n",
              "     <use xlink:href=\"#mff48971e3f\" x=\"93.845438\" y=\"194.89677\" style=\"fill: #4c72b0; stroke: #333333\"/>\n",
              "     <use xlink:href=\"#mff48971e3f\" x=\"123.551329\" y=\"210.643828\" style=\"fill: #4c72b0; stroke: #333333\"/>\n",
              "     <use xlink:href=\"#mff48971e3f\" x=\"98.640687\" y=\"213.543031\" style=\"fill: #4c72b0; stroke: #333333\"/>\n",
              "     <use xlink:href=\"#mff48971e3f\" x=\"232.756002\" y=\"92.064122\" style=\"fill: #4c72b0; stroke: #333333\"/>\n",
              "     <use xlink:href=\"#mff48971e3f\" x=\"108.951144\" y=\"198.740065\" style=\"fill: #4c72b0; stroke: #333333\"/>\n",
              "     <use xlink:href=\"#mff48971e3f\" x=\"101.769149\" y=\"192.46262\" style=\"fill: #4c72b0; stroke: #333333\"/>\n",
              "     <use xlink:href=\"#mff48971e3f\" x=\"96.379894\" y=\"203.757936\" style=\"fill: #4c72b0; stroke: #333333\"/>\n",
              "     <use xlink:href=\"#mff48971e3f\" x=\"106.03107\" y=\"211.899265\" style=\"fill: #4c72b0; stroke: #333333\"/>\n",
              "     <use xlink:href=\"#mff48971e3f\" x=\"218.441851\" y=\"58.574265\" style=\"fill: #4c72b0; stroke: #333333\"/>\n",
              "     <use xlink:href=\"#mff48971e3f\" x=\"227.615319\" y=\"41.850088\" style=\"fill: #4c72b0; stroke: #333333\"/>\n",
              "     <use xlink:href=\"#mff48971e3f\" x=\"79.001684\" y=\"218.262582\" style=\"fill: #4c72b0; stroke: #333333\"/>\n",
              "     <use xlink:href=\"#mff48971e3f\" x=\"242.780269\" y=\"81.620158\" style=\"fill: #4c72b0; stroke: #333333\"/>\n",
              "    </g>\n",
              "   </g>\n",
              "   <g id=\"PathCollection_2\">\n",
              "    <defs>\n",
              "     <path id=\"m3abe33a265\" d=\"M 0 3 \n",
              "C 0.795609 3 1.55874 2.683901 2.12132 2.12132 \n",
              "C 2.683901 1.55874 3 0.795609 3 0 \n",
              "C 3 -0.795609 2.683901 -1.55874 2.12132 -2.12132 \n",
              "C 1.55874 -2.683901 0.795609 -3 0 -3 \n",
              "C -0.795609 -3 -1.55874 -2.683901 -2.12132 -2.12132 \n",
              "C -2.683901 -1.55874 -3 -0.795609 -3 0 \n",
              "C -3 0.795609 -2.683901 1.55874 -2.12132 2.12132 \n",
              "C -1.55874 2.683901 -0.795609 3 0 3 \n",
              "z\n",
              "\" style=\"stroke: #333333\"/>\n",
              "    </defs>\n",
              "    <g clip-path=\"url(#p49f31d4221)\">\n",
              "     <use xlink:href=\"#m3abe33a265\" x=\"237.740969\" y=\"184.064459\" style=\"fill: #dd8452; stroke: #333333\"/>\n",
              "     <use xlink:href=\"#m3abe33a265\" x=\"250.706334\" y=\"184.340261\" style=\"fill: #dd8452; stroke: #333333\"/>\n",
              "     <use xlink:href=\"#m3abe33a265\" x=\"238.881003\" y=\"202.441215\" style=\"fill: #dd8452; stroke: #333333\"/>\n",
              "     <use xlink:href=\"#m3abe33a265\" x=\"96.610282\" y=\"45.851439\" style=\"fill: #dd8452; stroke: #333333\"/>\n",
              "     <use xlink:href=\"#m3abe33a265\" x=\"257.550343\" y=\"205.161614\" style=\"fill: #dd8452; stroke: #333333\"/>\n",
              "     <use xlink:href=\"#m3abe33a265\" x=\"107.264311\" y=\"64.372734\" style=\"fill: #dd8452; stroke: #333333\"/>\n",
              "     <use xlink:href=\"#m3abe33a265\" x=\"226.725944\" y=\"215.105614\" style=\"fill: #dd8452; stroke: #333333\"/>\n",
              "     <use xlink:href=\"#m3abe33a265\" x=\"137.462566\" y=\"60.339707\" style=\"fill: #dd8452; stroke: #333333\"/>\n",
              "     <use xlink:href=\"#m3abe33a265\" x=\"254.399964\" y=\"221.068731\" style=\"fill: #dd8452; stroke: #333333\"/>\n",
              "     <use xlink:href=\"#m3abe33a265\" x=\"221.661073\" y=\"188.801084\" style=\"fill: #dd8452; stroke: #333333\"/>\n",
              "     <use xlink:href=\"#m3abe33a265\" x=\"236.770813\" y=\"176.011923\" style=\"fill: #dd8452; stroke: #333333\"/>\n",
              "     <use xlink:href=\"#m3abe33a265\" x=\"72.595048\" y=\"45.008831\" style=\"fill: #dd8452; stroke: #333333\"/>\n",
              "     <use xlink:href=\"#m3abe33a265\" x=\"123.449481\" y=\"45.994237\" style=\"fill: #dd8452; stroke: #333333\"/>\n",
              "     <use xlink:href=\"#m3abe33a265\" x=\"103.341406\" y=\"77.572203\" style=\"fill: #dd8452; stroke: #333333\"/>\n",
              "     <use xlink:href=\"#m3abe33a265\" x=\"103.652293\" y=\"42.484313\" style=\"fill: #dd8452; stroke: #333333\"/>\n",
              "     <use xlink:href=\"#m3abe33a265\" x=\"82.572453\" y=\"39.362608\" style=\"fill: #dd8452; stroke: #333333\"/>\n",
              "     <use xlink:href=\"#m3abe33a265\" x=\"240.785963\" y=\"205.322233\" style=\"fill: #dd8452; stroke: #333333\"/>\n",
              "     <use xlink:href=\"#m3abe33a265\" x=\"223.146677\" y=\"183.914717\" style=\"fill: #dd8452; stroke: #333333\"/>\n",
              "     <use xlink:href=\"#m3abe33a265\" x=\"232.809459\" y=\"186.021764\" style=\"fill: #dd8452; stroke: #333333\"/>\n",
              "     <use xlink:href=\"#m3abe33a265\" x=\"114.75275\" y=\"59.992966\" style=\"fill: #dd8452; stroke: #333333\"/>\n",
              "     <use xlink:href=\"#m3abe33a265\" x=\"219.13022\" y=\"195.521501\" style=\"fill: #dd8452; stroke: #333333\"/>\n",
              "     <use xlink:href=\"#m3abe33a265\" x=\"263.953319\" y=\"204.08342\" style=\"fill: #dd8452; stroke: #333333\"/>\n",
              "     <use xlink:href=\"#m3abe33a265\" x=\"255.392004\" y=\"201.600425\" style=\"fill: #dd8452; stroke: #333333\"/>\n",
              "     <use xlink:href=\"#m3abe33a265\" x=\"230.139566\" y=\"205.687898\" style=\"fill: #dd8452; stroke: #333333\"/>\n",
              "     <use xlink:href=\"#m3abe33a265\" x=\"261.488557\" y=\"179.518498\" style=\"fill: #dd8452; stroke: #333333\"/>\n",
              "     <use xlink:href=\"#m3abe33a265\" x=\"90.064639\" y=\"71.126184\" style=\"fill: #dd8452; stroke: #333333\"/>\n",
              "     <use xlink:href=\"#m3abe33a265\" x=\"258.588002\" y=\"182.510698\" style=\"fill: #dd8452; stroke: #333333\"/>\n",
              "     <use xlink:href=\"#m3abe33a265\" x=\"117.683193\" y=\"55.774959\" style=\"fill: #dd8452; stroke: #333333\"/>\n",
              "     <use xlink:href=\"#m3abe33a265\" x=\"238.990257\" y=\"181.775374\" style=\"fill: #dd8452; stroke: #333333\"/>\n",
              "     <use xlink:href=\"#m3abe33a265\" x=\"75.361809\" y=\"57.662146\" style=\"fill: #dd8452; stroke: #333333\"/>\n",
              "     <use xlink:href=\"#m3abe33a265\" x=\"102.090572\" y=\"66.990484\" style=\"fill: #dd8452; stroke: #333333\"/>\n",
              "     <use xlink:href=\"#m3abe33a265\" x=\"230.25688\" y=\"212.375041\" style=\"fill: #dd8452; stroke: #333333\"/>\n",
              "     <use xlink:href=\"#m3abe33a265\" x=\"221.809167\" y=\"186.328734\" style=\"fill: #dd8452; stroke: #333333\"/>\n",
              "     <use xlink:href=\"#m3abe33a265\" x=\"107.069524\" y=\"61.423422\" style=\"fill: #dd8452; stroke: #333333\"/>\n",
              "     <use xlink:href=\"#m3abe33a265\" x=\"250.99108\" y=\"187.069023\" style=\"fill: #dd8452; stroke: #333333\"/>\n",
              "     <use xlink:href=\"#m3abe33a265\" x=\"107.646006\" y=\"69.452204\" style=\"fill: #dd8452; stroke: #333333\"/>\n",
              "     <use xlink:href=\"#m3abe33a265\" x=\"104.549879\" y=\"72.257232\" style=\"fill: #dd8452; stroke: #333333\"/>\n",
              "     <use xlink:href=\"#m3abe33a265\" x=\"268.105097\" y=\"213.073602\" style=\"fill: #dd8452; stroke: #333333\"/>\n",
              "     <use xlink:href=\"#m3abe33a265\" x=\"238.400187\" y=\"183.208803\" style=\"fill: #dd8452; stroke: #333333\"/>\n",
              "     <use xlink:href=\"#m3abe33a265\" x=\"91.295948\" y=\"56.491819\" style=\"fill: #dd8452; stroke: #333333\"/>\n",
              "     <use xlink:href=\"#m3abe33a265\" x=\"121.568333\" y=\"58.587926\" style=\"fill: #dd8452; stroke: #333333\"/>\n",
              "     <use xlink:href=\"#m3abe33a265\" x=\"125.003489\" y=\"40.639434\" style=\"fill: #dd8452; stroke: #333333\"/>\n",
              "     <use xlink:href=\"#m3abe33a265\" x=\"251.195219\" y=\"209.984157\" style=\"fill: #dd8452; stroke: #333333\"/>\n",
              "     <use xlink:href=\"#m3abe33a265\" x=\"91.801361\" y=\"60.733388\" style=\"fill: #dd8452; stroke: #333333\"/>\n",
              "     <use xlink:href=\"#m3abe33a265\" x=\"235.974935\" y=\"188.491788\" style=\"fill: #dd8452; stroke: #333333\"/>\n",
              "     <use xlink:href=\"#m3abe33a265\" x=\"106.729752\" y=\"74.521377\" style=\"fill: #dd8452; stroke: #333333\"/>\n",
              "     <use xlink:href=\"#m3abe33a265\" x=\"114.638428\" y=\"50.680713\" style=\"fill: #dd8452; stroke: #333333\"/>\n",
              "     <use xlink:href=\"#m3abe33a265\" x=\"113.545439\" y=\"54.197282\" style=\"fill: #dd8452; stroke: #333333\"/>\n",
              "     <use xlink:href=\"#m3abe33a265\" x=\"227.164001\" y=\"189.409162\" style=\"fill: #dd8452; stroke: #333333\"/>\n",
              "     <use xlink:href=\"#m3abe33a265\" x=\"91.795046\" y=\"78.604599\" style=\"fill: #dd8452; stroke: #333333\"/>\n",
              "     <use xlink:href=\"#m3abe33a265\" x=\"112.355405\" y=\"48.675045\" style=\"fill: #dd8452; stroke: #333333\"/>\n",
              "     <use xlink:href=\"#m3abe33a265\" x=\"218.881785\" y=\"185.380972\" style=\"fill: #dd8452; stroke: #333333\"/>\n",
              "     <use xlink:href=\"#m3abe33a265\" x=\"245.64443\" y=\"214.332575\" style=\"fill: #dd8452; stroke: #333333\"/>\n",
              "     <use xlink:href=\"#m3abe33a265\" x=\"109.784851\" y=\"49.194851\" style=\"fill: #dd8452; stroke: #333333\"/>\n",
              "     <use xlink:href=\"#m3abe33a265\" x=\"116.091024\" y=\"68.69468\" style=\"fill: #dd8452; stroke: #333333\"/>\n",
              "     <use xlink:href=\"#m3abe33a265\" x=\"225.780417\" y=\"198.5437\" style=\"fill: #dd8452; stroke: #333333\"/>\n",
              "     <use xlink:href=\"#m3abe33a265\" x=\"217.276378\" y=\"201.294091\" style=\"fill: #dd8452; stroke: #333333\"/>\n",
              "     <use xlink:href=\"#m3abe33a265\" x=\"113.27314\" y=\"63.165772\" style=\"fill: #dd8452; stroke: #333333\"/>\n",
              "     <use xlink:href=\"#m3abe33a265\" x=\"69.170298\" y=\"70.4775\" style=\"fill: #dd8452; stroke: #333333\"/>\n",
              "     <use xlink:href=\"#m3abe33a265\" x=\"98.698359\" y=\"78.564893\" style=\"fill: #dd8452; stroke: #333333\"/>\n",
              "     <use xlink:href=\"#m3abe33a265\" x=\"116.347165\" y=\"52.708383\" style=\"fill: #dd8452; stroke: #333333\"/>\n",
              "     <use xlink:href=\"#m3abe33a265\" x=\"94.391267\" y=\"64.035928\" style=\"fill: #dd8452; stroke: #333333\"/>\n",
              "     <use xlink:href=\"#m3abe33a265\" x=\"100.898505\" y=\"56.433368\" style=\"fill: #dd8452; stroke: #333333\"/>\n",
              "     <use xlink:href=\"#m3abe33a265\" x=\"116.977273\" y=\"69.173857\" style=\"fill: #dd8452; stroke: #333333\"/>\n",
              "     <use xlink:href=\"#m3abe33a265\" x=\"264.182211\" y=\"205.893872\" style=\"fill: #dd8452; stroke: #333333\"/>\n",
              "     <use xlink:href=\"#m3abe33a265\" x=\"86.626022\" y=\"40.196254\" style=\"fill: #dd8452; stroke: #333333\"/>\n",
              "     <use xlink:href=\"#m3abe33a265\" x=\"264.912405\" y=\"188.24511\" style=\"fill: #dd8452; stroke: #333333\"/>\n",
              "     <use xlink:href=\"#m3abe33a265\" x=\"251.653068\" y=\"174.836438\" style=\"fill: #dd8452; stroke: #333333\"/>\n",
              "     <use xlink:href=\"#m3abe33a265\" x=\"221.338296\" y=\"215.053945\" style=\"fill: #dd8452; stroke: #333333\"/>\n",
              "     <use xlink:href=\"#m3abe33a265\" x=\"225.251741\" y=\"231.325231\" style=\"fill: #dd8452; stroke: #333333\"/>\n",
              "     <use xlink:href=\"#m3abe33a265\" x=\"105.110938\" y=\"41.725431\" style=\"fill: #dd8452; stroke: #333333\"/>\n",
              "     <use xlink:href=\"#m3abe33a265\" x=\"227.955126\" y=\"182.071913\" style=\"fill: #dd8452; stroke: #333333\"/>\n",
              "     <use xlink:href=\"#m3abe33a265\" x=\"214.647143\" y=\"167.860073\" style=\"fill: #dd8452; stroke: #333333\"/>\n",
              "     <use xlink:href=\"#m3abe33a265\" x=\"91.350295\" y=\"47.613063\" style=\"fill: #dd8452; stroke: #333333\"/>\n",
              "     <use xlink:href=\"#m3abe33a265\" x=\"115.184403\" y=\"60.592713\" style=\"fill: #dd8452; stroke: #333333\"/>\n",
              "     <use xlink:href=\"#m3abe33a265\" x=\"253.888856\" y=\"187.512004\" style=\"fill: #dd8452; stroke: #333333\"/>\n",
              "     <use xlink:href=\"#m3abe33a265\" x=\"98.888029\" y=\"51.977778\" style=\"fill: #dd8452; stroke: #333333\"/>\n",
              "     <use xlink:href=\"#m3abe33a265\" x=\"110.839939\" y=\"62.358549\" style=\"fill: #dd8452; stroke: #333333\"/>\n",
              "     <use xlink:href=\"#m3abe33a265\" x=\"109.239359\" y=\"65.661131\" style=\"fill: #dd8452; stroke: #333333\"/>\n",
              "     <use xlink:href=\"#m3abe33a265\" x=\"237.390927\" y=\"180.24788\" style=\"fill: #dd8452; stroke: #333333\"/>\n",
              "     <use xlink:href=\"#m3abe33a265\" x=\"245.348705\" y=\"170.843528\" style=\"fill: #dd8452; stroke: #333333\"/>\n",
              "     <use xlink:href=\"#m3abe33a265\" x=\"254.203911\" y=\"188.41563\" style=\"fill: #dd8452; stroke: #333333\"/>\n",
              "     <use xlink:href=\"#m3abe33a265\" x=\"141.672506\" y=\"60.039544\" style=\"fill: #dd8452; stroke: #333333\"/>\n",
              "     <use xlink:href=\"#m3abe33a265\" x=\"220.590559\" y=\"217.37803\" style=\"fill: #dd8452; stroke: #333333\"/>\n",
              "     <use xlink:href=\"#m3abe33a265\" x=\"272.079389\" y=\"216.407409\" style=\"fill: #dd8452; stroke: #333333\"/>\n",
              "     <use xlink:href=\"#m3abe33a265\" x=\"233.703348\" y=\"213.313899\" style=\"fill: #dd8452; stroke: #333333\"/>\n",
              "     <use xlink:href=\"#m3abe33a265\" x=\"95.318892\" y=\"70.745677\" style=\"fill: #dd8452; stroke: #333333\"/>\n",
              "     <use xlink:href=\"#m3abe33a265\" x=\"93.064547\" y=\"60.036238\" style=\"fill: #dd8452; stroke: #333333\"/>\n",
              "     <use xlink:href=\"#m3abe33a265\" x=\"256.572474\" y=\"216.244964\" style=\"fill: #dd8452; stroke: #333333\"/>\n",
              "     <use xlink:href=\"#m3abe33a265\" x=\"93.50362\" y=\"67.616948\" style=\"fill: #dd8452; stroke: #333333\"/>\n",
              "     <use xlink:href=\"#m3abe33a265\" x=\"79.412994\" y=\"62.572016\" style=\"fill: #dd8452; stroke: #333333\"/>\n",
              "     <use xlink:href=\"#m3abe33a265\" x=\"123.191141\" y=\"49.138967\" style=\"fill: #dd8452; stroke: #333333\"/>\n",
              "     <use xlink:href=\"#m3abe33a265\" x=\"96.488538\" y=\"52.173154\" style=\"fill: #dd8452; stroke: #333333\"/>\n",
              "     <use xlink:href=\"#m3abe33a265\" x=\"264.233882\" y=\"213.711341\" style=\"fill: #dd8452; stroke: #333333\"/>\n",
              "     <use xlink:href=\"#m3abe33a265\" x=\"216.198134\" y=\"195.325995\" style=\"fill: #dd8452; stroke: #333333\"/>\n",
              "     <use xlink:href=\"#m3abe33a265\" x=\"105.002662\" y=\"45.008294\" style=\"fill: #dd8452; stroke: #333333\"/>\n",
              "     <use xlink:href=\"#m3abe33a265\" x=\"261.482984\" y=\"211.240618\" style=\"fill: #dd8452; stroke: #333333\"/>\n",
              "    </g>\n",
              "   </g>\n",
              "   <g id=\"patch_3\">\n",
              "    <path d=\"M 59.024844 244.078125 \n",
              "L 59.024844 22.318125 \n",
              "\" style=\"fill: none; stroke: #ffffff; stroke-width: 1.25; stroke-linejoin: miter; stroke-linecap: square\"/>\n",
              "   </g>\n",
              "   <g id=\"patch_4\">\n",
              "    <path d=\"M 282.224844 244.078125 \n",
              "L 282.224844 22.318125 \n",
              "\" style=\"fill: none; stroke: #ffffff; stroke-width: 1.25; stroke-linejoin: miter; stroke-linecap: square\"/>\n",
              "   </g>\n",
              "   <g id=\"patch_5\">\n",
              "    <path d=\"M 59.024844 244.078125 \n",
              "L 282.224844 244.078125 \n",
              "\" style=\"fill: none; stroke: #ffffff; stroke-width: 1.25; stroke-linejoin: miter; stroke-linecap: square\"/>\n",
              "   </g>\n",
              "   <g id=\"patch_6\">\n",
              "    <path d=\"M 59.024844 22.318125 \n",
              "L 282.224844 22.318125 \n",
              "\" style=\"fill: none; stroke: #ffffff; stroke-width: 1.25; stroke-linejoin: miter; stroke-linecap: square\"/>\n",
              "   </g>\n",
              "   <g id=\"text_14\">\n",
              "    <!-- Dataset samples -->\n",
              "    <g style=\"fill: #262626\" transform=\"translate(120.282031 16.318125) scale(0.12 -0.12)\">\n",
              "     <defs>\n",
              "      <path id=\"DejaVuSans-44\" d=\"M 1259 4147 \n",
              "L 1259 519 \n",
              "L 2022 519 \n",
              "Q 2988 519 3436 956 \n",
              "Q 3884 1394 3884 2338 \n",
              "Q 3884 3275 3436 3711 \n",
              "Q 2988 4147 2022 4147 \n",
              "L 1259 4147 \n",
              "z\n",
              "M 628 4666 \n",
              "L 1925 4666 \n",
              "Q 3281 4666 3915 4102 \n",
              "Q 4550 3538 4550 2338 \n",
              "Q 4550 1131 3912 565 \n",
              "Q 3275 0 1925 0 \n",
              "L 628 0 \n",
              "L 628 4666 \n",
              "z\n",
              "\" transform=\"scale(0.015625)\"/>\n",
              "      <path id=\"DejaVuSans-61\" d=\"M 2194 1759 \n",
              "Q 1497 1759 1228 1600 \n",
              "Q 959 1441 959 1056 \n",
              "Q 959 750 1161 570 \n",
              "Q 1363 391 1709 391 \n",
              "Q 2188 391 2477 730 \n",
              "Q 2766 1069 2766 1631 \n",
              "L 2766 1759 \n",
              "L 2194 1759 \n",
              "z\n",
              "M 3341 1997 \n",
              "L 3341 0 \n",
              "L 2766 0 \n",
              "L 2766 531 \n",
              "Q 2569 213 2275 61 \n",
              "Q 1981 -91 1556 -91 \n",
              "Q 1019 -91 701 211 \n",
              "Q 384 513 384 1019 \n",
              "Q 384 1609 779 1909 \n",
              "Q 1175 2209 1959 2209 \n",
              "L 2766 2209 \n",
              "L 2766 2266 \n",
              "Q 2766 2663 2505 2880 \n",
              "Q 2244 3097 1772 3097 \n",
              "Q 1472 3097 1187 3025 \n",
              "Q 903 2953 641 2809 \n",
              "L 641 3341 \n",
              "Q 956 3463 1253 3523 \n",
              "Q 1550 3584 1831 3584 \n",
              "Q 2591 3584 2966 3190 \n",
              "Q 3341 2797 3341 1997 \n",
              "z\n",
              "\" transform=\"scale(0.015625)\"/>\n",
              "      <path id=\"DejaVuSans-74\" d=\"M 1172 4494 \n",
              "L 1172 3500 \n",
              "L 2356 3500 \n",
              "L 2356 3053 \n",
              "L 1172 3053 \n",
              "L 1172 1153 \n",
              "Q 1172 725 1289 603 \n",
              "Q 1406 481 1766 481 \n",
              "L 2356 481 \n",
              "L 2356 0 \n",
              "L 1766 0 \n",
              "Q 1100 0 847 248 \n",
              "Q 594 497 594 1153 \n",
              "L 594 3053 \n",
              "L 172 3053 \n",
              "L 172 3500 \n",
              "L 594 3500 \n",
              "L 594 4494 \n",
              "L 1172 4494 \n",
              "z\n",
              "\" transform=\"scale(0.015625)\"/>\n",
              "      <path id=\"DejaVuSans-73\" d=\"M 2834 3397 \n",
              "L 2834 2853 \n",
              "Q 2591 2978 2328 3040 \n",
              "Q 2066 3103 1784 3103 \n",
              "Q 1356 3103 1142 2972 \n",
              "Q 928 2841 928 2578 \n",
              "Q 928 2378 1081 2264 \n",
              "Q 1234 2150 1697 2047 \n",
              "L 1894 2003 \n",
              "Q 2506 1872 2764 1633 \n",
              "Q 3022 1394 3022 966 \n",
              "Q 3022 478 2636 193 \n",
              "Q 2250 -91 1575 -91 \n",
              "Q 1294 -91 989 -36 \n",
              "Q 684 19 347 128 \n",
              "L 347 722 \n",
              "Q 666 556 975 473 \n",
              "Q 1284 391 1588 391 \n",
              "Q 1994 391 2212 530 \n",
              "Q 2431 669 2431 922 \n",
              "Q 2431 1156 2273 1281 \n",
              "Q 2116 1406 1581 1522 \n",
              "L 1381 1569 \n",
              "Q 847 1681 609 1914 \n",
              "Q 372 2147 372 2553 \n",
              "Q 372 3047 722 3315 \n",
              "Q 1072 3584 1716 3584 \n",
              "Q 2034 3584 2315 3537 \n",
              "Q 2597 3491 2834 3397 \n",
              "z\n",
              "\" transform=\"scale(0.015625)\"/>\n",
              "      <path id=\"DejaVuSans-65\" d=\"M 3597 1894 \n",
              "L 3597 1613 \n",
              "L 953 1613 \n",
              "Q 991 1019 1311 708 \n",
              "Q 1631 397 2203 397 \n",
              "Q 2534 397 2845 478 \n",
              "Q 3156 559 3463 722 \n",
              "L 3463 178 \n",
              "Q 3153 47 2828 -22 \n",
              "Q 2503 -91 2169 -91 \n",
              "Q 1331 -91 842 396 \n",
              "Q 353 884 353 1716 \n",
              "Q 353 2575 817 3079 \n",
              "Q 1281 3584 2069 3584 \n",
              "Q 2775 3584 3186 3129 \n",
              "Q 3597 2675 3597 1894 \n",
              "z\n",
              "M 3022 2063 \n",
              "Q 3016 2534 2758 2815 \n",
              "Q 2500 3097 2075 3097 \n",
              "Q 1594 3097 1305 2825 \n",
              "Q 1016 2553 972 2059 \n",
              "L 3022 2063 \n",
              "z\n",
              "\" transform=\"scale(0.015625)\"/>\n",
              "      <path id=\"DejaVuSans-20\" transform=\"scale(0.015625)\"/>\n",
              "      <path id=\"DejaVuSans-6d\" d=\"M 3328 2828 \n",
              "Q 3544 3216 3844 3400 \n",
              "Q 4144 3584 4550 3584 \n",
              "Q 5097 3584 5394 3201 \n",
              "Q 5691 2819 5691 2113 \n",
              "L 5691 0 \n",
              "L 5113 0 \n",
              "L 5113 2094 \n",
              "Q 5113 2597 4934 2840 \n",
              "Q 4756 3084 4391 3084 \n",
              "Q 3944 3084 3684 2787 \n",
              "Q 3425 2491 3425 1978 \n",
              "L 3425 0 \n",
              "L 2847 0 \n",
              "L 2847 2094 \n",
              "Q 2847 2600 2669 2842 \n",
              "Q 2491 3084 2119 3084 \n",
              "Q 1678 3084 1418 2786 \n",
              "Q 1159 2488 1159 1978 \n",
              "L 1159 0 \n",
              "L 581 0 \n",
              "L 581 3500 \n",
              "L 1159 3500 \n",
              "L 1159 2956 \n",
              "Q 1356 3278 1631 3431 \n",
              "Q 1906 3584 2284 3584 \n",
              "Q 2666 3584 2933 3390 \n",
              "Q 3200 3197 3328 2828 \n",
              "z\n",
              "\" transform=\"scale(0.015625)\"/>\n",
              "      <path id=\"DejaVuSans-70\" d=\"M 1159 525 \n",
              "L 1159 -1331 \n",
              "L 581 -1331 \n",
              "L 581 3500 \n",
              "L 1159 3500 \n",
              "L 1159 2969 \n",
              "Q 1341 3281 1617 3432 \n",
              "Q 1894 3584 2278 3584 \n",
              "Q 2916 3584 3314 3078 \n",
              "Q 3713 2572 3713 1747 \n",
              "Q 3713 922 3314 415 \n",
              "Q 2916 -91 2278 -91 \n",
              "Q 1894 -91 1617 61 \n",
              "Q 1341 213 1159 525 \n",
              "z\n",
              "M 3116 1747 \n",
              "Q 3116 2381 2855 2742 \n",
              "Q 2594 3103 2138 3103 \n",
              "Q 1681 3103 1420 2742 \n",
              "Q 1159 2381 1159 1747 \n",
              "Q 1159 1113 1420 752 \n",
              "Q 1681 391 2138 391 \n",
              "Q 2594 391 2855 752 \n",
              "Q 3116 1113 3116 1747 \n",
              "z\n",
              "\" transform=\"scale(0.015625)\"/>\n",
              "      <path id=\"DejaVuSans-6c\" d=\"M 603 4863 \n",
              "L 1178 4863 \n",
              "L 1178 0 \n",
              "L 603 0 \n",
              "L 603 4863 \n",
              "z\n",
              "\" transform=\"scale(0.015625)\"/>\n",
              "     </defs>\n",
              "     <use xlink:href=\"#DejaVuSans-44\"/>\n",
              "     <use xlink:href=\"#DejaVuSans-61\" x=\"77.001953\"/>\n",
              "     <use xlink:href=\"#DejaVuSans-74\" x=\"138.28125\"/>\n",
              "     <use xlink:href=\"#DejaVuSans-61\" x=\"177.490234\"/>\n",
              "     <use xlink:href=\"#DejaVuSans-73\" x=\"238.769531\"/>\n",
              "     <use xlink:href=\"#DejaVuSans-65\" x=\"290.869141\"/>\n",
              "     <use xlink:href=\"#DejaVuSans-74\" x=\"352.392578\"/>\n",
              "     <use xlink:href=\"#DejaVuSans-20\" x=\"391.601562\"/>\n",
              "     <use xlink:href=\"#DejaVuSans-73\" x=\"423.388672\"/>\n",
              "     <use xlink:href=\"#DejaVuSans-61\" x=\"475.488281\"/>\n",
              "     <use xlink:href=\"#DejaVuSans-6d\" x=\"536.767578\"/>\n",
              "     <use xlink:href=\"#DejaVuSans-70\" x=\"634.179688\"/>\n",
              "     <use xlink:href=\"#DejaVuSans-6c\" x=\"697.65625\"/>\n",
              "     <use xlink:href=\"#DejaVuSans-65\" x=\"725.439453\"/>\n",
              "     <use xlink:href=\"#DejaVuSans-73\" x=\"786.962891\"/>\n",
              "    </g>\n",
              "   </g>\n",
              "   <g id=\"legend_1\">\n",
              "    <g id=\"patch_7\">\n",
              "     <path d=\"M 199.891562 150.994063 \n",
              "L 274.524844 150.994063 \n",
              "Q 276.724844 150.994063 276.724844 148.794063 \n",
              "L 276.724844 117.602188 \n",
              "Q 276.724844 115.402188 274.524844 115.402188 \n",
              "L 199.891562 115.402188 \n",
              "Q 197.691562 115.402188 197.691562 117.602188 \n",
              "L 197.691562 148.794063 \n",
              "Q 197.691562 150.994063 199.891562 150.994063 \n",
              "z\n",
              "\" style=\"fill: #eaeaf2; opacity: 0.8; stroke: #cccccc; stroke-linejoin: miter\"/>\n",
              "    </g>\n",
              "    <g id=\"PathCollection_3\">\n",
              "     <g>\n",
              "      <use xlink:href=\"#mff48971e3f\" x=\"213.091562\" y=\"125.272969\" style=\"fill: #4c72b0; stroke: #333333\"/>\n",
              "     </g>\n",
              "    </g>\n",
              "    <g id=\"text_15\">\n",
              "     <!-- Class 0 -->\n",
              "     <g style=\"fill: #262626\" transform=\"translate(232.891562 128.160469) scale(0.11 -0.11)\">\n",
              "      <defs>\n",
              "       <path id=\"DejaVuSans-43\" d=\"M 4122 4306 \n",
              "L 4122 3641 \n",
              "Q 3803 3938 3442 4084 \n",
              "Q 3081 4231 2675 4231 \n",
              "Q 1875 4231 1450 3742 \n",
              "Q 1025 3253 1025 2328 \n",
              "Q 1025 1406 1450 917 \n",
              "Q 1875 428 2675 428 \n",
              "Q 3081 428 3442 575 \n",
              "Q 3803 722 4122 1019 \n",
              "L 4122 359 \n",
              "Q 3791 134 3420 21 \n",
              "Q 3050 -91 2638 -91 \n",
              "Q 1578 -91 968 557 \n",
              "Q 359 1206 359 2328 \n",
              "Q 359 3453 968 4101 \n",
              "Q 1578 4750 2638 4750 \n",
              "Q 3056 4750 3426 4639 \n",
              "Q 3797 4528 4122 4306 \n",
              "z\n",
              "\" transform=\"scale(0.015625)\"/>\n",
              "      </defs>\n",
              "      <use xlink:href=\"#DejaVuSans-43\"/>\n",
              "      <use xlink:href=\"#DejaVuSans-6c\" x=\"69.824219\"/>\n",
              "      <use xlink:href=\"#DejaVuSans-61\" x=\"97.607422\"/>\n",
              "      <use xlink:href=\"#DejaVuSans-73\" x=\"158.886719\"/>\n",
              "      <use xlink:href=\"#DejaVuSans-73\" x=\"210.986328\"/>\n",
              "      <use xlink:href=\"#DejaVuSans-20\" x=\"263.085938\"/>\n",
              "      <use xlink:href=\"#DejaVuSans-30\" x=\"294.873047\"/>\n",
              "     </g>\n",
              "    </g>\n",
              "    <g id=\"PathCollection_4\">\n",
              "     <g>\n",
              "      <use xlink:href=\"#m3abe33a265\" x=\"213.091562\" y=\"141.418906\" style=\"fill: #dd8452; stroke: #333333\"/>\n",
              "     </g>\n",
              "    </g>\n",
              "    <g id=\"text_16\">\n",
              "     <!-- Class 1 -->\n",
              "     <g style=\"fill: #262626\" transform=\"translate(232.891562 144.306406) scale(0.11 -0.11)\">\n",
              "      <use xlink:href=\"#DejaVuSans-43\"/>\n",
              "      <use xlink:href=\"#DejaVuSans-6c\" x=\"69.824219\"/>\n",
              "      <use xlink:href=\"#DejaVuSans-61\" x=\"97.607422\"/>\n",
              "      <use xlink:href=\"#DejaVuSans-73\" x=\"158.886719\"/>\n",
              "      <use xlink:href=\"#DejaVuSans-73\" x=\"210.986328\"/>\n",
              "      <use xlink:href=\"#DejaVuSans-20\" x=\"263.085938\"/>\n",
              "      <use xlink:href=\"#DejaVuSans-31\" x=\"294.873047\"/>\n",
              "     </g>\n",
              "    </g>\n",
              "   </g>\n",
              "  </g>\n",
              " </g>\n",
              " <defs>\n",
              "  <clipPath id=\"p49f31d4221\">\n",
              "   <rect x=\"59.024844\" y=\"22.318125\" width=\"223.2\" height=\"221.76\"/>\n",
              "  </clipPath>\n",
              " </defs>\n",
              "</svg>\n"
            ],
            "text/plain": [
              "<Figure size 400x400 with 1 Axes>"
            ]
          },
          "metadata": {},
          "output_type": "display_data"
        }
      ],
      "source": [
        "visualize_samples(dataset.data, dataset.label)\n",
        "plt.show()"
      ]
    },
    {
      "cell_type": "markdown",
      "metadata": {
        "id": "jQM9ri-nQRbl"
      },
      "source": [
        "#### The data loader class\n",
        "\n",
        "The class `torch.utils.data.DataLoader` represents a Python iterable over a dataset with support for automatic batching, multi-process data loading and many more features. The data loader communicates with the dataset using the function `__getitem__`, and stacks its outputs as tensors over the first dimension to form a batch.\n",
        "In contrast to the dataset class, we usually don't have to define our own data loader class, but can just create an object of it with the dataset as input. Additionally, we can configure our data loader with the following input arguments (only a selection, see full list [here](https://pytorch.org/docs/stable/data.html#torch.utils.data.DataLoader)):\n",
        "\n",
        "* `batch_size`: Number of samples to stack per batch\n",
        "* `shuffle`: If True, the data is returned in a random order. This is important during training for introducing stochasticity. \n",
        "* `num_workers`: Number of subprocesses to use for data loading. The default, 0, means that the data will be loaded in the main process which can slow down training for datasets where loading a data point takes a considerable amount of time (e.g. large images). More workers are recommended for those, but can cause issues on Windows computers. For tiny datasets as ours, 0 workers are usually faster.\n",
        "* `pin_memory`: If True, the data loader will copy Tensors into CUDA pinned memory before returning them. This can save some time for large data points on GPUs. Usually a good practice to use for a training set, but not necessarily for validation and test to save memory on the GPU.\n",
        "* `drop_last`: If True, the last batch is dropped in case it is smaller than the specified batch size. This occurs when the dataset size is not a multiple of the batch size. Only potentially helpful during training to keep a consistent batch size.\n",
        "\n",
        "Let's create a simple data loader below:"
      ]
    },
    {
      "cell_type": "code",
      "execution_count": null,
      "metadata": {
        "id": "HYZBwP5wQRbl"
      },
      "outputs": [],
      "source": [
        "data_loader = data.DataLoader(dataset, batch_size=8, shuffle=True)"
      ]
    },
    {
      "cell_type": "code",
      "execution_count": null,
      "metadata": {
        "id": "kglwj3mUQRbl",
        "outputId": "cc851d18-a072-408d-e839-0d2085308ac8"
      },
      "outputs": [
        {
          "name": "stdout",
          "output_type": "stream",
          "text": [
            "Data inputs torch.Size([8, 2]) \n",
            " tensor([[-0.0890,  0.8608],\n",
            "        [ 1.0905, -0.0128],\n",
            "        [ 0.7967,  0.2268],\n",
            "        [-0.0688,  0.0371],\n",
            "        [ 0.8732, -0.2240],\n",
            "        [-0.0559, -0.0282],\n",
            "        [ 0.9277,  0.0978],\n",
            "        [ 1.0150,  0.9689]])\n",
            "Data labels torch.Size([8]) \n",
            " tensor([1, 1, 1, 0, 1, 0, 1, 0])\n"
          ]
        }
      ],
      "source": [
        "# next(iter(...)) catches the first batch of the data loader\n",
        "# If shuffle is True, this will return a different batch every time we run this cell\n",
        "# For iterating over the whole dataset, we can simple use \"for batch in data_loader: ...\"\n",
        "data_inputs, data_labels = next(iter(data_loader))\n",
        "\n",
        "# The shape of the outputs are [batch_size, d_1,...,d_N] where d_1,...,d_N are the \n",
        "# dimensions of the data point returned from the dataset class\n",
        "print(\"Data inputs\", data_inputs.shape, \"\\n\", data_inputs)\n",
        "print(\"Data labels\", data_labels.shape, \"\\n\", data_labels)"
      ]
    },
    {
      "cell_type": "markdown",
      "metadata": {
        "id": "jE7ITOCRQRbl"
      },
      "source": [
        "### Optimization\n",
        "\n",
        "After defining the model and the dataset, it is time to prepare the optimization of the model. During training, we will perform the following steps:\n",
        "\n",
        "1. Get a batch from the data loader\n",
        "2. Obtain the predictions from the model for the batch\n",
        "3. Calculate the loss based on the difference between predictions and labels\n",
        "4. Backpropagation: calculate the gradients for every parameter with respect to the loss\n",
        "5. Update the parameters of the model in the direction of the gradients\n",
        "\n",
        "We have seen how we can do step 1, 2 and 4 in PyTorch. Now, we will look at step 3 and 5."
      ]
    },
    {
      "cell_type": "markdown",
      "metadata": {
        "id": "7iUqKWKTQRbl"
      },
      "source": [
        "#### Loss modules\n",
        "\n",
        "We can calculate the loss for a batch by simply performing a few tensor operations as those are automatically added to the computation graph. For instance, for binary classification, we can use Binary Cross Entropy (BCE) which is defined as follows:\n",
        "\n",
        "$$\\mathcal{L}_{BCE} = -\\sum_i \\left[ y_i \\log x_i + (1 - y_i) \\log (1 - x_i) \\right]$$\n",
        "\n",
        "where $y$ are our labels, and $x$ our predictions, both in the range of $[0,1]$. However, PyTorch already provides a list of predefined loss functions which we can use (see [here](https://pytorch.org/docs/stable/nn.html#loss-functions) for a full list). For instance, for BCE, PyTorch has two modules: `nn.BCELoss()`, `nn.BCEWithLogitsLoss()`. While `nn.BCELoss` expects the inputs $x$ to be in the range $[0,1]$, i.e. the output of a sigmoid, `nn.BCEWithLogitsLoss` combines a sigmoid layer and the BCE loss in a single class. This version is numerically more stable than using a plain Sigmoid followed by a BCE loss because of the logarithms applied in the loss function. Hence, it is adviced to use loss functions applied on \"logits\" where possible (remember to not apply a sigmoid on the output of the model in this case!). For our model defined above, we therefore use the module `nn.BCEWithLogitsLoss`. "
      ]
    },
    {
      "cell_type": "code",
      "execution_count": null,
      "metadata": {
        "id": "aaTg3eTnQRbl"
      },
      "outputs": [],
      "source": [
        "loss_module = nn.BCEWithLogitsLoss()"
      ]
    },
    {
      "cell_type": "markdown",
      "metadata": {
        "id": "StsscGUXQRbm"
      },
      "source": [
        "#### Stochastic Gradient Descent\n",
        "\n",
        "For updating the parameters, PyTorch provides the package `torch.optim` that has most popular optimizers implemented. We will discuss the specific optimizers and their differences later in the course, but will for now use the simplest of them: `torch.optim.SGD`. Stochastic Gradient Descent updates parameters by multiplying the gradients with a small constant, called learning rate, and subtracting those from the parameters (hence minimizing the loss). Therefore, we slowly move towards the direction of minimizing the loss. A good default value of the learning rate for a small network as ours is 0.1. "
      ]
    },
    {
      "cell_type": "code",
      "execution_count": null,
      "metadata": {
        "id": "fXwjYM1TQRbm"
      },
      "outputs": [],
      "source": [
        "# Input to the optimizer are the parameters of the model: model.parameters()\n",
        "optimizer = torch.optim.SGD(model.parameters(), lr=0.1)"
      ]
    },
    {
      "cell_type": "markdown",
      "metadata": {
        "id": "Zg8zzw_3QRbm"
      },
      "source": [
        "The optimizer provides two useful functions: `optimizer.step()`, and `optimizer.zero_grad()`. The step function updates the parameters based on the gradients as explained above. The function `optimizer.zero_grad()` sets the gradients of all parameters to zero. While this function seems less relevant at first, it is a crucial pre-step before performing backpropagation. If we call the `backward` function on the loss while the parameter gradients are non-zero from the previous batch, the new gradients would actually be added to the previous ones instead of overwriting them. This is done because a parameter might occur multiple times in a computation graph, and we need to sum the gradients in this case instead of replacing them. Hence, remember to call `optimizer.zero_grad()` before calculating the gradients of a batch."
      ]
    },
    {
      "cell_type": "markdown",
      "metadata": {
        "id": "q7tzzA0hQRbm"
      },
      "source": [
        "### Training\n",
        "\n",
        "Finally, we are ready to train our model. As a first step, we create a slightly larger dataset and specify a data loader with a larger batch size. "
      ]
    },
    {
      "cell_type": "code",
      "execution_count": null,
      "metadata": {
        "id": "_fwheu-TQRbm"
      },
      "outputs": [],
      "source": [
        "train_dataset = XORDataset(size=2500)\n",
        "train_data_loader = data.DataLoader(train_dataset, batch_size=128, shuffle=True)"
      ]
    },
    {
      "cell_type": "markdown",
      "metadata": {
        "id": "Qo5sV2bZQRbm"
      },
      "source": [
        "Now, we can write a small training function. Remember our five steps: load a batch, obtain the predictions, calculate the loss, backpropagate, and update. Additionally, we have to push all data and model parameters to the device of our choice (GPU if available). For the tiny neural network we have, communicating the data to the GPU actually takes much more time than we could save from running the operation on GPU. For large networks, the communication time is significantly smaller than the actual runtime making a GPU crucial in these cases. Still, to practice, we will push the data to GPU here. "
      ]
    },
    {
      "cell_type": "code",
      "execution_count": null,
      "metadata": {
        "id": "_Llz0OhRQRbm",
        "outputId": "bf4b7ecb-3b35-4e38-fd3c-7ca44f567d07"
      },
      "outputs": [
        {
          "data": {
            "text/plain": [
              "SimpleClassifier(\n",
              "  (linear1): Linear(in_features=2, out_features=4, bias=True)\n",
              "  (act_fn): Tanh()\n",
              "  (linear2): Linear(in_features=4, out_features=1, bias=True)\n",
              ")"
            ]
          },
          "execution_count": 50,
          "metadata": {},
          "output_type": "execute_result"
        }
      ],
      "source": [
        "# Push model to device. Has to be only done once\n",
        "model.to(device)"
      ]
    },
    {
      "cell_type": "markdown",
      "metadata": {
        "id": "kwuL7aBqQRbm"
      },
      "source": [
        "In addition, we set our model to training mode. This is done by calling `model.train()`. There exist certain modules that need to perform a different forward step during training than during testing (e.g. BatchNorm and Dropout), and we can switch between them using `model.train()` and `model.eval()`."
      ]
    },
    {
      "cell_type": "code",
      "execution_count": null,
      "metadata": {
        "id": "-ED4tLDzQRbm"
      },
      "outputs": [],
      "source": [
        "def train_model(model, optimizer, data_loader, loss_module, num_epochs=100):\n",
        "    # Set model to train mode\n",
        "    model.train() \n",
        "    \n",
        "    # Training loop\n",
        "    for epoch in tqdm(range(num_epochs)):\n",
        "        for data_inputs, data_labels in data_loader:\n",
        "            \n",
        "            ## Step 1: Move input data to device (only strictly necessary if we use GPU)\n",
        "            data_inputs = data_inputs.to(device)\n",
        "            data_labels = data_labels.to(device)\n",
        "            \n",
        "            ## Step 2: Run the model on the input data\n",
        "            preds = model(data_inputs)\n",
        "            preds = preds.squeeze(dim=1) # Output is [Batch size, 1], but we want [Batch size]\n",
        "            \n",
        "            ## Step 3: Calculate the loss\n",
        "            loss = loss_module(preds, data_labels.float())\n",
        "            \n",
        "            ## Step 4: Perform backpropagation\n",
        "            # Before calculating the gradients, we need to ensure that they are all zero. \n",
        "            # The gradients would not be overwritten, but actually added to the existing ones.\n",
        "            optimizer.zero_grad() \n",
        "            # Perform backpropagation\n",
        "            loss.backward()\n",
        "            \n",
        "            ## Step 5: Update the parameters\n",
        "            optimizer.step()"
      ]
    },
    {
      "cell_type": "code",
      "execution_count": null,
      "metadata": {
        "colab": {
          "referenced_widgets": [
            "eb0f1646f5f4459c86c22f0845150144"
          ]
        },
        "id": "TM9nhCo4QRbn",
        "outputId": "19c344a6-d0a9-4fd3-8381-980defc722e6"
      },
      "outputs": [
        {
          "data": {
            "application/vnd.jupyter.widget-view+json": {
              "model_id": "eb0f1646f5f4459c86c22f0845150144",
              "version_major": 2,
              "version_minor": 0
            },
            "text/plain": [
              "  0%|          | 0/100 [00:00<?, ?it/s]"
            ]
          },
          "metadata": {},
          "output_type": "display_data"
        }
      ],
      "source": [
        "train_model(model, optimizer, train_data_loader, loss_module)"
      ]
    },
    {
      "cell_type": "markdown",
      "metadata": {
        "id": "FSizONkgQRbn"
      },
      "source": [
        "#### Saving a model\n",
        "\n",
        "After finish training a model, we save the model to disk so that we can load the same weights at a later time. For this, we extract the so-called `state_dict` from the model which contains all learnable parameters. For our simple model, the state dict contains the following entries:"
      ]
    },
    {
      "cell_type": "code",
      "execution_count": null,
      "metadata": {
        "id": "cSgwKO_VQRbn",
        "outputId": "f34a6dee-730a-4c85-bacb-de1aa084fd50"
      },
      "outputs": [
        {
          "name": "stdout",
          "output_type": "stream",
          "text": [
            "OrderedDict([('linear1.weight', tensor([[-2.6034, -3.3292],\n",
            "        [ 1.9774, -2.4076],\n",
            "        [-2.5968, -1.5908],\n",
            "        [-0.5717, -0.8101]], device='cuda:0')), ('linear1.bias', tensor([ 1.4459, -1.3992,  2.9882, -0.1375], device='cuda:0')), ('linear2.weight', tensor([[-4.4623,  3.0885,  4.4030, -0.1377]], device='cuda:0')), ('linear2.bias', tensor([-1.6853], device='cuda:0'))])\n"
          ]
        }
      ],
      "source": [
        "state_dict = model.state_dict()\n",
        "print(state_dict)"
      ]
    },
    {
      "cell_type": "markdown",
      "metadata": {
        "id": "Nnj_x9Q9QRbn"
      },
      "source": [
        "To save the state dictionary, we can use `torch.save`:"
      ]
    },
    {
      "cell_type": "code",
      "execution_count": null,
      "metadata": {
        "id": "5N_qXl-9QRbn"
      },
      "outputs": [],
      "source": [
        "# torch.save(object, filename). For the filename, any extension can be used\n",
        "torch.save(state_dict, \"our_model.tar\")"
      ]
    },
    {
      "cell_type": "markdown",
      "metadata": {
        "id": "zRZfcaH8QRbn"
      },
      "source": [
        "To load a model from a state dict, we use the function `torch.load` to load the state dict from the disk, and the module function `load_state_dict` to overwrite our parameters with the new values:"
      ]
    },
    {
      "cell_type": "code",
      "execution_count": null,
      "metadata": {
        "id": "JTjru8mvQRbn",
        "outputId": "50f83cf4-d228-48a1-dbaf-9c1542a93ac3"
      },
      "outputs": [
        {
          "name": "stdout",
          "output_type": "stream",
          "text": [
            "Original model\n",
            " OrderedDict([('linear1.weight', tensor([[-2.6034, -3.3292],\n",
            "        [ 1.9774, -2.4076],\n",
            "        [-2.5968, -1.5908],\n",
            "        [-0.5717, -0.8101]], device='cuda:0')), ('linear1.bias', tensor([ 1.4459, -1.3992,  2.9882, -0.1375], device='cuda:0')), ('linear2.weight', tensor([[-4.4623,  3.0885,  4.4030, -0.1377]], device='cuda:0')), ('linear2.bias', tensor([-1.6853], device='cuda:0'))])\n",
            "\n",
            "Loaded model\n",
            " OrderedDict([('linear1.weight', tensor([[-2.6034, -3.3292],\n",
            "        [ 1.9774, -2.4076],\n",
            "        [-2.5968, -1.5908],\n",
            "        [-0.5717, -0.8101]])), ('linear1.bias', tensor([ 1.4459, -1.3992,  2.9882, -0.1375])), ('linear2.weight', tensor([[-4.4623,  3.0885,  4.4030, -0.1377]])), ('linear2.bias', tensor([-1.6853]))])\n"
          ]
        }
      ],
      "source": [
        "# Load state dict from the disk (make sure it is the same name as above)\n",
        "state_dict = torch.load(\"our_model.tar\")\n",
        "\n",
        "# Create a new model and load the state\n",
        "new_model = SimpleClassifier(num_inputs=2, num_hidden=4, num_outputs=1)\n",
        "new_model.load_state_dict(state_dict)\n",
        "\n",
        "# Verify that the parameters are the same\n",
        "print(\"Original model\\n\", model.state_dict())\n",
        "print(\"\\nLoaded model\\n\", new_model.state_dict())"
      ]
    },
    {
      "cell_type": "markdown",
      "metadata": {
        "id": "MYulHGg_QRbn"
      },
      "source": [
        "A detailed tutorial on saving and loading models in PyTorch can be found [here](https://pytorch.org/tutorials/beginner/saving_loading_models.html)."
      ]
    },
    {
      "cell_type": "markdown",
      "metadata": {
        "id": "0qmJ05ywQRbn"
      },
      "source": [
        "### Evaluation\n",
        "\n",
        "Once we have trained a model, it is time to evaluate it on a held-out test set. As our dataset consist of randomly generated data points, we need to first create a test set with a corresponding data loader."
      ]
    },
    {
      "cell_type": "code",
      "execution_count": null,
      "metadata": {
        "id": "1GvUbtJsQRbo"
      },
      "outputs": [],
      "source": [
        "test_dataset = XORDataset(size=500)\n",
        "# drop_last -> Don't drop the last batch although it is smaller than 128\n",
        "test_data_loader = data.DataLoader(test_dataset, batch_size=128, shuffle=False, drop_last=False) "
      ]
    },
    {
      "cell_type": "markdown",
      "metadata": {
        "id": "uz6aRbkXQRbo"
      },
      "source": [
        "As metric, we will use accuracy which is calculated as follows:\n",
        "\n",
        "$$acc = \\frac{\\#\\text{correct predictions}}{\\#\\text{all predictions}} = \\frac{TP+TN}{TP+TN+FP+FN}$$\n",
        "\n",
        "where TP are the true positives, TN true negatives, FP false positives, and FN the fale negatives. \n",
        "\n",
        "When evaluating the model, we don't need to keep track of the computation graph as we don't intend to calculate the gradients. This reduces the required memory and speed up the model. In PyTorch, we can deactivate the computation graph using `with torch.no_grad(): ...`. Remember to additionally set the model to eval mode."
      ]
    },
    {
      "cell_type": "code",
      "execution_count": null,
      "metadata": {
        "id": "tJE6ikGoQRbo"
      },
      "outputs": [],
      "source": [
        "def eval_model(model, data_loader):\n",
        "    model.eval() # Set model to eval mode\n",
        "    true_preds, num_preds = 0., 0.\n",
        "    \n",
        "    with torch.no_grad(): # Deactivate gradients for the following code\n",
        "        for data_inputs, data_labels in data_loader:\n",
        "            \n",
        "            # Determine prediction of model on dev set\n",
        "            data_inputs, data_labels = data_inputs.to(device), data_labels.to(device)\n",
        "            preds = model(data_inputs)\n",
        "            preds = preds.squeeze(dim=1)\n",
        "            preds = torch.sigmoid(preds) # Sigmoid to map predictions between 0 and 1\n",
        "            pred_labels = (preds >= 0.5).long() # Binarize predictions to 0 and 1\n",
        "            \n",
        "            # Keep records of predictions for the accuracy metric (true_preds=TP+TN, num_preds=TP+TN+FP+FN)\n",
        "            true_preds += (pred_labels == data_labels).sum()\n",
        "            num_preds += data_labels.shape[0]\n",
        "            \n",
        "    acc = true_preds / num_preds\n",
        "    print(f\"Accuracy of the model: {100.0*acc:4.2f}%\")"
      ]
    },
    {
      "cell_type": "code",
      "execution_count": null,
      "metadata": {
        "id": "pZvcsMBgQRbo",
        "outputId": "91b61c00-0271-4b19-8bdd-1b6f767a8fc1"
      },
      "outputs": [
        {
          "name": "stdout",
          "output_type": "stream",
          "text": [
            "Accuracy of the model: 100.00%\n"
          ]
        }
      ],
      "source": [
        "eval_model(model, test_data_loader)"
      ]
    },
    {
      "cell_type": "markdown",
      "metadata": {
        "id": "4pS-jNEQQRbo"
      },
      "source": [
        "If we trained our model correctly, we should see a score close to 100% accuracy. However, this is only possible because of our simple task, and unfortunately, we usually don't get such high scores on test sets of more complex tasks."
      ]
    },
    {
      "cell_type": "markdown",
      "metadata": {
        "id": "YUdlUEBYQRbo"
      },
      "source": [
        "#### Visualizing classification boundaries\n",
        "\n",
        "To visualize what our model has learned, we can perform a prediction for every data point in a range of $[-0.5, 1.5]$, and visualize the predicted class as in the sample figure at the beginning of this section. This shows where the model has created decision boundaries, and which points would be classified as $0$, and which as $1$. We therefore get a background image out of blue (class 0) and orange (class 1). The spots where the model is uncertain we will see a blurry overlap. The specific code is less relevant compared to the output figure which should hopefully show us a clear separation of classes:"
      ]
    },
    {
      "cell_type": "code",
      "execution_count": null,
      "metadata": {
        "id": "EUPS30vGQRbo",
        "outputId": "fb553467-7715-4f85-bcad-7a70a1711ff3"
      },
      "outputs": [
        {
          "data": {
            "application/pdf": "[encoded data removed]",
            "image/svg+xml": [
              "<?xml version=\"1.0\" encoding=\"utf-8\" standalone=\"no\"?>\n",
              "<!DOCTYPE svg PUBLIC \"-//W3C//DTD SVG 1.1//EN\"\n",
              "  \"http://www.w3.org/Graphics/SVG/1.1/DTD/svg11.dtd\">\n",
              "<svg xmlns:xlink=\"http://www.w3.org/1999/xlink\" width=\"303.730313pt\" height=\"287.037813pt\" viewBox=\"0 0 303.730313 287.037813\" xmlns=\"http://www.w3.org/2000/svg\" version=\"1.1\">\n",
              " <metadata>\n",
              "  <rdf:RDF xmlns:dc=\"http://purl.org/dc/elements/1.1/\" xmlns:cc=\"http://creativecommons.org/ns#\" xmlns:rdf=\"http://www.w3.org/1999/02/22-rdf-syntax-ns#\">\n",
              "   <cc:Work>\n",
              "    <dc:type rdf:resource=\"http://purl.org/dc/dcmitype/StillImage\"/>\n",
              "    <dc:date>2022-11-01T09:50:20.964632</dc:date>\n",
              "    <dc:format>image/svg+xml</dc:format>\n",
              "    <dc:creator>\n",
              "     <cc:Agent>\n",
              "      <dc:title>Matplotlib v3.6.0, https://matplotlib.org/</dc:title>\n",
              "     </cc:Agent>\n",
              "    </dc:creator>\n",
              "   </cc:Work>\n",
              "  </rdf:RDF>\n",
              " </metadata>\n",
              " <defs>\n",
              "  <style type=\"text/css\">*{stroke-linejoin: round; stroke-linecap: butt}</style>\n",
              " </defs>\n",
              " <g id=\"figure_1\">\n",
              "  <g id=\"patch_1\">\n",
              "   <path d=\"M 0 287.037813 \n",
              "L 303.730313 287.037813 \n",
              "L 303.730313 0 \n",
              "L 0 0 \n",
              "z\n",
              "\" style=\"fill: #ffffff\"/>\n",
              "  </g>\n",
              "  <g id=\"axes_1\">\n",
              "   <g id=\"patch_2\">\n",
              "    <path d=\"M 66.023594 244.078125 \n",
              "L 287.783594 244.078125 \n",
              "L 287.783594 22.318125 \n",
              "L 66.023594 22.318125 \n",
              "z\n",
              "\" style=\"fill: #eaeaf2\"/>\n",
              "   </g>\n",
              "   <g clip-path=\"url(#pe1d0b302d1)\">\n",
              "    <image xlink:href=\"data:image/png;base64,\n",
              "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\" id=\"imagef12aa2e9a2\" transform=\"scale(1 -1) translate(0 -221.904)\" x=\"66.023594\" y=\"-22.174125\" width=\"221.904\" height=\"221.904\"/>\n",
              "   </g>\n",
              "   <g id=\"matplotlib.axis_1\">\n",
              "    <g id=\"xtick_1\">\n",
              "     <g id=\"text_1\">\n",
              "      <!-- −0.5 -->\n",
              "      <g style=\"fill: #262626\" transform=\"translate(52.668047 261.936406) scale(0.11 -0.11)\">\n",
              "       <defs>\n",
              "        <path id=\"DejaVuSans-2212\" d=\"M 678 2272 \n",
              "L 4684 2272 \n",
              "L 4684 1741 \n",
              "L 678 1741 \n",
              "L 678 2272 \n",
              "z\n",
              "\" transform=\"scale(0.015625)\"/>\n",
              "        <path id=\"DejaVuSans-30\" d=\"M 2034 4250 \n",
              "Q 1547 4250 1301 3770 \n",
              "Q 1056 3291 1056 2328 \n",
              "Q 1056 1369 1301 889 \n",
              "Q 1547 409 2034 409 \n",
              "Q 2525 409 2770 889 \n",
              "Q 3016 1369 3016 2328 \n",
              "Q 3016 3291 2770 3770 \n",
              "Q 2525 4250 2034 4250 \n",
              "z\n",
              "M 2034 4750 \n",
              "Q 2819 4750 3233 4129 \n",
              "Q 3647 3509 3647 2328 \n",
              "Q 3647 1150 3233 529 \n",
              "Q 2819 -91 2034 -91 \n",
              "Q 1250 -91 836 529 \n",
              "Q 422 1150 422 2328 \n",
              "Q 422 3509 836 4129 \n",
              "Q 1250 4750 2034 4750 \n",
              "z\n",
              "\" transform=\"scale(0.015625)\"/>\n",
              "        <path id=\"DejaVuSans-2e\" d=\"M 684 794 \n",
              "L 1344 794 \n",
              "L 1344 0 \n",
              "L 684 0 \n",
              "L 684 794 \n",
              "z\n",
              "\" transform=\"scale(0.015625)\"/>\n",
              "        <path id=\"DejaVuSans-35\" d=\"M 691 4666 \n",
              "L 3169 4666 \n",
              "L 3169 4134 \n",
              "L 1269 4134 \n",
              "L 1269 2991 \n",
              "Q 1406 3038 1543 3061 \n",
              "Q 1681 3084 1819 3084 \n",
              "Q 2600 3084 3056 2656 \n",
              "Q 3513 2228 3513 1497 \n",
              "Q 3513 744 3044 326 \n",
              "Q 2575 -91 1722 -91 \n",
              "Q 1428 -91 1123 -41 \n",
              "Q 819 9 494 109 \n",
              "L 494 744 \n",
              "Q 775 591 1075 516 \n",
              "Q 1375 441 1709 441 \n",
              "Q 2250 441 2565 725 \n",
              "Q 2881 1009 2881 1497 \n",
              "Q 2881 1984 2565 2268 \n",
              "Q 2250 2553 1709 2553 \n",
              "Q 1456 2553 1204 2497 \n",
              "Q 953 2441 691 2322 \n",
              "L 691 4666 \n",
              "z\n",
              "\" transform=\"scale(0.015625)\"/>\n",
              "       </defs>\n",
              "       <use xlink:href=\"#DejaVuSans-2212\"/>\n",
              "       <use xlink:href=\"#DejaVuSans-30\" x=\"83.789062\"/>\n",
              "       <use xlink:href=\"#DejaVuSans-2e\" x=\"147.412109\"/>\n",
              "       <use xlink:href=\"#DejaVuSans-35\" x=\"179.199219\"/>\n",
              "      </g>\n",
              "     </g>\n",
              "    </g>\n",
              "    <g id=\"xtick_2\">\n",
              "     <g id=\"text_2\">\n",
              "      <!-- 0.0 -->\n",
              "      <g style=\"fill: #262626\" transform=\"translate(112.716875 261.936406) scale(0.11 -0.11)\">\n",
              "       <use xlink:href=\"#DejaVuSans-30\"/>\n",
              "       <use xlink:href=\"#DejaVuSans-2e\" x=\"63.623047\"/>\n",
              "       <use xlink:href=\"#DejaVuSans-30\" x=\"95.410156\"/>\n",
              "      </g>\n",
              "     </g>\n",
              "    </g>\n",
              "    <g id=\"xtick_3\">\n",
              "     <g id=\"text_3\">\n",
              "      <!-- 0.5 -->\n",
              "      <g style=\"fill: #262626\" transform=\"translate(168.156875 261.936406) scale(0.11 -0.11)\">\n",
              "       <use xlink:href=\"#DejaVuSans-30\"/>\n",
              "       <use xlink:href=\"#DejaVuSans-2e\" x=\"63.623047\"/>\n",
              "       <use xlink:href=\"#DejaVuSans-35\" x=\"95.410156\"/>\n",
              "      </g>\n",
              "     </g>\n",
              "    </g>\n",
              "    <g id=\"xtick_4\">\n",
              "     <g id=\"text_4\">\n",
              "      <!-- 1.0 -->\n",
              "      <g style=\"fill: #262626\" transform=\"translate(223.596875 261.936406) scale(0.11 -0.11)\">\n",
              "       <defs>\n",
              "        <path id=\"DejaVuSans-31\" d=\"M 794 531 \n",
              "L 1825 531 \n",
              "L 1825 4091 \n",
              "L 703 3866 \n",
              "L 703 4441 \n",
              "L 1819 4666 \n",
              "L 2450 4666 \n",
              "L 2450 531 \n",
              "L 3481 531 \n",
              "L 3481 0 \n",
              "L 794 0 \n",
              "L 794 531 \n",
              "z\n",
              "\" transform=\"scale(0.015625)\"/>\n",
              "       </defs>\n",
              "       <use xlink:href=\"#DejaVuSans-31\"/>\n",
              "       <use xlink:href=\"#DejaVuSans-2e\" x=\"63.623047\"/>\n",
              "       <use xlink:href=\"#DejaVuSans-30\" x=\"95.410156\"/>\n",
              "      </g>\n",
              "     </g>\n",
              "    </g>\n",
              "    <g id=\"xtick_5\">\n",
              "     <g id=\"text_5\">\n",
              "      <!-- 1.5 -->\n",
              "      <g style=\"fill: #262626\" transform=\"translate(279.036875 261.936406) scale(0.11 -0.11)\">\n",
              "       <use xlink:href=\"#DejaVuSans-31\"/>\n",
              "       <use xlink:href=\"#DejaVuSans-2e\" x=\"63.623047\"/>\n",
              "       <use xlink:href=\"#DejaVuSans-35\" x=\"95.410156\"/>\n",
              "      </g>\n",
              "     </g>\n",
              "    </g>\n",
              "    <g id=\"text_6\">\n",
              "     <!-- $x_1$ -->\n",
              "     <g style=\"fill: #262626\" transform=\"translate(170.483594 277.342188) scale(0.12 -0.12)\">\n",
              "      <defs>\n",
              "       <path id=\"DejaVuSans-Oblique-78\" d=\"M 3841 3500 \n",
              "L 2234 1784 \n",
              "L 3219 0 \n",
              "L 2559 0 \n",
              "L 1819 1388 \n",
              "L 531 0 \n",
              "L -166 0 \n",
              "L 1556 1844 \n",
              "L 641 3500 \n",
              "L 1300 3500 \n",
              "L 1972 2234 \n",
              "L 3144 3500 \n",
              "L 3841 3500 \n",
              "z\n",
              "\" transform=\"scale(0.015625)\"/>\n",
              "      </defs>\n",
              "      <use xlink:href=\"#DejaVuSans-Oblique-78\" transform=\"translate(0 0.3125)\"/>\n",
              "      <use xlink:href=\"#DejaVuSans-31\" transform=\"translate(59.179688 -16.09375) scale(0.7)\"/>\n",
              "     </g>\n",
              "    </g>\n",
              "   </g>\n",
              "   <g id=\"matplotlib.axis_2\">\n",
              "    <g id=\"ytick_1\">\n",
              "     <g id=\"text_7\">\n",
              "      <!-- −0.50 -->\n",
              "      <g style=\"fill: #262626\" transform=\"translate(22.81375 248.257266) scale(0.11 -0.11)\">\n",
              "       <use xlink:href=\"#DejaVuSans-2212\"/>\n",
              "       <use xlink:href=\"#DejaVuSans-30\" x=\"83.789062\"/>\n",
              "       <use xlink:href=\"#DejaVuSans-2e\" x=\"147.412109\"/>\n",
              "       <use xlink:href=\"#DejaVuSans-35\" x=\"179.199219\"/>\n",
              "       <use xlink:href=\"#DejaVuSans-30\" x=\"242.822266\"/>\n",
              "      </g>\n",
              "     </g>\n",
              "    </g>\n",
              "    <g id=\"ytick_2\">\n",
              "     <g id=\"text_8\">\n",
              "      <!-- −0.25 -->\n",
              "      <g style=\"fill: #262626\" transform=\"translate(22.81375 220.537266) scale(0.11 -0.11)\">\n",
              "       <defs>\n",
              "        <path id=\"DejaVuSans-32\" d=\"M 1228 531 \n",
              "L 3431 531 \n",
              "L 3431 0 \n",
              "L 469 0 \n",
              "L 469 531 \n",
              "Q 828 903 1448 1529 \n",
              "Q 2069 2156 2228 2338 \n",
              "Q 2531 2678 2651 2914 \n",
              "Q 2772 3150 2772 3378 \n",
              "Q 2772 3750 2511 3984 \n",
              "Q 2250 4219 1831 4219 \n",
              "Q 1534 4219 1204 4116 \n",
              "Q 875 4013 500 3803 \n",
              "L 500 4441 \n",
              "Q 881 4594 1212 4672 \n",
              "Q 1544 4750 1819 4750 \n",
              "Q 2544 4750 2975 4387 \n",
              "Q 3406 4025 3406 3419 \n",
              "Q 3406 3131 3298 2873 \n",
              "Q 3191 2616 2906 2266 \n",
              "Q 2828 2175 2409 1742 \n",
              "Q 1991 1309 1228 531 \n",
              "z\n",
              "\" transform=\"scale(0.015625)\"/>\n",
              "       </defs>\n",
              "       <use xlink:href=\"#DejaVuSans-2212\"/>\n",
              "       <use xlink:href=\"#DejaVuSans-30\" x=\"83.789062\"/>\n",
              "       <use xlink:href=\"#DejaVuSans-2e\" x=\"147.412109\"/>\n",
              "       <use xlink:href=\"#DejaVuSans-32\" x=\"179.199219\"/>\n",
              "       <use xlink:href=\"#DejaVuSans-35\" x=\"242.822266\"/>\n",
              "      </g>\n",
              "     </g>\n",
              "    </g>\n",
              "    <g id=\"ytick_3\">\n",
              "     <g id=\"text_9\">\n",
              "      <!-- 0.00 -->\n",
              "      <g style=\"fill: #262626\" transform=\"translate(32.031406 192.817266) scale(0.11 -0.11)\">\n",
              "       <use xlink:href=\"#DejaVuSans-30\"/>\n",
              "       <use xlink:href=\"#DejaVuSans-2e\" x=\"63.623047\"/>\n",
              "       <use xlink:href=\"#DejaVuSans-30\" x=\"95.410156\"/>\n",
              "       <use xlink:href=\"#DejaVuSans-30\" x=\"159.033203\"/>\n",
              "      </g>\n",
              "     </g>\n",
              "    </g>\n",
              "    <g id=\"ytick_4\">\n",
              "     <g id=\"text_10\">\n",
              "      <!-- 0.25 -->\n",
              "      <g style=\"fill: #262626\" transform=\"translate(32.031406 165.097266) scale(0.11 -0.11)\">\n",
              "       <use xlink:href=\"#DejaVuSans-30\"/>\n",
              "       <use xlink:href=\"#DejaVuSans-2e\" x=\"63.623047\"/>\n",
              "       <use xlink:href=\"#DejaVuSans-32\" x=\"95.410156\"/>\n",
              "       <use xlink:href=\"#DejaVuSans-35\" x=\"159.033203\"/>\n",
              "      </g>\n",
              "     </g>\n",
              "    </g>\n",
              "    <g id=\"ytick_5\">\n",
              "     <g id=\"text_11\">\n",
              "      <!-- 0.50 -->\n",
              "      <g style=\"fill: #262626\" transform=\"translate(32.031406 137.377266) scale(0.11 -0.11)\">\n",
              "       <use xlink:href=\"#DejaVuSans-30\"/>\n",
              "       <use xlink:href=\"#DejaVuSans-2e\" x=\"63.623047\"/>\n",
              "       <use xlink:href=\"#DejaVuSans-35\" x=\"95.410156\"/>\n",
              "       <use xlink:href=\"#DejaVuSans-30\" x=\"159.033203\"/>\n",
              "      </g>\n",
              "     </g>\n",
              "    </g>\n",
              "    <g id=\"ytick_6\">\n",
              "     <g id=\"text_12\">\n",
              "      <!-- 0.75 -->\n",
              "      <g style=\"fill: #262626\" transform=\"translate(32.031406 109.657266) scale(0.11 -0.11)\">\n",
              "       <defs>\n",
              "        <path id=\"DejaVuSans-37\" d=\"M 525 4666 \n",
              "L 3525 4666 \n",
              "L 3525 4397 \n",
              "L 1831 0 \n",
              "L 1172 0 \n",
              "L 2766 4134 \n",
              "L 525 4134 \n",
              "L 525 4666 \n",
              "z\n",
              "\" transform=\"scale(0.015625)\"/>\n",
              "       </defs>\n",
              "       <use xlink:href=\"#DejaVuSans-30\"/>\n",
              "       <use xlink:href=\"#DejaVuSans-2e\" x=\"63.623047\"/>\n",
              "       <use xlink:href=\"#DejaVuSans-37\" x=\"95.410156\"/>\n",
              "       <use xlink:href=\"#DejaVuSans-35\" x=\"159.033203\"/>\n",
              "      </g>\n",
              "     </g>\n",
              "    </g>\n",
              "    <g id=\"ytick_7\">\n",
              "     <g id=\"text_13\">\n",
              "      <!-- 1.00 -->\n",
              "      <g style=\"fill: #262626\" transform=\"translate(32.031406 81.937266) scale(0.11 -0.11)\">\n",
              "       <use xlink:href=\"#DejaVuSans-31\"/>\n",
              "       <use xlink:href=\"#DejaVuSans-2e\" x=\"63.623047\"/>\n",
              "       <use xlink:href=\"#DejaVuSans-30\" x=\"95.410156\"/>\n",
              "       <use xlink:href=\"#DejaVuSans-30\" x=\"159.033203\"/>\n",
              "      </g>\n",
              "     </g>\n",
              "    </g>\n",
              "    <g id=\"ytick_8\">\n",
              "     <g id=\"text_14\">\n",
              "      <!-- 1.25 -->\n",
              "      <g style=\"fill: #262626\" transform=\"translate(32.031406 54.217266) scale(0.11 -0.11)\">\n",
              "       <use xlink:href=\"#DejaVuSans-31\"/>\n",
              "       <use xlink:href=\"#DejaVuSans-2e\" x=\"63.623047\"/>\n",
              "       <use xlink:href=\"#DejaVuSans-32\" x=\"95.410156\"/>\n",
              "       <use xlink:href=\"#DejaVuSans-35\" x=\"159.033203\"/>\n",
              "      </g>\n",
              "     </g>\n",
              "    </g>\n",
              "    <g id=\"ytick_9\">\n",
              "     <g id=\"text_15\">\n",
              "      <!-- 1.50 -->\n",
              "      <g style=\"fill: #262626\" transform=\"translate(32.031406 26.497266) scale(0.11 -0.11)\">\n",
              "       <use xlink:href=\"#DejaVuSans-31\"/>\n",
              "       <use xlink:href=\"#DejaVuSans-2e\" x=\"63.623047\"/>\n",
              "       <use xlink:href=\"#DejaVuSans-35\" x=\"95.410156\"/>\n",
              "       <use xlink:href=\"#DejaVuSans-30\" x=\"159.033203\"/>\n",
              "      </g>\n",
              "     </g>\n",
              "    </g>\n",
              "    <g id=\"text_16\">\n",
              "     <!-- $x_2$ -->\n",
              "     <g style=\"fill: #262626\" transform=\"translate(16.318125 139.618125) rotate(-90) scale(0.12 -0.12)\">\n",
              "      <use xlink:href=\"#DejaVuSans-Oblique-78\" transform=\"translate(0 0.3125)\"/>\n",
              "      <use xlink:href=\"#DejaVuSans-32\" transform=\"translate(59.179688 -16.09375) scale(0.7)\"/>\n",
              "     </g>\n",
              "    </g>\n",
              "   </g>\n",
              "   <g id=\"PathCollection_1\">\n",
              "    <defs>\n",
              "     <path id=\"m4f003d4e34\" d=\"M 0 3 \n",
              "C 0.795609 3 1.55874 2.683901 2.12132 2.12132 \n",
              "C 2.683901 1.55874 3 0.795609 3 0 \n",
              "C 3 -0.795609 2.683901 -1.55874 2.12132 -2.12132 \n",
              "C 1.55874 -2.683901 0.795609 -3 0 -3 \n",
              "C -0.795609 -3 -1.55874 -2.683901 -2.12132 -2.12132 \n",
              "C -2.683901 -1.55874 -3 -0.795609 -3 0 \n",
              "C -3 0.795609 -2.683901 1.55874 -2.12132 2.12132 \n",
              "C -1.55874 2.683901 -0.795609 3 0 3 \n",
              "z\n",
              "\" style=\"stroke: #333333\"/>\n",
              "    </defs>\n",
              "    <g clip-path=\"url(#pe1d0b302d1)\">\n",
              "     <use xlink:href=\"#m4f003d4e34\" x=\"120.695671\" y=\"186.220054\" style=\"fill: #4c72b0; stroke: #333333\"/>\n",
              "     <use xlink:href=\"#m4f003d4e34\" x=\"229.210939\" y=\"80.846467\" style=\"fill: #4c72b0; stroke: #333333\"/>\n",
              "     <use xlink:href=\"#m4f003d4e34\" x=\"250.732201\" y=\"82.16015\" style=\"fill: #4c72b0; stroke: #333333\"/>\n",
              "     <use xlink:href=\"#m4f003d4e34\" x=\"130.769454\" y=\"195.12372\" style=\"fill: #4c72b0; stroke: #333333\"/>\n",
              "     <use xlink:href=\"#m4f003d4e34\" x=\"124.703962\" y=\"195.632543\" style=\"fill: #4c72b0; stroke: #333333\"/>\n",
              "     <use xlink:href=\"#m4f003d4e34\" x=\"100.448299\" y=\"183.1958\" style=\"fill: #4c72b0; stroke: #333333\"/>\n",
              "     <use xlink:href=\"#m4f003d4e34\" x=\"237.866744\" y=\"77.971621\" style=\"fill: #4c72b0; stroke: #333333\"/>\n",
              "     <use xlink:href=\"#m4f003d4e34\" x=\"229.178204\" y=\"72.24781\" style=\"fill: #4c72b0; stroke: #333333\"/>\n",
              "     <use xlink:href=\"#m4f003d4e34\" x=\"118.830882\" y=\"195.237069\" style=\"fill: #4c72b0; stroke: #333333\"/>\n",
              "     <use xlink:href=\"#m4f003d4e34\" x=\"233.592701\" y=\"73.960007\" style=\"fill: #4c72b0; stroke: #333333\"/>\n",
              "     <use xlink:href=\"#m4f003d4e34\" x=\"126.476472\" y=\"191.830507\" style=\"fill: #4c72b0; stroke: #333333\"/>\n",
              "     <use xlink:href=\"#m4f003d4e34\" x=\"247.994781\" y=\"56.793833\" style=\"fill: #4c72b0; stroke: #333333\"/>\n",
              "     <use xlink:href=\"#m4f003d4e34\" x=\"234.007612\" y=\"81.203662\" style=\"fill: #4c72b0; stroke: #333333\"/>\n",
              "     <use xlink:href=\"#m4f003d4e34\" x=\"229.300794\" y=\"77.31962\" style=\"fill: #4c72b0; stroke: #333333\"/>\n",
              "     <use xlink:href=\"#m4f003d4e34\" x=\"119.058898\" y=\"201.723884\" style=\"fill: #4c72b0; stroke: #333333\"/>\n",
              "     <use xlink:href=\"#m4f003d4e34\" x=\"115.036046\" y=\"179.56279\" style=\"fill: #4c72b0; stroke: #333333\"/>\n",
              "     <use xlink:href=\"#m4f003d4e34\" x=\"244.567215\" y=\"103.875214\" style=\"fill: #4c72b0; stroke: #333333\"/>\n",
              "     <use xlink:href=\"#m4f003d4e34\" x=\"247.40353\" y=\"98.203633\" style=\"fill: #4c72b0; stroke: #333333\"/>\n",
              "     <use xlink:href=\"#m4f003d4e34\" x=\"224.452657\" y=\"78.431175\" style=\"fill: #4c72b0; stroke: #333333\"/>\n",
              "     <use xlink:href=\"#m4f003d4e34\" x=\"109.273221\" y=\"198.973538\" style=\"fill: #4c72b0; stroke: #333333\"/>\n",
              "     <use xlink:href=\"#m4f003d4e34\" x=\"246.730156\" y=\"57.133746\" style=\"fill: #4c72b0; stroke: #333333\"/>\n",
              "     <use xlink:href=\"#m4f003d4e34\" x=\"239.677679\" y=\"79.087901\" style=\"fill: #4c72b0; stroke: #333333\"/>\n",
              "     <use xlink:href=\"#m4f003d4e34\" x=\"135.173042\" y=\"172.172485\" style=\"fill: #4c72b0; stroke: #333333\"/>\n",
              "     <use xlink:href=\"#m4f003d4e34\" x=\"226.493082\" y=\"56.901864\" style=\"fill: #4c72b0; stroke: #333333\"/>\n",
              "     <use xlink:href=\"#m4f003d4e34\" x=\"123.469055\" y=\"187.386303\" style=\"fill: #4c72b0; stroke: #333333\"/>\n",
              "     <use xlink:href=\"#m4f003d4e34\" x=\"225.813106\" y=\"72.299531\" style=\"fill: #4c72b0; stroke: #333333\"/>\n",
              "     <use xlink:href=\"#m4f003d4e34\" x=\"113.157073\" y=\"175.108704\" style=\"fill: #4c72b0; stroke: #333333\"/>\n",
              "     <use xlink:href=\"#m4f003d4e34\" x=\"244.135253\" y=\"70.105937\" style=\"fill: #4c72b0; stroke: #333333\"/>\n",
              "     <use xlink:href=\"#m4f003d4e34\" x=\"240.673227\" y=\"80.338555\" style=\"fill: #4c72b0; stroke: #333333\"/>\n",
              "     <use xlink:href=\"#m4f003d4e34\" x=\"235.703551\" y=\"66.025246\" style=\"fill: #4c72b0; stroke: #333333\"/>\n",
              "     <use xlink:href=\"#m4f003d4e34\" x=\"117.521496\" y=\"179.02908\" style=\"fill: #4c72b0; stroke: #333333\"/>\n",
              "     <use xlink:href=\"#m4f003d4e34\" x=\"127.246298\" y=\"199.381179\" style=\"fill: #4c72b0; stroke: #333333\"/>\n",
              "     <use xlink:href=\"#m4f003d4e34\" x=\"113.540053\" y=\"167.182692\" style=\"fill: #4c72b0; stroke: #333333\"/>\n",
              "     <use xlink:href=\"#m4f003d4e34\" x=\"121.841855\" y=\"192.641004\" style=\"fill: #4c72b0; stroke: #333333\"/>\n",
              "     <use xlink:href=\"#m4f003d4e34\" x=\"133.398751\" y=\"192.278562\" style=\"fill: #4c72b0; stroke: #333333\"/>\n",
              "     <use xlink:href=\"#m4f003d4e34\" x=\"118.357472\" y=\"188.129039\" style=\"fill: #4c72b0; stroke: #333333\"/>\n",
              "     <use xlink:href=\"#m4f003d4e34\" x=\"134.006255\" y=\"201.390996\" style=\"fill: #4c72b0; stroke: #333333\"/>\n",
              "     <use xlink:href=\"#m4f003d4e34\" x=\"214.714522\" y=\"62.752964\" style=\"fill: #4c72b0; stroke: #333333\"/>\n",
              "     <use xlink:href=\"#m4f003d4e34\" x=\"246.279147\" y=\"82.822342\" style=\"fill: #4c72b0; stroke: #333333\"/>\n",
              "     <use xlink:href=\"#m4f003d4e34\" x=\"234.123202\" y=\"82.143542\" style=\"fill: #4c72b0; stroke: #333333\"/>\n",
              "     <use xlink:href=\"#m4f003d4e34\" x=\"118.315922\" y=\"195.927818\" style=\"fill: #4c72b0; stroke: #333333\"/>\n",
              "     <use xlink:href=\"#m4f003d4e34\" x=\"221.728046\" y=\"102.492744\" style=\"fill: #4c72b0; stroke: #333333\"/>\n",
              "     <use xlink:href=\"#m4f003d4e34\" x=\"240.410415\" y=\"76.537965\" style=\"fill: #4c72b0; stroke: #333333\"/>\n",
              "     <use xlink:href=\"#m4f003d4e34\" x=\"121.972053\" y=\"201.322981\" style=\"fill: #4c72b0; stroke: #333333\"/>\n",
              "     <use xlink:href=\"#m4f003d4e34\" x=\"132.124871\" y=\"205.781717\" style=\"fill: #4c72b0; stroke: #333333\"/>\n",
              "     <use xlink:href=\"#m4f003d4e34\" x=\"139.055421\" y=\"173.128814\" style=\"fill: #4c72b0; stroke: #333333\"/>\n",
              "     <use xlink:href=\"#m4f003d4e34\" x=\"227.11141\" y=\"88.656715\" style=\"fill: #4c72b0; stroke: #333333\"/>\n",
              "     <use xlink:href=\"#m4f003d4e34\" x=\"217.260209\" y=\"66.559184\" style=\"fill: #4c72b0; stroke: #333333\"/>\n",
              "     <use xlink:href=\"#m4f003d4e34\" x=\"115.986665\" y=\"196.251498\" style=\"fill: #4c72b0; stroke: #333333\"/>\n",
              "     <use xlink:href=\"#m4f003d4e34\" x=\"228.075757\" y=\"85.93973\" style=\"fill: #4c72b0; stroke: #333333\"/>\n",
              "     <use xlink:href=\"#m4f003d4e34\" x=\"122.558944\" y=\"192.411682\" style=\"fill: #4c72b0; stroke: #333333\"/>\n",
              "     <use xlink:href=\"#m4f003d4e34\" x=\"237.395908\" y=\"57.924442\" style=\"fill: #4c72b0; stroke: #333333\"/>\n",
              "     <use xlink:href=\"#m4f003d4e34\" x=\"119.78065\" y=\"182.552864\" style=\"fill: #4c72b0; stroke: #333333\"/>\n",
              "     <use xlink:href=\"#m4f003d4e34\" x=\"225.6954\" y=\"92.438423\" style=\"fill: #4c72b0; stroke: #333333\"/>\n",
              "     <use xlink:href=\"#m4f003d4e34\" x=\"234.890622\" y=\"69.031492\" style=\"fill: #4c72b0; stroke: #333333\"/>\n",
              "     <use xlink:href=\"#m4f003d4e34\" x=\"100.449963\" y=\"184.038091\" style=\"fill: #4c72b0; stroke: #333333\"/>\n",
              "     <use xlink:href=\"#m4f003d4e34\" x=\"217.161609\" y=\"68.839158\" style=\"fill: #4c72b0; stroke: #333333\"/>\n",
              "     <use xlink:href=\"#m4f003d4e34\" x=\"241.429583\" y=\"83.633705\" style=\"fill: #4c72b0; stroke: #333333\"/>\n",
              "     <use xlink:href=\"#m4f003d4e34\" x=\"110.008365\" y=\"189.029698\" style=\"fill: #4c72b0; stroke: #333333\"/>\n",
              "     <use xlink:href=\"#m4f003d4e34\" x=\"119.335514\" y=\"215.578994\" style=\"fill: #4c72b0; stroke: #333333\"/>\n",
              "     <use xlink:href=\"#m4f003d4e34\" x=\"118.899791\" y=\"191.479002\" style=\"fill: #4c72b0; stroke: #333333\"/>\n",
              "     <use xlink:href=\"#m4f003d4e34\" x=\"104.399768\" y=\"191.587679\" style=\"fill: #4c72b0; stroke: #333333\"/>\n",
              "     <use xlink:href=\"#m4f003d4e34\" x=\"252.796801\" y=\"83.744325\" style=\"fill: #4c72b0; stroke: #333333\"/>\n",
              "     <use xlink:href=\"#m4f003d4e34\" x=\"225.688626\" y=\"90.176102\" style=\"fill: #4c72b0; stroke: #333333\"/>\n",
              "     <use xlink:href=\"#m4f003d4e34\" x=\"246.404718\" y=\"62.800786\" style=\"fill: #4c72b0; stroke: #333333\"/>\n",
              "     <use xlink:href=\"#m4f003d4e34\" x=\"104.850809\" y=\"179.790426\" style=\"fill: #4c72b0; stroke: #333333\"/>\n",
              "     <use xlink:href=\"#m4f003d4e34\" x=\"234.678725\" y=\"97.140489\" style=\"fill: #4c72b0; stroke: #333333\"/>\n",
              "     <use xlink:href=\"#m4f003d4e34\" x=\"242.932977\" y=\"102.94976\" style=\"fill: #4c72b0; stroke: #333333\"/>\n",
              "     <use xlink:href=\"#m4f003d4e34\" x=\"138.343419\" y=\"206.284387\" style=\"fill: #4c72b0; stroke: #333333\"/>\n",
              "     <use xlink:href=\"#m4f003d4e34\" x=\"130.607447\" y=\"197.261204\" style=\"fill: #4c72b0; stroke: #333333\"/>\n",
              "     <use xlink:href=\"#m4f003d4e34\" x=\"119.615426\" y=\"183.56805\" style=\"fill: #4c72b0; stroke: #333333\"/>\n",
              "     <use xlink:href=\"#m4f003d4e34\" x=\"120.290075\" y=\"181.71065\" style=\"fill: #4c72b0; stroke: #333333\"/>\n",
              "     <use xlink:href=\"#m4f003d4e34\" x=\"235.167815\" y=\"74.198881\" style=\"fill: #4c72b0; stroke: #333333\"/>\n",
              "     <use xlink:href=\"#m4f003d4e34\" x=\"225.144682\" y=\"101.73884\" style=\"fill: #4c72b0; stroke: #333333\"/>\n",
              "     <use xlink:href=\"#m4f003d4e34\" x=\"119.580652\" y=\"187.984213\" style=\"fill: #4c72b0; stroke: #333333\"/>\n",
              "     <use xlink:href=\"#m4f003d4e34\" x=\"129.23293\" y=\"181.018964\" style=\"fill: #4c72b0; stroke: #333333\"/>\n",
              "     <use xlink:href=\"#m4f003d4e34\" x=\"130.493333\" y=\"186.856615\" style=\"fill: #4c72b0; stroke: #333333\"/>\n",
              "     <use xlink:href=\"#m4f003d4e34\" x=\"234.942436\" y=\"61.12244\" style=\"fill: #4c72b0; stroke: #333333\"/>\n",
              "     <use xlink:href=\"#m4f003d4e34\" x=\"234.214961\" y=\"59.647478\" style=\"fill: #4c72b0; stroke: #333333\"/>\n",
              "     <use xlink:href=\"#m4f003d4e34\" x=\"121.241516\" y=\"198.094838\" style=\"fill: #4c72b0; stroke: #333333\"/>\n",
              "     <use xlink:href=\"#m4f003d4e34\" x=\"243.57965\" y=\"61.2117\" style=\"fill: #4c72b0; stroke: #333333\"/>\n",
              "     <use xlink:href=\"#m4f003d4e34\" x=\"229.452153\" y=\"89.063668\" style=\"fill: #4c72b0; stroke: #333333\"/>\n",
              "     <use xlink:href=\"#m4f003d4e34\" x=\"242.114893\" y=\"57.89601\" style=\"fill: #4c72b0; stroke: #333333\"/>\n",
              "     <use xlink:href=\"#m4f003d4e34\" x=\"114.394298\" y=\"185.920992\" style=\"fill: #4c72b0; stroke: #333333\"/>\n",
              "     <use xlink:href=\"#m4f003d4e34\" x=\"230.97994\" y=\"69.480465\" style=\"fill: #4c72b0; stroke: #333333\"/>\n",
              "     <use xlink:href=\"#m4f003d4e34\" x=\"122.473795\" y=\"201.634928\" style=\"fill: #4c72b0; stroke: #333333\"/>\n",
              "     <use xlink:href=\"#m4f003d4e34\" x=\"129.879514\" y=\"195.044299\" style=\"fill: #4c72b0; stroke: #333333\"/>\n",
              "     <use xlink:href=\"#m4f003d4e34\" x=\"113.832919\" y=\"184.526148\" style=\"fill: #4c72b0; stroke: #333333\"/>\n",
              "     <use xlink:href=\"#m4f003d4e34\" x=\"213.829965\" y=\"74.176331\" style=\"fill: #4c72b0; stroke: #333333\"/>\n",
              "     <use xlink:href=\"#m4f003d4e34\" x=\"223.703485\" y=\"69.35652\" style=\"fill: #4c72b0; stroke: #333333\"/>\n",
              "     <use xlink:href=\"#m4f003d4e34\" x=\"205.696671\" y=\"66.827799\" style=\"fill: #4c72b0; stroke: #333333\"/>\n",
              "     <use xlink:href=\"#m4f003d4e34\" x=\"113.237155\" y=\"184.781798\" style=\"fill: #4c72b0; stroke: #333333\"/>\n",
              "     <use xlink:href=\"#m4f003d4e34\" x=\"136.98403\" y=\"197.184571\" style=\"fill: #4c72b0; stroke: #333333\"/>\n",
              "     <use xlink:href=\"#m4f003d4e34\" x=\"117.070475\" y=\"199.468055\" style=\"fill: #4c72b0; stroke: #333333\"/>\n",
              "     <use xlink:href=\"#m4f003d4e34\" x=\"224.282192\" y=\"103.788253\" style=\"fill: #4c72b0; stroke: #333333\"/>\n",
              "     <use xlink:href=\"#m4f003d4e34\" x=\"125.312649\" y=\"187.808871\" style=\"fill: #4c72b0; stroke: #333333\"/>\n",
              "     <use xlink:href=\"#m4f003d4e34\" x=\"119.571366\" y=\"182.8646\" style=\"fill: #4c72b0; stroke: #333333\"/>\n",
              "     <use xlink:href=\"#m4f003d4e34\" x=\"115.263198\" y=\"191.761072\" style=\"fill: #4c72b0; stroke: #333333\"/>\n",
              "     <use xlink:href=\"#m4f003d4e34\" x=\"122.978343\" y=\"198.173384\" style=\"fill: #4c72b0; stroke: #333333\"/>\n",
              "     <use xlink:href=\"#m4f003d4e34\" x=\"212.839467\" y=\"77.410811\" style=\"fill: #4c72b0; stroke: #333333\"/>\n",
              "     <use xlink:href=\"#m4f003d4e34\" x=\"220.172732\" y=\"64.238434\" style=\"fill: #4c72b0; stroke: #333333\"/>\n",
              "     <use xlink:href=\"#m4f003d4e34\" x=\"101.371066\" y=\"203.18529\" style=\"fill: #4c72b0; stroke: #333333\"/>\n",
              "     <use xlink:href=\"#m4f003d4e34\" x=\"232.295586\" y=\"95.562328\" style=\"fill: #4c72b0; stroke: #333333\"/>\n",
              "    </g>\n",
              "   </g>\n",
              "   <g id=\"PathCollection_2\">\n",
              "    <defs>\n",
              "     <path id=\"m1fc964cc2d\" d=\"M 0 3 \n",
              "C 0.795609 3 1.55874 2.683901 2.12132 2.12132 \n",
              "C 2.683901 1.55874 3 0.795609 3 0 \n",
              "C 3 -0.795609 2.683901 -1.55874 2.12132 -2.12132 \n",
              "C 1.55874 -2.683901 0.795609 -3 0 -3 \n",
              "C -0.795609 -3 -1.55874 -2.683901 -2.12132 -2.12132 \n",
              "C -2.683901 -1.55874 -3 -0.795609 -3 0 \n",
              "C -3 0.795609 -2.683901 1.55874 -2.12132 2.12132 \n",
              "C -1.55874 2.683901 -0.795609 3 0 3 \n",
              "z\n",
              "\" style=\"stroke: #333333\"/>\n",
              "    </defs>\n",
              "    <g clip-path=\"url(#pe1d0b302d1)\">\n",
              "     <use xlink:href=\"#m1fc964cc2d\" x=\"228.267172\" y=\"176.250001\" style=\"fill: #dd8452; stroke: #333333\"/>\n",
              "     <use xlink:href=\"#m1fc964cc2d\" x=\"238.631678\" y=\"176.467229\" style=\"fill: #dd8452; stroke: #333333\"/>\n",
              "     <use xlink:href=\"#m1fc964cc2d\" x=\"229.178515\" y=\"190.72399\" style=\"fill: #dd8452; stroke: #333333\"/>\n",
              "     <use xlink:href=\"#m1fc964cc2d\" x=\"115.44737\" y=\"67.389997\" style=\"fill: #dd8452; stroke: #333333\"/>\n",
              "     <use xlink:href=\"#m1fc964cc2d\" x=\"244.102776\" y=\"192.866643\" style=\"fill: #dd8452; stroke: #333333\"/>\n",
              "     <use xlink:href=\"#m1fc964cc2d\" x=\"123.964196\" y=\"81.977829\" style=\"fill: #dd8452; stroke: #333333\"/>\n",
              "     <use xlink:href=\"#m1fc964cc2d\" x=\"219.461767\" y=\"200.698784\" style=\"fill: #dd8452; stroke: #333333\"/>\n",
              "     <use xlink:href=\"#m1fc964cc2d\" x=\"148.104666\" y=\"78.801317\" style=\"fill: #dd8452; stroke: #333333\"/>\n",
              "     <use xlink:href=\"#m1fc964cc2d\" x=\"241.584365\" y=\"205.395483\" style=\"fill: #dd8452; stroke: #333333\"/>\n",
              "     <use xlink:href=\"#m1fc964cc2d\" x=\"215.412911\" y=\"179.980683\" style=\"fill: #dd8452; stroke: #333333\"/>\n",
              "     <use xlink:href=\"#m1fc964cc2d\" x=\"227.49163\" y=\"169.907623\" style=\"fill: #dd8452; stroke: #333333\"/>\n",
              "     <use xlink:href=\"#m1fc964cc2d\" x=\"96.249603\" y=\"66.726338\" style=\"fill: #dd8452; stroke: #333333\"/>\n",
              "     <use xlink:href=\"#m1fc964cc2d\" x=\"136.902612\" y=\"67.502468\" style=\"fill: #dd8452; stroke: #333333\"/>\n",
              "     <use xlink:href=\"#m1fc964cc2d\" x=\"120.828227\" y=\"92.374058\" style=\"fill: #dd8452; stroke: #333333\"/>\n",
              "     <use xlink:href=\"#m1fc964cc2d\" x=\"121.07675\" y=\"64.737966\" style=\"fill: #dd8452; stroke: #333333\"/>\n",
              "     <use xlink:href=\"#m1fc964cc2d\" x=\"104.225536\" y=\"62.279233\" style=\"fill: #dd8452; stroke: #333333\"/>\n",
              "     <use xlink:href=\"#m1fc964cc2d\" x=\"230.701339\" y=\"192.99315\" style=\"fill: #dd8452; stroke: #333333\"/>\n",
              "     <use xlink:href=\"#m1fc964cc2d\" x=\"216.600502\" y=\"176.132059\" style=\"fill: #dd8452; stroke: #333333\"/>\n",
              "     <use xlink:href=\"#m1fc964cc2d\" x=\"224.324926\" y=\"177.791622\" style=\"fill: #dd8452; stroke: #333333\"/>\n",
              "     <use xlink:href=\"#m1fc964cc2d\" x=\"129.95045\" y=\"78.528215\" style=\"fill: #dd8452; stroke: #333333\"/>\n",
              "     <use xlink:href=\"#m1fc964cc2d\" x=\"213.389749\" y=\"185.273851\" style=\"fill: #dd8452; stroke: #333333\"/>\n",
              "     <use xlink:href=\"#m1fc964cc2d\" x=\"249.221312\" y=\"192.01743\" style=\"fill: #dd8452; stroke: #333333\"/>\n",
              "     <use xlink:href=\"#m1fc964cc2d\" x=\"242.377401\" y=\"190.061763\" style=\"fill: #dd8452; stroke: #333333\"/>\n",
              "     <use xlink:href=\"#m1fc964cc2d\" x=\"222.190614\" y=\"193.281157\" style=\"fill: #dd8452; stroke: #333333\"/>\n",
              "     <use xlink:href=\"#m1fc964cc2d\" x=\"247.250982\" y=\"172.669489\" style=\"fill: #dd8452; stroke: #333333\"/>\n",
              "     <use xlink:href=\"#m1fc964cc2d\" x=\"110.214786\" y=\"87.297013\" style=\"fill: #dd8452; stroke: #333333\"/>\n",
              "     <use xlink:href=\"#m1fc964cc2d\" x=\"244.93228\" y=\"175.02622\" style=\"fill: #dd8452; stroke: #333333\"/>\n",
              "     <use xlink:href=\"#m1fc964cc2d\" x=\"132.293045\" y=\"75.206008\" style=\"fill: #dd8452; stroke: #333333\"/>\n",
              "     <use xlink:href=\"#m1fc964cc2d\" x=\"229.265853\" y=\"174.447061\" style=\"fill: #dd8452; stroke: #333333\"/>\n",
              "     <use xlink:href=\"#m1fc964cc2d\" x=\"98.461351\" y=\"76.692403\" style=\"fill: #dd8452; stroke: #333333\"/>\n",
              "     <use xlink:href=\"#m1fc964cc2d\" x=\"119.828311\" y=\"84.039634\" style=\"fill: #dd8452; stroke: #333333\"/>\n",
              "     <use xlink:href=\"#m1fc964cc2d\" x=\"222.284395\" y=\"198.548117\" style=\"fill: #dd8452; stroke: #333333\"/>\n",
              "     <use xlink:href=\"#m1fc964cc2d\" x=\"215.531297\" y=\"178.033399\" style=\"fill: #dd8452; stroke: #333333\"/>\n",
              "     <use xlink:href=\"#m1fc964cc2d\" x=\"123.808483\" y=\"79.654878\" style=\"fill: #dd8452; stroke: #333333\"/>\n",
              "     <use xlink:href=\"#m1fc964cc2d\" x=\"238.859304\" y=\"178.616469\" style=\"fill: #dd8452; stroke: #333333\"/>\n",
              "     <use xlink:href=\"#m1fc964cc2d\" x=\"124.269322\" y=\"85.978545\" style=\"fill: #dd8452; stroke: #333333\"/>\n",
              "     <use xlink:href=\"#m1fc964cc2d\" x=\"121.79428\" y=\"88.187855\" style=\"fill: #dd8452; stroke: #333333\"/>\n",
              "     <use xlink:href=\"#m1fc964cc2d\" x=\"252.540241\" y=\"199.098321\" style=\"fill: #dd8452; stroke: #333333\"/>\n",
              "     <use xlink:href=\"#m1fc964cc2d\" x=\"228.794151\" y=\"175.576065\" style=\"fill: #dd8452; stroke: #333333\"/>\n",
              "     <use xlink:href=\"#m1fc964cc2d\" x=\"111.199094\" y=\"75.770625\" style=\"fill: #dd8452; stroke: #333333\"/>\n",
              "     <use xlink:href=\"#m1fc964cc2d\" x=\"135.398824\" y=\"77.42157\" style=\"fill: #dd8452; stroke: #333333\"/>\n",
              "     <use xlink:href=\"#m1fc964cc2d\" x=\"138.144886\" y=\"63.284893\" style=\"fill: #dd8452; stroke: #333333\"/>\n",
              "     <use xlink:href=\"#m1fc964cc2d\" x=\"239.022493\" y=\"196.664997\" style=\"fill: #dd8452; stroke: #333333\"/>\n",
              "     <use xlink:href=\"#m1fc964cc2d\" x=\"111.603121\" y=\"79.111389\" style=\"fill: #dd8452; stroke: #333333\"/>\n",
              "     <use xlink:href=\"#m1fc964cc2d\" x=\"226.855405\" y=\"179.737074\" style=\"fill: #dd8452; stroke: #333333\"/>\n",
              "     <use xlink:href=\"#m1fc964cc2d\" x=\"123.53687\" y=\"89.971152\" style=\"fill: #dd8452; stroke: #333333\"/>\n",
              "     <use xlink:href=\"#m1fc964cc2d\" x=\"129.859061\" y=\"71.193654\" style=\"fill: #dd8452; stroke: #333333\"/>\n",
              "     <use xlink:href=\"#m1fc964cc2d\" x=\"128.985326\" y=\"73.963391\" style=\"fill: #dd8452; stroke: #333333\"/>\n",
              "     <use xlink:href=\"#m1fc964cc2d\" x=\"219.811949\" y=\"180.459621\" style=\"fill: #dd8452; stroke: #333333\"/>\n",
              "     <use xlink:href=\"#m1fc964cc2d\" x=\"111.598072\" y=\"93.187199\" style=\"fill: #dd8452; stroke: #333333\"/>\n",
              "     <use xlink:href=\"#m1fc964cc2d\" x=\"128.034013\" y=\"69.61394\" style=\"fill: #dd8452; stroke: #333333\"/>\n",
              "     <use xlink:href=\"#m1fc964cc2d\" x=\"213.191149\" y=\"177.286919\" style=\"fill: #dd8452; stroke: #333333\"/>\n",
              "     <use xlink:href=\"#m1fc964cc2d\" x=\"234.585195\" y=\"200.08992\" style=\"fill: #dd8452; stroke: #333333\"/>\n",
              "     <use xlink:href=\"#m1fc964cc2d\" x=\"125.979114\" y=\"70.023352\" style=\"fill: #dd8452; stroke: #333333\"/>\n",
              "     <use xlink:href=\"#m1fc964cc2d\" x=\"131.020266\" y=\"85.381901\" style=\"fill: #dd8452; stroke: #333333\"/>\n",
              "     <use xlink:href=\"#m1fc964cc2d\" x=\"218.705913\" y=\"187.65421\" style=\"fill: #dd8452; stroke: #333333\"/>\n",
              "     <use xlink:href=\"#m1fc964cc2d\" x=\"211.907788\" y=\"189.820486\" style=\"fill: #dd8452; stroke: #333333\"/>\n",
              "     <use xlink:href=\"#m1fc964cc2d\" x=\"128.76765\" y=\"81.027196\" style=\"fill: #dd8452; stroke: #333333\"/>\n",
              "     <use xlink:href=\"#m1fc964cc2d\" x=\"93.51186\" y=\"86.786094\" style=\"fill: #dd8452; stroke: #333333\"/>\n",
              "     <use xlink:href=\"#m1fc964cc2d\" x=\"117.116578\" y=\"93.155925\" style=\"fill: #dd8452; stroke: #333333\"/>\n",
              "     <use xlink:href=\"#m1fc964cc2d\" x=\"131.225025\" y=\"72.790696\" style=\"fill: #dd8452; stroke: #333333\"/>\n",
              "     <use xlink:href=\"#m1fc964cc2d\" x=\"113.67349\" y=\"81.712552\" style=\"fill: #dd8452; stroke: #333333\"/>\n",
              "     <use xlink:href=\"#m1fc964cc2d\" x=\"118.875374\" y=\"75.724587\" style=\"fill: #dd8452; stroke: #333333\"/>\n",
              "     <use xlink:href=\"#m1fc964cc2d\" x=\"131.728733\" y=\"85.759312\" style=\"fill: #dd8452; stroke: #333333\"/>\n",
              "     <use xlink:href=\"#m1fc964cc2d\" x=\"249.404288\" y=\"193.443387\" style=\"fill: #dd8452; stroke: #333333\"/>\n",
              "     <use xlink:href=\"#m1fc964cc2d\" x=\"107.465957\" y=\"62.935834\" style=\"fill: #dd8452; stroke: #333333\"/>\n",
              "     <use xlink:href=\"#m1fc964cc2d\" x=\"249.988005\" y=\"179.542785\" style=\"fill: #dd8452; stroke: #333333\"/>\n",
              "     <use xlink:href=\"#m1fc964cc2d\" x=\"239.388497\" y=\"168.981782\" style=\"fill: #dd8452; stroke: #333333\"/>\n",
              "     <use xlink:href=\"#m1fc964cc2d\" x=\"215.154884\" y=\"200.658088\" style=\"fill: #dd8452; stroke: #333333\"/>\n",
              "     <use xlink:href=\"#m1fc964cc2d\" x=\"218.283289\" y=\"213.473757\" style=\"fill: #dd8452; stroke: #333333\"/>\n",
              "     <use xlink:href=\"#m1fc964cc2d\" x=\"122.24279\" y=\"64.140251\" style=\"fill: #dd8452; stroke: #333333\"/>\n",
              "     <use xlink:href=\"#m1fc964cc2d\" x=\"220.444374\" y=\"174.680621\" style=\"fill: #dd8452; stroke: #333333\"/>\n",
              "     <use xlink:href=\"#m1fc964cc2d\" x=\"209.805979\" y=\"163.487024\" style=\"fill: #dd8452; stroke: #333333\"/>\n",
              "     <use xlink:href=\"#m1fc964cc2d\" x=\"111.242539\" y=\"68.777496\" style=\"fill: #dd8452; stroke: #333333\"/>\n",
              "     <use xlink:href=\"#m1fc964cc2d\" x=\"130.295513\" y=\"79.00059\" style=\"fill: #dd8452; stroke: #333333\"/>\n",
              "     <use xlink:href=\"#m1fc964cc2d\" x=\"241.175785\" y=\"178.965372\" style=\"fill: #dd8452; stroke: #333333\"/>\n",
              "     <use xlink:href=\"#m1fc964cc2d\" x=\"117.2682\" y=\"72.215254\" style=\"fill: #dd8452; stroke: #333333\"/>\n",
              "     <use xlink:href=\"#m1fc964cc2d\" x=\"126.822551\" y=\"80.391407\" style=\"fill: #dd8452; stroke: #333333\"/>\n",
              "     <use xlink:href=\"#m1fc964cc2d\" x=\"125.543048\" y=\"82.992602\" style=\"fill: #dd8452; stroke: #333333\"/>\n",
              "     <use xlink:href=\"#m1fc964cc2d\" x=\"227.987349\" y=\"173.243968\" style=\"fill: #dd8452; stroke: #333333\"/>\n",
              "     <use xlink:href=\"#m1fc964cc2d\" x=\"234.348793\" y=\"165.836867\" style=\"fill: #dd8452; stroke: #333333\"/>\n",
              "     <use xlink:href=\"#m1fc964cc2d\" x=\"241.42764\" y=\"179.677091\" style=\"fill: #dd8452; stroke: #333333\"/>\n",
              "     <use xlink:href=\"#m1fc964cc2d\" x=\"151.47009\" y=\"78.564901\" style=\"fill: #dd8452; stroke: #333333\"/>\n",
              "     <use xlink:href=\"#m1fc964cc2d\" x=\"214.557143\" y=\"202.488595\" style=\"fill: #dd8452; stroke: #333333\"/>\n",
              "     <use xlink:href=\"#m1fc964cc2d\" x=\"255.717289\" y=\"201.72411\" style=\"fill: #dd8452; stroke: #333333\"/>\n",
              "     <use xlink:href=\"#m1fc964cc2d\" x=\"225.0395\" y=\"199.287585\" style=\"fill: #dd8452; stroke: #333333\"/>\n",
              "     <use xlink:href=\"#m1fc964cc2d\" x=\"114.415033\" y=\"86.997317\" style=\"fill: #dd8452; stroke: #333333\"/>\n",
              "     <use xlink:href=\"#m1fc964cc2d\" x=\"112.612911\" y=\"78.562297\" style=\"fill: #dd8452; stroke: #333333\"/>\n",
              "     <use xlink:href=\"#m1fc964cc2d\" x=\"243.321068\" y=\"201.596164\" style=\"fill: #dd8452; stroke: #333333\"/>\n",
              "     <use xlink:href=\"#m1fc964cc2d\" x=\"112.963906\" y=\"84.533052\" style=\"fill: #dd8452; stroke: #333333\"/>\n",
              "     <use xlink:href=\"#m1fc964cc2d\" x=\"101.699867\" y=\"80.559539\" style=\"fill: #dd8452; stroke: #333333\"/>\n",
              "     <use xlink:href=\"#m1fc964cc2d\" x=\"136.696095\" y=\"69.979336\" style=\"fill: #dd8452; stroke: #333333\"/>\n",
              "     <use xlink:href=\"#m1fc964cc2d\" x=\"115.350048\" y=\"72.369137\" style=\"fill: #dd8452; stroke: #333333\"/>\n",
              "     <use xlink:href=\"#m1fc964cc2d\" x=\"249.445594\" y=\"199.60062\" style=\"fill: #dd8452; stroke: #333333\"/>\n",
              "     <use xlink:href=\"#m1fc964cc2d\" x=\"211.04584\" y=\"185.119865\" style=\"fill: #dd8452; stroke: #333333\"/>\n",
              "     <use xlink:href=\"#m1fc964cc2d\" x=\"122.156234\" y=\"66.725915\" style=\"fill: #dd8452; stroke: #333333\"/>\n",
              "     <use xlink:href=\"#m1fc964cc2d\" x=\"247.246528\" y=\"197.654618\" style=\"fill: #dd8452; stroke: #333333\"/>\n",
              "    </g>\n",
              "   </g>\n",
              "   <g id=\"patch_3\">\n",
              "    <path d=\"M 66.023594 244.078125 \n",
              "L 66.023594 22.318125 \n",
              "\" style=\"fill: none; stroke: #ffffff; stroke-width: 1.25; stroke-linejoin: miter; stroke-linecap: square\"/>\n",
              "   </g>\n",
              "   <g id=\"patch_4\">\n",
              "    <path d=\"M 287.783594 244.078125 \n",
              "L 287.783594 22.318125 \n",
              "\" style=\"fill: none; stroke: #ffffff; stroke-width: 1.25; stroke-linejoin: miter; stroke-linecap: square\"/>\n",
              "   </g>\n",
              "   <g id=\"patch_5\">\n",
              "    <path d=\"M 66.023594 244.078125 \n",
              "L 287.783594 244.078125 \n",
              "\" style=\"fill: none; stroke: #ffffff; stroke-width: 1.25; stroke-linejoin: miter; stroke-linecap: square\"/>\n",
              "   </g>\n",
              "   <g id=\"patch_6\">\n",
              "    <path d=\"M 66.023594 22.318125 \n",
              "L 287.783594 22.318125 \n",
              "\" style=\"fill: none; stroke: #ffffff; stroke-width: 1.25; stroke-linejoin: miter; stroke-linecap: square\"/>\n",
              "   </g>\n",
              "   <g id=\"text_17\">\n",
              "    <!-- Dataset samples -->\n",
              "    <g style=\"fill: #262626\" transform=\"translate(126.560781 16.318125) scale(0.12 -0.12)\">\n",
              "     <defs>\n",
              "      <path id=\"DejaVuSans-44\" d=\"M 1259 4147 \n",
              "L 1259 519 \n",
              "L 2022 519 \n",
              "Q 2988 519 3436 956 \n",
              "Q 3884 1394 3884 2338 \n",
              "Q 3884 3275 3436 3711 \n",
              "Q 2988 4147 2022 4147 \n",
              "L 1259 4147 \n",
              "z\n",
              "M 628 4666 \n",
              "L 1925 4666 \n",
              "Q 3281 4666 3915 4102 \n",
              "Q 4550 3538 4550 2338 \n",
              "Q 4550 1131 3912 565 \n",
              "Q 3275 0 1925 0 \n",
              "L 628 0 \n",
              "L 628 4666 \n",
              "z\n",
              "\" transform=\"scale(0.015625)\"/>\n",
              "      <path id=\"DejaVuSans-61\" d=\"M 2194 1759 \n",
              "Q 1497 1759 1228 1600 \n",
              "Q 959 1441 959 1056 \n",
              "Q 959 750 1161 570 \n",
              "Q 1363 391 1709 391 \n",
              "Q 2188 391 2477 730 \n",
              "Q 2766 1069 2766 1631 \n",
              "L 2766 1759 \n",
              "L 2194 1759 \n",
              "z\n",
              "M 3341 1997 \n",
              "L 3341 0 \n",
              "L 2766 0 \n",
              "L 2766 531 \n",
              "Q 2569 213 2275 61 \n",
              "Q 1981 -91 1556 -91 \n",
              "Q 1019 -91 701 211 \n",
              "Q 384 513 384 1019 \n",
              "Q 384 1609 779 1909 \n",
              "Q 1175 2209 1959 2209 \n",
              "L 2766 2209 \n",
              "L 2766 2266 \n",
              "Q 2766 2663 2505 2880 \n",
              "Q 2244 3097 1772 3097 \n",
              "Q 1472 3097 1187 3025 \n",
              "Q 903 2953 641 2809 \n",
              "L 641 3341 \n",
              "Q 956 3463 1253 3523 \n",
              "Q 1550 3584 1831 3584 \n",
              "Q 2591 3584 2966 3190 \n",
              "Q 3341 2797 3341 1997 \n",
              "z\n",
              "\" transform=\"scale(0.015625)\"/>\n",
              "      <path id=\"DejaVuSans-74\" d=\"M 1172 4494 \n",
              "L 1172 3500 \n",
              "L 2356 3500 \n",
              "L 2356 3053 \n",
              "L 1172 3053 \n",
              "L 1172 1153 \n",
              "Q 1172 725 1289 603 \n",
              "Q 1406 481 1766 481 \n",
              "L 2356 481 \n",
              "L 2356 0 \n",
              "L 1766 0 \n",
              "Q 1100 0 847 248 \n",
              "Q 594 497 594 1153 \n",
              "L 594 3053 \n",
              "L 172 3053 \n",
              "L 172 3500 \n",
              "L 594 3500 \n",
              "L 594 4494 \n",
              "L 1172 4494 \n",
              "z\n",
              "\" transform=\"scale(0.015625)\"/>\n",
              "      <path id=\"DejaVuSans-73\" d=\"M 2834 3397 \n",
              "L 2834 2853 \n",
              "Q 2591 2978 2328 3040 \n",
              "Q 2066 3103 1784 3103 \n",
              "Q 1356 3103 1142 2972 \n",
              "Q 928 2841 928 2578 \n",
              "Q 928 2378 1081 2264 \n",
              "Q 1234 2150 1697 2047 \n",
              "L 1894 2003 \n",
              "Q 2506 1872 2764 1633 \n",
              "Q 3022 1394 3022 966 \n",
              "Q 3022 478 2636 193 \n",
              "Q 2250 -91 1575 -91 \n",
              "Q 1294 -91 989 -36 \n",
              "Q 684 19 347 128 \n",
              "L 347 722 \n",
              "Q 666 556 975 473 \n",
              "Q 1284 391 1588 391 \n",
              "Q 1994 391 2212 530 \n",
              "Q 2431 669 2431 922 \n",
              "Q 2431 1156 2273 1281 \n",
              "Q 2116 1406 1581 1522 \n",
              "L 1381 1569 \n",
              "Q 847 1681 609 1914 \n",
              "Q 372 2147 372 2553 \n",
              "Q 372 3047 722 3315 \n",
              "Q 1072 3584 1716 3584 \n",
              "Q 2034 3584 2315 3537 \n",
              "Q 2597 3491 2834 3397 \n",
              "z\n",
              "\" transform=\"scale(0.015625)\"/>\n",
              "      <path id=\"DejaVuSans-65\" d=\"M 3597 1894 \n",
              "L 3597 1613 \n",
              "L 953 1613 \n",
              "Q 991 1019 1311 708 \n",
              "Q 1631 397 2203 397 \n",
              "Q 2534 397 2845 478 \n",
              "Q 3156 559 3463 722 \n",
              "L 3463 178 \n",
              "Q 3153 47 2828 -22 \n",
              "Q 2503 -91 2169 -91 \n",
              "Q 1331 -91 842 396 \n",
              "Q 353 884 353 1716 \n",
              "Q 353 2575 817 3079 \n",
              "Q 1281 3584 2069 3584 \n",
              "Q 2775 3584 3186 3129 \n",
              "Q 3597 2675 3597 1894 \n",
              "z\n",
              "M 3022 2063 \n",
              "Q 3016 2534 2758 2815 \n",
              "Q 2500 3097 2075 3097 \n",
              "Q 1594 3097 1305 2825 \n",
              "Q 1016 2553 972 2059 \n",
              "L 3022 2063 \n",
              "z\n",
              "\" transform=\"scale(0.015625)\"/>\n",
              "      <path id=\"DejaVuSans-20\" transform=\"scale(0.015625)\"/>\n",
              "      <path id=\"DejaVuSans-6d\" d=\"M 3328 2828 \n",
              "Q 3544 3216 3844 3400 \n",
              "Q 4144 3584 4550 3584 \n",
              "Q 5097 3584 5394 3201 \n",
              "Q 5691 2819 5691 2113 \n",
              "L 5691 0 \n",
              "L 5113 0 \n",
              "L 5113 2094 \n",
              "Q 5113 2597 4934 2840 \n",
              "Q 4756 3084 4391 3084 \n",
              "Q 3944 3084 3684 2787 \n",
              "Q 3425 2491 3425 1978 \n",
              "L 3425 0 \n",
              "L 2847 0 \n",
              "L 2847 2094 \n",
              "Q 2847 2600 2669 2842 \n",
              "Q 2491 3084 2119 3084 \n",
              "Q 1678 3084 1418 2786 \n",
              "Q 1159 2488 1159 1978 \n",
              "L 1159 0 \n",
              "L 581 0 \n",
              "L 581 3500 \n",
              "L 1159 3500 \n",
              "L 1159 2956 \n",
              "Q 1356 3278 1631 3431 \n",
              "Q 1906 3584 2284 3584 \n",
              "Q 2666 3584 2933 3390 \n",
              "Q 3200 3197 3328 2828 \n",
              "z\n",
              "\" transform=\"scale(0.015625)\"/>\n",
              "      <path id=\"DejaVuSans-70\" d=\"M 1159 525 \n",
              "L 1159 -1331 \n",
              "L 581 -1331 \n",
              "L 581 3500 \n",
              "L 1159 3500 \n",
              "L 1159 2969 \n",
              "Q 1341 3281 1617 3432 \n",
              "Q 1894 3584 2278 3584 \n",
              "Q 2916 3584 3314 3078 \n",
              "Q 3713 2572 3713 1747 \n",
              "Q 3713 922 3314 415 \n",
              "Q 2916 -91 2278 -91 \n",
              "Q 1894 -91 1617 61 \n",
              "Q 1341 213 1159 525 \n",
              "z\n",
              "M 3116 1747 \n",
              "Q 3116 2381 2855 2742 \n",
              "Q 2594 3103 2138 3103 \n",
              "Q 1681 3103 1420 2742 \n",
              "Q 1159 2381 1159 1747 \n",
              "Q 1159 1113 1420 752 \n",
              "Q 1681 391 2138 391 \n",
              "Q 2594 391 2855 752 \n",
              "Q 3116 1113 3116 1747 \n",
              "z\n",
              "\" transform=\"scale(0.015625)\"/>\n",
              "      <path id=\"DejaVuSans-6c\" d=\"M 603 4863 \n",
              "L 1178 4863 \n",
              "L 1178 0 \n",
              "L 603 0 \n",
              "L 603 4863 \n",
              "z\n",
              "\" transform=\"scale(0.015625)\"/>\n",
              "     </defs>\n",
              "     <use xlink:href=\"#DejaVuSans-44\"/>\n",
              "     <use xlink:href=\"#DejaVuSans-61\" x=\"77.001953\"/>\n",
              "     <use xlink:href=\"#DejaVuSans-74\" x=\"138.28125\"/>\n",
              "     <use xlink:href=\"#DejaVuSans-61\" x=\"177.490234\"/>\n",
              "     <use xlink:href=\"#DejaVuSans-73\" x=\"238.769531\"/>\n",
              "     <use xlink:href=\"#DejaVuSans-65\" x=\"290.869141\"/>\n",
              "     <use xlink:href=\"#DejaVuSans-74\" x=\"352.392578\"/>\n",
              "     <use xlink:href=\"#DejaVuSans-20\" x=\"391.601562\"/>\n",
              "     <use xlink:href=\"#DejaVuSans-73\" x=\"423.388672\"/>\n",
              "     <use xlink:href=\"#DejaVuSans-61\" x=\"475.488281\"/>\n",
              "     <use xlink:href=\"#DejaVuSans-6d\" x=\"536.767578\"/>\n",
              "     <use xlink:href=\"#DejaVuSans-70\" x=\"634.179688\"/>\n",
              "     <use xlink:href=\"#DejaVuSans-6c\" x=\"697.65625\"/>\n",
              "     <use xlink:href=\"#DejaVuSans-65\" x=\"725.439453\"/>\n",
              "     <use xlink:href=\"#DejaVuSans-73\" x=\"786.962891\"/>\n",
              "    </g>\n",
              "   </g>\n",
              "   <g id=\"legend_1\">\n",
              "    <g id=\"patch_7\">\n",
              "     <path d=\"M 205.450312 150.994063 \n",
              "L 280.083594 150.994063 \n",
              "Q 282.283594 150.994063 282.283594 148.794063 \n",
              "L 282.283594 117.602188 \n",
              "Q 282.283594 115.402188 280.083594 115.402188 \n",
              "L 205.450312 115.402188 \n",
              "Q 203.250313 115.402188 203.250313 117.602188 \n",
              "L 203.250313 148.794063 \n",
              "Q 203.250313 150.994063 205.450312 150.994063 \n",
              "z\n",
              "\" style=\"fill: #eaeaf2; opacity: 0.8; stroke: #cccccc; stroke-linejoin: miter\"/>\n",
              "    </g>\n",
              "    <g id=\"PathCollection_3\">\n",
              "     <g>\n",
              "      <use xlink:href=\"#m4f003d4e34\" x=\"218.650313\" y=\"125.272969\" style=\"fill: #4c72b0; stroke: #333333\"/>\n",
              "     </g>\n",
              "    </g>\n",
              "    <g id=\"text_18\">\n",
              "     <!-- Class 0 -->\n",
              "     <g style=\"fill: #262626\" transform=\"translate(238.450313 128.160469) scale(0.11 -0.11)\">\n",
              "      <defs>\n",
              "       <path id=\"DejaVuSans-43\" d=\"M 4122 4306 \n",
              "L 4122 3641 \n",
              "Q 3803 3938 3442 4084 \n",
              "Q 3081 4231 2675 4231 \n",
              "Q 1875 4231 1450 3742 \n",
              "Q 1025 3253 1025 2328 \n",
              "Q 1025 1406 1450 917 \n",
              "Q 1875 428 2675 428 \n",
              "Q 3081 428 3442 575 \n",
              "Q 3803 722 4122 1019 \n",
              "L 4122 359 \n",
              "Q 3791 134 3420 21 \n",
              "Q 3050 -91 2638 -91 \n",
              "Q 1578 -91 968 557 \n",
              "Q 359 1206 359 2328 \n",
              "Q 359 3453 968 4101 \n",
              "Q 1578 4750 2638 4750 \n",
              "Q 3056 4750 3426 4639 \n",
              "Q 3797 4528 4122 4306 \n",
              "z\n",
              "\" transform=\"scale(0.015625)\"/>\n",
              "      </defs>\n",
              "      <use xlink:href=\"#DejaVuSans-43\"/>\n",
              "      <use xlink:href=\"#DejaVuSans-6c\" x=\"69.824219\"/>\n",
              "      <use xlink:href=\"#DejaVuSans-61\" x=\"97.607422\"/>\n",
              "      <use xlink:href=\"#DejaVuSans-73\" x=\"158.886719\"/>\n",
              "      <use xlink:href=\"#DejaVuSans-73\" x=\"210.986328\"/>\n",
              "      <use xlink:href=\"#DejaVuSans-20\" x=\"263.085938\"/>\n",
              "      <use xlink:href=\"#DejaVuSans-30\" x=\"294.873047\"/>\n",
              "     </g>\n",
              "    </g>\n",
              "    <g id=\"PathCollection_4\">\n",
              "     <g>\n",
              "      <use xlink:href=\"#m1fc964cc2d\" x=\"218.650313\" y=\"141.418906\" style=\"fill: #dd8452; stroke: #333333\"/>\n",
              "     </g>\n",
              "    </g>\n",
              "    <g id=\"text_19\">\n",
              "     <!-- Class 1 -->\n",
              "     <g style=\"fill: #262626\" transform=\"translate(238.450313 144.306406) scale(0.11 -0.11)\">\n",
              "      <use xlink:href=\"#DejaVuSans-43\"/>\n",
              "      <use xlink:href=\"#DejaVuSans-6c\" x=\"69.824219\"/>\n",
              "      <use xlink:href=\"#DejaVuSans-61\" x=\"97.607422\"/>\n",
              "      <use xlink:href=\"#DejaVuSans-73\" x=\"158.886719\"/>\n",
              "      <use xlink:href=\"#DejaVuSans-73\" x=\"210.986328\"/>\n",
              "      <use xlink:href=\"#DejaVuSans-20\" x=\"263.085938\"/>\n",
              "      <use xlink:href=\"#DejaVuSans-31\" x=\"294.873047\"/>\n",
              "     </g>\n",
              "    </g>\n",
              "   </g>\n",
              "  </g>\n",
              " </g>\n",
              " <defs>\n",
              "  <clipPath id=\"pe1d0b302d1\">\n",
              "   <rect x=\"66.023594\" y=\"22.318125\" width=\"221.76\" height=\"221.76\"/>\n",
              "  </clipPath>\n",
              " </defs>\n",
              "</svg>\n"
            ],
            "text/plain": [
              "<Figure size 2000x2000 with 1 Axes>"
            ]
          },
          "metadata": {},
          "output_type": "display_data"
        }
      ],
      "source": [
        "@torch.no_grad() # Decorator, same effect as \"with torch.no_grad(): ...\" over the whole function.\n",
        "def visualize_classification(model, data, label):\n",
        "    if isinstance(data, torch.Tensor):\n",
        "        data = data.cpu().numpy()\n",
        "    if isinstance(label, torch.Tensor):\n",
        "        label = label.cpu().numpy()\n",
        "    data_0 = data[label == 0]\n",
        "    data_1 = data[label == 1]\n",
        "    \n",
        "    fig = plt.figure(figsize=(4,4), dpi=500)\n",
        "    plt.scatter(data_0[:,0], data_0[:,1], edgecolor=\"#333\", label=\"Class 0\")\n",
        "    plt.scatter(data_1[:,0], data_1[:,1], edgecolor=\"#333\", label=\"Class 1\")\n",
        "    plt.title(\"Dataset samples\")\n",
        "    plt.ylabel(r\"$x_2$\")\n",
        "    plt.xlabel(r\"$x_1$\")\n",
        "    plt.legend()\n",
        "    \n",
        "    # Let's make use of a lot of operations we have learned above\n",
        "    model.to(device)\n",
        "    c0 = torch.Tensor(to_rgba(\"C0\")).to(device)\n",
        "    c1 = torch.Tensor(to_rgba(\"C1\")).to(device)\n",
        "    x1 = torch.arange(-0.5, 1.5, step=0.01, device=device)\n",
        "    x2 = torch.arange(-0.5, 1.5, step=0.01, device=device)\n",
        "    xx1, xx2 = torch.meshgrid(x1, x2, indexing='ij')  # Meshgrid function as in numpy\n",
        "    model_inputs = torch.stack([xx1, xx2], dim=-1)\n",
        "    preds = model(model_inputs)\n",
        "    preds = torch.sigmoid(preds)\n",
        "    output_image = (1 - preds) * c0[None,None] + preds * c1[None,None]  # Specifying \"None\" in a dimension creates a new one\n",
        "    output_image = output_image.cpu().numpy()  # Convert to numpy array. This only works for tensors on CPU, hence first push to CPU\n",
        "    plt.imshow(output_image, origin='lower', extent=(-0.5, 1.5, -0.5, 1.5))\n",
        "    plt.grid(False)\n",
        "    return fig\n",
        "\n",
        "_ = visualize_classification(model, dataset.data, dataset.label)\n",
        "plt.show()"
      ]
    },
    {
      "cell_type": "markdown",
      "metadata": {
        "id": "CGus2rMAQRbo"
      },
      "source": [
        "The decision boundaries might not look exactly as in the figure in the preamble of this section which can be caused by running it on CPU or a different GPU architecture. Nevertheless, the result on the accuracy metric should be the approximately the same. "
      ]
    },
    {
      "cell_type": "markdown",
      "metadata": {
        "id": "2ZtuskdgQRbo"
      },
      "source": [
        "## Additional features we didn't get to discuss yet\n",
        "\n",
        "Finally, you are all set to start with your own PyTorch project! In summary, we have looked at how we can build neural networks in PyTorch, and train and test them on data. However, there is still much more to PyTorch we haven't discussed yet. In the coming series of Jupyter notebooks, we will discover more and more functionalities of PyTorch, so that you also get familiar to PyTorch concepts beyond the basics. If you are already interested in learning more of PyTorch, we recommend the official [tutorial website](https://pytorch.org/tutorials/) that contains many tutorials on various topics. Especially logging with Tensorboard ([official tutorial here](https://pytorch.org/tutorials/intermediate/tensorboard_tutorial.html)) is a good practice that we will explore further from Tutorial 5 on in combination with PyTorch Lightning.\n",
        "Nonetheless, let's check it shortly out how we could use TensorBoard in our small example."
      ]
    },
    {
      "cell_type": "markdown",
      "metadata": {
        "id": "uutq6O7qQRbp"
      },
      "source": [
        "### TensorBoard logging\n",
        "\n",
        "TensorBoard is a logging and visualization tool that is a popular choice for training deep learning models. Although initially published for TensorFlow, TensorBoard is also integrated in PyTorch allowing us to easily use it. First, let's import it below."
      ]
    },
    {
      "cell_type": "code",
      "execution_count": null,
      "metadata": {
        "id": "C5UbBOI4QRbp"
      },
      "outputs": [],
      "source": [
        "# Import tensorboard logger from PyTorch\n",
        "from torch.utils.tensorboard import SummaryWriter\n",
        "\n",
        "# Load tensorboard extension for Jupyter Notebook, only need to start TB in the notebook\n",
        "%load_ext tensorboard"
      ]
    },
    {
      "cell_type": "markdown",
      "metadata": {
        "id": "MPeQIzxYQRbp"
      },
      "source": [
        "The last line is required if you want to run TensorBoard directly in the Jupyter Notebook. Otherwise, you can start TensorBoard from the terminal.\n",
        "\n",
        "PyTorch's TensorBoard API is simple to use. We start the logging process by creating a new object, `writer = SummaryWriter(...)`, where we specify the directory in which the logging file should be saved. With this object, we can log different aspects of our model by calling functions of the style `writer.add_...`. For example, we can visualize the computation graph with the function `writer.add_graph`, or add a scalar value like the loss with `writer.add_scalar`. Let's adapt our initial training function with adding a TensorBoard logger below."
      ]
    },
    {
      "cell_type": "code",
      "execution_count": null,
      "metadata": {
        "id": "FcaZHANvQRbp"
      },
      "outputs": [],
      "source": [
        "def train_model_with_logger(model, optimizer, data_loader, loss_module, val_dataset, num_epochs=100, logging_dir='runs/our_experiment'):\n",
        "    # Create TensorBoard logger\n",
        "    writer = SummaryWriter(logging_dir)\n",
        "    model_plotted = False\n",
        "    \n",
        "    # Set model to train mode\n",
        "    model.train() \n",
        "    \n",
        "    # Training loop\n",
        "    for epoch in tqdm(range(num_epochs)):\n",
        "        epoch_loss = 0.0\n",
        "        for data_inputs, data_labels in data_loader:\n",
        "            \n",
        "            ## Step 1: Move input data to device (only strictly necessary if we use GPU)\n",
        "            data_inputs = data_inputs.to(device)\n",
        "            data_labels = data_labels.to(device)\n",
        "            \n",
        "            # For the very first batch, we visualize the computation graph in TensorBoard\n",
        "            if not model_plotted:\n",
        "                writer.add_graph(model, data_inputs)\n",
        "                model_plotted = True\n",
        "            \n",
        "            ## Step 2: Run the model on the input data\n",
        "            preds = model(data_inputs)\n",
        "            preds = preds.squeeze(dim=1) # Output is [Batch size, 1], but we want [Batch size]\n",
        "            \n",
        "            ## Step 3: Calculate the loss\n",
        "            loss = loss_module(preds, data_labels.float())\n",
        "            \n",
        "            ## Step 4: Perform backpropagation\n",
        "            # Before calculating the gradients, we need to ensure that they are all zero. \n",
        "            # The gradients would not be overwritten, but actually added to the existing ones.\n",
        "            optimizer.zero_grad() \n",
        "            # Perform backpropagation\n",
        "            loss.backward()\n",
        "            \n",
        "            ## Step 5: Update the parameters\n",
        "            optimizer.step()\n",
        "            \n",
        "            ## Step 6: Take the running average of the loss\n",
        "            epoch_loss += loss.item()\n",
        "            \n",
        "        # Add average loss to TensorBoard\n",
        "        epoch_loss /= len(data_loader)\n",
        "        writer.add_scalar('training_loss',\n",
        "                          epoch_loss,\n",
        "                          global_step = epoch + 1)\n",
        "        \n",
        "        # Visualize prediction and add figure to TensorBoard\n",
        "        # Since matplotlib figures can be slow in rendering, we only do it every 10th epoch\n",
        "        if (epoch + 1) % 10 == 0:\n",
        "            fig = visualize_classification(model, val_dataset.data, val_dataset.label)\n",
        "            writer.add_figure('predictions',\n",
        "                              fig,\n",
        "                              global_step = epoch + 1)\n",
        "    \n",
        "    writer.close()"
      ]
    },
    {
      "cell_type": "markdown",
      "metadata": {
        "id": "4TyX9MWZQRbp"
      },
      "source": [
        "Let's use this method to train a model as before, with a new model and optimizer."
      ]
    },
    {
      "cell_type": "code",
      "execution_count": null,
      "metadata": {
        "colab": {
          "referenced_widgets": [
            "833e50b766e34e2ba3e97ca7b91b6703"
          ]
        },
        "id": "WbapSbWuQRbp",
        "outputId": "7733dbfd-d507-41f8-8294-fc157982d5ad"
      },
      "outputs": [
        {
          "data": {
            "application/vnd.jupyter.widget-view+json": {
              "model_id": "833e50b766e34e2ba3e97ca7b91b6703",
              "version_major": 2,
              "version_minor": 0
            },
            "text/plain": [
              "  0%|          | 0/100 [00:00<?, ?it/s]"
            ]
          },
          "metadata": {},
          "output_type": "display_data"
        }
      ],
      "source": [
        "model = SimpleClassifier(num_inputs=2, num_hidden=4, num_outputs=1).to(device)\n",
        "optimizer = torch.optim.SGD(model.parameters(), lr=0.1)\n",
        "train_model_with_logger(model, optimizer, train_data_loader, loss_module, val_dataset=dataset)"
      ]
    },
    {
      "cell_type": "markdown",
      "metadata": {
        "id": "CkYx9BdSQRbp"
      },
      "source": [
        "The TensorBoard file in the folder `runs/our_experiment` now contains a loss curve, the computation graph of our network, and a visualization of the learned predictions over number of epochs. To start the TensorBoard visualizer, simply run the following statement:"
      ]
    },
    {
      "cell_type": "code",
      "execution_count": null,
      "metadata": {
        "id": "XTFKalujQRbp"
      },
      "outputs": [],
      "source": [
        "%tensorboard --logdir runs/our_experiment"
      ]
    },
    {
      "cell_type": "markdown",
      "metadata": {
        "id": "Cp5vuEQ7QRbq"
      },
      "source": [
        "<center><img src=\"https://github.com/LiuBodan/uvadlc_notebooks/blob/master/docs/tutorial_notebooks/tutorial2/tensorboard_screenshot.png?raw=1\" width=\"1100px\"></center>\n",
        "\n",
        "TensorBoard visualizations can help to identify possible issues with your model, and identify situations such as overfitting. You can also track the training progress while a model is training, since the logger automatically writes everything added to it to the logging file. Feel free to explore the TensorBoard functionalities, and we will make use of TensorBoards a couple of times from Tutorial 5 on."
      ]
    },
    {
      "cell_type": "markdown",
      "metadata": {
        "id": "DI1DeX56QRbq"
      },
      "source": [
        "---\n",
        "\n",
        "[![Star our repository](https://img.shields.io/static/v1.svg?logo=star&label=⭐&message=Star%20Our%20Repository&color=yellow)](https://github.com/phlippe/uvadlc_notebooks/)  If you found this tutorial helpful, consider ⭐-ing our repository.    \n",
        "[![Ask questions](https://img.shields.io/static/v1.svg?logo=star&label=❔&message=Ask%20Questions&color=9cf)](https://github.com/phlippe/uvadlc_notebooks/issues)  For any questions, typos, or bugs that you found, please raise an issue on GitHub. \n",
        "\n",
        "---"
      ]
    }
  ],
  "metadata": {
    "kernelspec": {
      "display_name": "Python 3 (ipykernel)",
      "language": "python",
      "name": "python3"
    },
    "language_info": {
      "codemirror_mode": {
        "name": "ipython",
        "version": 3
      },
      "file_extension": ".py",
      "mimetype": "text/x-python",
      "name": "python",
      "nbconvert_exporter": "python",
      "pygments_lexer": "ipython3",
      "version": "3.10.6"
    },
    "colab": {
      "provenance": []
    }
  },
  "nbformat": 4,
  "nbformat_minor": 0
}